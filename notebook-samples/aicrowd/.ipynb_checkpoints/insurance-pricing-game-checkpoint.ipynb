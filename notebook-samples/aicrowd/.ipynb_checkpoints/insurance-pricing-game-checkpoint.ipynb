{
 "cells": [
  {
   "cell_type": "markdown",
   "metadata": {},
   "source": [
    "# Insurance Pricing Game\n",
    "### AIcrowd\n",
    "\n",
    "[Challenge Link](https://www.aicrowd.com/challenges/insurance-pricing-game)"
   ]
  },
  {
   "cell_type": "code",
   "execution_count": 1,
   "metadata": {},
   "outputs": [],
   "source": [
    "%load_ext dotenv\n",
    "%dotenv"
   ]
  },
  {
   "cell_type": "code",
   "execution_count": 3,
   "metadata": {},
   "outputs": [],
   "source": [
    "from os import environ\n",
    "from pathlib import Path\n",
    "from subprocess import Popen, PIPE\n",
    "# from dotenv import load_dotenv\n",
    "from typing import List, Optional, Union\n",
    "\n",
    "# AIcrowd challenge\n",
    "CHALLENGE = \"insurance-pricing-game\"\n",
    "\n",
    "# Load .env\n",
    "# load_dotenv()\n",
    "\n",
    "\n",
    "def execute_command(command: str) -> int:\n",
    "    process = Popen(command, stdout=PIPE, shell=True)\n",
    "\n",
    "    def print_output(handle):\n",
    "        if handle is not None:\n",
    "            output = handle.readline()\n",
    "            if output:\n",
    "                print(output.decode().strip())\n",
    "\n",
    "    while True:\n",
    "        if process.poll() is not None:\n",
    "            break\n",
    "        print_output(process.stdout)\n",
    "        print_output(process.stderr)\n",
    "    rc = process.poll()\n",
    "    return rc\n",
    "\n",
    "\n",
    "def check_data_dir() -> None:\n",
    "    \"\"\"Check if DATA_DIR exists; If not, create it.\"\"\"\n",
    "    _dd = Path().joinpath(environ[\"DATA_DIR\"])\n",
    "    if not _dd.exists():\n",
    "        _dd.mkdir()\n",
    "    \n"
   ]
  },
  {
   "cell_type": "code",
   "execution_count": 5,
   "metadata": {},
   "outputs": [
    {
     "name": "stdout",
     "output_type": "stream",
     "text": [
      "API Key valid\n",
      "Saved API Key successfully!\n",
      "Error in downloading dataset https://datasets.aicrowd.com/default/aicrowd-private-datasets/insurance-pricing-game/public/training_v0.2.csv\n",
      "Error in downloading dataset https://datasets.aicrowd.com/default/aicrowd-private-datasets/insurance-pricing-game/public/training.csv\n",
      "Error in downloading dataset https://datasets.aicrowd.com/default/aicrowd-private-datasets/insurance-pricing-game/public/training.csv\n"
     ]
    }
   ],
   "source": [
    "# Login to AIcrowd account\n",
    "g = execute_command(\"aicrowd login\")\n",
    "\n",
    "if g == 0:\n",
    "    check_data_dir()\n",
    "    # Get training data\n",
    "    q = execute_command(f\"aicrowd dataset download  -c {CHALLENGE} -o {environ['DATA_DIR']} -j 2\")"
   ]
  },
  {
   "cell_type": "code",
   "execution_count": null,
   "metadata": {},
   "outputs": [],
   "source": [
    "#TODO: Welp, files don't download, so figuring out why might be good."
   ]
  }
 ],
 "metadata": {
  "kernelspec": {
   "display_name": "Python 3",
   "language": "python",
   "name": "python3"
  },
  "language_info": {
   "codemirror_mode": {
    "name": "ipython",
    "version": 3
   },
   "file_extension": ".py",
   "mimetype": "text/x-python",
   "name": "python",
   "nbconvert_exporter": "python",
   "pygments_lexer": "ipython3",
   "version": "3.7.4"
  }
 },
 "nbformat": 4,
 "nbformat_minor": 2
}
