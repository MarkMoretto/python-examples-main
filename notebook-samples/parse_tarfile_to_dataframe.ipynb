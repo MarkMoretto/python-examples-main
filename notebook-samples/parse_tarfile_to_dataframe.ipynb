{
 "cells": [
  {
   "cell_type": "markdown",
   "metadata": {},
   "source": [
    "### Convert tarfile (*.tgz, *.tar.gz) to pandas DataFrame\n",
    "\n",
    "This is a demo of getting and parsing California Housing Data from the following website to a pandas DataFrame object.\n",
    "URL: https://www.dcc.fc.up.pt/~ltorgo/Regression/cal_housing.html\n",
    "\n",
    "The tgz file contained a folder with two files (folder/filename):\n",
    "    * CaliforniaHousing/cal_housing.data\n",
    "    * CaliforniaHousing/cal_housing.domain\n",
    "    \n",
    "The `.data` file contains the core data we're after and the `.domain` file contains column names and data types in a colon-separated list."
   ]
  },
  {
   "cell_type": "code",
   "execution_count": 1,
   "metadata": {},
   "outputs": [],
   "source": [
    "# Standard library imports\n",
    "import tarfile\n",
    "from io import BytesIO\n",
    "import urllib.request as ureq\n",
    "\n",
    "# Third-party library import\n",
    "import pandas as pd\n",
    "\n",
    "# Target url\n",
    "tar_url = \"https://www.dcc.fc.up.pt/~ltorgo/Regression/cal_housing.tgz\""
   ]
  },
  {
   "cell_type": "markdown",
   "metadata": {},
   "source": [
    "We'll use `.urlopen()` from `urllib.request` to bring our data into a `BytesIO` object.\n",
    "\n",
    "**Note**: We'll need to 'reset' the stream posiiton to the start after creating the `BytesIO` object by seeking position zero."
   ]
  },
  {
   "cell_type": "code",
   "execution_count": 3,
   "metadata": {},
   "outputs": [
    {
     "data": {
      "text/plain": [
       "0"
      ]
     },
     "execution_count": 3,
     "metadata": {},
     "output_type": "execute_result"
    }
   ],
   "source": [
    "with ureq.urlopen(tar_url) as resp:\n",
    "    bio = BytesIO(resp.read())\n",
    "\n",
    "bio.seek(0) # Change stream position to start of the stream."
   ]
  },
  {
   "cell_type": "markdown",
   "metadata": {},
   "source": [
    "We'll open our tarfile by passing the BytesIO object to the fileobj parameter in tarfile.open().  All other parameters remain at their default settings.\n",
    "\n",
    "Once opened, since we know which files to look for, we can set variables to those results.  We'll then:\n",
    "    * extract the file into memory\n",
    "    * read the file data\n",
    "    * decode into unicode\n",
    "\n",
    "**Note**: If we didn't know the name of the files, we could just add in a print(f.name) section to the top of the for-loop method."
   ]
  },
  {
   "cell_type": "code",
   "execution_count": 4,
   "metadata": {},
   "outputs": [],
   "source": [
    "tar = tarfile.open(fileobj=bio)\n",
    "\n",
    "for f in tar:\n",
    "    if str(f.name).endswith(\".domain\"):\n",
    "        col_data = tar.extractfile(f.name).read().decode(\"utf-8\")\n",
    "    elif str(f.name).endswith(\".data\"):\n",
    "        body_data = tar.extractfile(f.name).read().decode(\"utf-8\")"
   ]
  },
  {
   "cell_type": "code",
   "execution_count": 5,
   "metadata": {},
   "outputs": [
    {
     "name": "stdout",
     "output_type": "stream",
     "text": [
      "longitude: continuous.\n",
      "latitude: continuous.\n",
      "housingMedianAge: continuous. \n",
      "totalRooms: continuous. \n",
      "totalBedrooms: continuous. \n",
      "population: continuous. \n",
      "households: continuous. \n",
      "medianIncome: continuous. \n",
      "medianHouseValue: continuous. \n",
      "\n"
     ]
    }
   ],
   "source": [
    "# Column data\n",
    "print(col_data)"
   ]
  },
  {
   "cell_type": "markdown",
   "metadata": {},
   "source": [
    "We'll split up our column data and then create an enumerated dictionary to update names in our pandas DataFrame once that is processed."
   ]
  },
  {
   "cell_type": "code",
   "execution_count": 8,
   "metadata": {},
   "outputs": [
    {
     "name": "stdout",
     "output_type": "stream",
     "text": [
      "0: longitude\n",
      "1: latitude\n",
      "2: housingMedianAge\n",
      "3: totalRooms\n",
      "4: totalBedrooms\n",
      "5: population\n",
      "6: households\n",
      "7: medianIncome\n",
      "8: medianHouseValue\n"
     ]
    }
   ],
   "source": [
    "cols = [i.split(\":\")[0] for i in col_data.strip().split(\"\\n\")]\n",
    "col_dict = {k:v for k, v in enumerate(cols)}\n",
    "print(\"\\n\".join([f\"{k}: {v}\" for k,v in col_dict.items()]))"
   ]
  },
  {
   "cell_type": "markdown",
   "metadata": {},
   "source": [
    "For our core data, we'll just strip off any whitespace at the start or end of the string and split each line since values are already separated by commas."
   ]
  },
  {
   "cell_type": "code",
   "execution_count": 11,
   "metadata": {},
   "outputs": [
    {
     "name": "stdout",
     "output_type": "stream",
     "text": [
      "-122.230000,37.880000,41.000000,880.000000,129.000000,322.000000,126.000000,8.325200,452600.000000\n",
      "-122.220000,37.860000,21.000000,7099.000000,1106.000000,2401.000000,1138.000000,8.301400,358500.000000\n"
     ]
    }
   ],
   "source": [
    "lines = body_data.strip().split(\"\\n\")\n",
    "print(\"\\n\".join(lines[:2]))"
   ]
  },
  {
   "cell_type": "markdown",
   "metadata": {},
   "source": [
    "We can then create a DataFrame from that data.\n",
    "\n",
    "Because all of the data ends up in the first column, we will split the data into new columns by each comma.  The column count of nine should align with our column dictionar (`col_dict`) and we can then rename each column based on mapping the key values to the initial column names."
   ]
  },
  {
   "cell_type": "code",
   "execution_count": 16,
   "metadata": {},
   "outputs": [
    {
     "data": {
      "text/html": [
       "<div>\n",
       "<style scoped>\n",
       "    .dataframe tbody tr th:only-of-type {\n",
       "        vertical-align: middle;\n",
       "    }\n",
       "\n",
       "    .dataframe tbody tr th {\n",
       "        vertical-align: top;\n",
       "    }\n",
       "\n",
       "    .dataframe thead th {\n",
       "        text-align: right;\n",
       "    }\n",
       "</style>\n",
       "<table border=\"1\" class=\"dataframe\">\n",
       "  <thead>\n",
       "    <tr style=\"text-align: right;\">\n",
       "      <th></th>\n",
       "      <th>0</th>\n",
       "    </tr>\n",
       "  </thead>\n",
       "  <tbody>\n",
       "    <tr>\n",
       "      <th>0</th>\n",
       "      <td>-122.230000,37.880000,41.000000,880.000000,129...</td>\n",
       "    </tr>\n",
       "    <tr>\n",
       "      <th>1</th>\n",
       "      <td>-122.220000,37.860000,21.000000,7099.000000,11...</td>\n",
       "    </tr>\n",
       "    <tr>\n",
       "      <th>2</th>\n",
       "      <td>-122.240000,37.850000,52.000000,1467.000000,19...</td>\n",
       "    </tr>\n",
       "    <tr>\n",
       "      <th>3</th>\n",
       "      <td>-122.250000,37.850000,52.000000,1274.000000,23...</td>\n",
       "    </tr>\n",
       "    <tr>\n",
       "      <th>4</th>\n",
       "      <td>-122.250000,37.850000,52.000000,1627.000000,28...</td>\n",
       "    </tr>\n",
       "  </tbody>\n",
       "</table>\n",
       "</div>"
      ],
      "text/plain": [
       "                                                   0\n",
       "0  -122.230000,37.880000,41.000000,880.000000,129...\n",
       "1  -122.220000,37.860000,21.000000,7099.000000,11...\n",
       "2  -122.240000,37.850000,52.000000,1467.000000,19...\n",
       "3  -122.250000,37.850000,52.000000,1274.000000,23...\n",
       "4  -122.250000,37.850000,52.000000,1627.000000,28..."
      ]
     },
     "execution_count": 16,
     "metadata": {},
     "output_type": "execute_result"
    }
   ],
   "source": [
    "df = pd.DataFrame(lines)\n",
    "df.head()"
   ]
  },
  {
   "cell_type": "code",
   "execution_count": 17,
   "metadata": {},
   "outputs": [],
   "source": [
    "df = (df.iloc[:, 0] # Fancy way of selecting the first indexed column\n",
    "      .str.split(\",\", expand=True) # Split by comma. Don't forget the '.str' part first!\n",
    "      .rename(columns=col_dict) # Map our new column names\n",
    "     )"
   ]
  },
  {
   "cell_type": "markdown",
   "metadata": {},
   "source": [
    "Then, we can take a look at the first few rows of our data to visually inspect results and validate the information.\n",
    "\n",
    "For example, if totalBedrooms ended up being the first column name, we might guess that that is incorrect based on the negative value and the mantissa value being greater than zero."
   ]
  },
  {
   "cell_type": "code",
   "execution_count": 19,
   "metadata": {},
   "outputs": [
    {
     "data": {
      "text/html": [
       "<div>\n",
       "<style scoped>\n",
       "    .dataframe tbody tr th:only-of-type {\n",
       "        vertical-align: middle;\n",
       "    }\n",
       "\n",
       "    .dataframe tbody tr th {\n",
       "        vertical-align: top;\n",
       "    }\n",
       "\n",
       "    .dataframe thead th {\n",
       "        text-align: right;\n",
       "    }\n",
       "</style>\n",
       "<table border=\"1\" class=\"dataframe\">\n",
       "  <thead>\n",
       "    <tr style=\"text-align: right;\">\n",
       "      <th></th>\n",
       "      <th>longitude</th>\n",
       "      <th>latitude</th>\n",
       "      <th>housingMedianAge</th>\n",
       "      <th>totalRooms</th>\n",
       "      <th>totalBedrooms</th>\n",
       "      <th>population</th>\n",
       "      <th>households</th>\n",
       "      <th>medianIncome</th>\n",
       "      <th>medianHouseValue</th>\n",
       "    </tr>\n",
       "  </thead>\n",
       "  <tbody>\n",
       "    <tr>\n",
       "      <th>0</th>\n",
       "      <td>-122.230000</td>\n",
       "      <td>37.880000</td>\n",
       "      <td>41.000000</td>\n",
       "      <td>880.000000</td>\n",
       "      <td>129.000000</td>\n",
       "      <td>322.000000</td>\n",
       "      <td>126.000000</td>\n",
       "      <td>8.325200</td>\n",
       "      <td>452600.000000</td>\n",
       "    </tr>\n",
       "    <tr>\n",
       "      <th>1</th>\n",
       "      <td>-122.220000</td>\n",
       "      <td>37.860000</td>\n",
       "      <td>21.000000</td>\n",
       "      <td>7099.000000</td>\n",
       "      <td>1106.000000</td>\n",
       "      <td>2401.000000</td>\n",
       "      <td>1138.000000</td>\n",
       "      <td>8.301400</td>\n",
       "      <td>358500.000000</td>\n",
       "    </tr>\n",
       "    <tr>\n",
       "      <th>2</th>\n",
       "      <td>-122.240000</td>\n",
       "      <td>37.850000</td>\n",
       "      <td>52.000000</td>\n",
       "      <td>1467.000000</td>\n",
       "      <td>190.000000</td>\n",
       "      <td>496.000000</td>\n",
       "      <td>177.000000</td>\n",
       "      <td>7.257400</td>\n",
       "      <td>352100.000000</td>\n",
       "    </tr>\n",
       "    <tr>\n",
       "      <th>3</th>\n",
       "      <td>-122.250000</td>\n",
       "      <td>37.850000</td>\n",
       "      <td>52.000000</td>\n",
       "      <td>1274.000000</td>\n",
       "      <td>235.000000</td>\n",
       "      <td>558.000000</td>\n",
       "      <td>219.000000</td>\n",
       "      <td>5.643100</td>\n",
       "      <td>341300.000000</td>\n",
       "    </tr>\n",
       "    <tr>\n",
       "      <th>4</th>\n",
       "      <td>-122.250000</td>\n",
       "      <td>37.850000</td>\n",
       "      <td>52.000000</td>\n",
       "      <td>1627.000000</td>\n",
       "      <td>280.000000</td>\n",
       "      <td>565.000000</td>\n",
       "      <td>259.000000</td>\n",
       "      <td>3.846200</td>\n",
       "      <td>342200.000000</td>\n",
       "    </tr>\n",
       "  </tbody>\n",
       "</table>\n",
       "</div>"
      ],
      "text/plain": [
       "     longitude   latitude housingMedianAge   totalRooms totalBedrooms  \\\n",
       "0  -122.230000  37.880000        41.000000   880.000000    129.000000   \n",
       "1  -122.220000  37.860000        21.000000  7099.000000   1106.000000   \n",
       "2  -122.240000  37.850000        52.000000  1467.000000    190.000000   \n",
       "3  -122.250000  37.850000        52.000000  1274.000000    235.000000   \n",
       "4  -122.250000  37.850000        52.000000  1627.000000    280.000000   \n",
       "\n",
       "    population   households medianIncome medianHouseValue  \n",
       "0   322.000000   126.000000     8.325200    452600.000000  \n",
       "1  2401.000000  1138.000000     8.301400    358500.000000  \n",
       "2   496.000000   177.000000     7.257400    352100.000000  \n",
       "3   558.000000   219.000000     5.643100    341300.000000  \n",
       "4   565.000000   259.000000     3.846200    342200.000000  "
      ]
     },
     "execution_count": 19,
     "metadata": {},
     "output_type": "execute_result"
    }
   ],
   "source": [
    "df.head()"
   ]
  },
  {
   "cell_type": "markdown",
   "metadata": {},
   "source": [
    "### Misc. Metrics\n",
    "While not an imperative portion of this notebook, unless you're 100% certain of what you're dealing with, it's usually a good idea to do some exploratory analysis of the data.\n",
    "\n",
    "Let's first check to see if we have any missing values."
   ]
  },
  {
   "cell_type": "code",
   "execution_count": 20,
   "metadata": {},
   "outputs": [
    {
     "data": {
      "text/plain": [
       "longitude           0\n",
       "latitude            0\n",
       "housingMedianAge    0\n",
       "totalRooms          0\n",
       "totalBedrooms       0\n",
       "population          0\n",
       "households          0\n",
       "medianIncome        0\n",
       "medianHouseValue    0\n",
       "dtype: int64"
      ]
     },
     "execution_count": 20,
     "metadata": {},
     "output_type": "execute_result"
    }
   ],
   "source": [
    "df.isna().sum()"
   ]
  },
  {
   "cell_type": "markdown",
   "metadata": {},
   "source": [
    "Then, let's check our data types.  We'll want to convert non-numeric values to float for evaluating any further metrics."
   ]
  },
  {
   "cell_type": "code",
   "execution_count": 22,
   "metadata": {},
   "outputs": [
    {
     "data": {
      "text/plain": [
       "longitude           object\n",
       "latitude            object\n",
       "housingMedianAge    object\n",
       "totalRooms          object\n",
       "totalBedrooms       object\n",
       "population          object\n",
       "households          object\n",
       "medianIncome        object\n",
       "medianHouseValue    object\n",
       "dtype: object"
      ]
     },
     "execution_count": 22,
     "metadata": {},
     "output_type": "execute_result"
    }
   ],
   "source": [
    "df.dtypes"
   ]
  },
  {
   "cell_type": "code",
   "execution_count": 23,
   "metadata": {},
   "outputs": [
    {
     "data": {
      "text/plain": [
       "longitude           float64\n",
       "latitude            float64\n",
       "housingMedianAge    float64\n",
       "totalRooms          float64\n",
       "totalBedrooms       float64\n",
       "population          float64\n",
       "households          float64\n",
       "medianIncome        float64\n",
       "medianHouseValue    float64\n",
       "dtype: object"
      ]
     },
     "execution_count": 23,
     "metadata": {},
     "output_type": "execute_result"
    }
   ],
   "source": [
    "for col in df.columns:\n",
    "    df[col] = df[col].astype(float)\n",
    "\n",
    "df.dtypes  "
   ]
  },
  {
   "cell_type": "markdown",
   "metadata": {},
   "source": [
    "Now, we can check out other descriptive measures for each numeric column pretty easily in pandas using `.describe()`.\n",
    "\n",
    "For this demo, we can skip over latitude and longitude columns."
   ]
  },
  {
   "cell_type": "code",
   "execution_count": 29,
   "metadata": {},
   "outputs": [
    {
     "data": {
      "text/html": [
       "<div>\n",
       "<style scoped>\n",
       "    .dataframe tbody tr th:only-of-type {\n",
       "        vertical-align: middle;\n",
       "    }\n",
       "\n",
       "    .dataframe tbody tr th {\n",
       "        vertical-align: top;\n",
       "    }\n",
       "\n",
       "    .dataframe thead th {\n",
       "        text-align: right;\n",
       "    }\n",
       "</style>\n",
       "<table border=\"1\" class=\"dataframe\">\n",
       "  <thead>\n",
       "    <tr style=\"text-align: right;\">\n",
       "      <th></th>\n",
       "      <th>mean</th>\n",
       "      <th>std</th>\n",
       "      <th>min</th>\n",
       "      <th>25%</th>\n",
       "      <th>50%</th>\n",
       "      <th>75%</th>\n",
       "      <th>max</th>\n",
       "    </tr>\n",
       "  </thead>\n",
       "  <tbody>\n",
       "    <tr>\n",
       "      <th>housingMedianAge</th>\n",
       "      <td>28.639486</td>\n",
       "      <td>12.585558</td>\n",
       "      <td>1.0000</td>\n",
       "      <td>18.0000</td>\n",
       "      <td>29.0000</td>\n",
       "      <td>37.00000</td>\n",
       "      <td>52.0000</td>\n",
       "    </tr>\n",
       "    <tr>\n",
       "      <th>totalRooms</th>\n",
       "      <td>2635.763081</td>\n",
       "      <td>2181.615252</td>\n",
       "      <td>2.0000</td>\n",
       "      <td>1447.7500</td>\n",
       "      <td>2127.0000</td>\n",
       "      <td>3148.00000</td>\n",
       "      <td>39320.0000</td>\n",
       "    </tr>\n",
       "    <tr>\n",
       "      <th>totalBedrooms</th>\n",
       "      <td>537.898014</td>\n",
       "      <td>421.247906</td>\n",
       "      <td>1.0000</td>\n",
       "      <td>295.0000</td>\n",
       "      <td>435.0000</td>\n",
       "      <td>647.00000</td>\n",
       "      <td>6445.0000</td>\n",
       "    </tr>\n",
       "    <tr>\n",
       "      <th>population</th>\n",
       "      <td>1425.476744</td>\n",
       "      <td>1132.462122</td>\n",
       "      <td>3.0000</td>\n",
       "      <td>787.0000</td>\n",
       "      <td>1166.0000</td>\n",
       "      <td>1725.00000</td>\n",
       "      <td>35682.0000</td>\n",
       "    </tr>\n",
       "    <tr>\n",
       "      <th>households</th>\n",
       "      <td>499.539680</td>\n",
       "      <td>382.329753</td>\n",
       "      <td>1.0000</td>\n",
       "      <td>280.0000</td>\n",
       "      <td>409.0000</td>\n",
       "      <td>605.00000</td>\n",
       "      <td>6082.0000</td>\n",
       "    </tr>\n",
       "    <tr>\n",
       "      <th>medianIncome</th>\n",
       "      <td>3.870671</td>\n",
       "      <td>1.899822</td>\n",
       "      <td>0.4999</td>\n",
       "      <td>2.5634</td>\n",
       "      <td>3.5348</td>\n",
       "      <td>4.74325</td>\n",
       "      <td>15.0001</td>\n",
       "    </tr>\n",
       "    <tr>\n",
       "      <th>medianHouseValue</th>\n",
       "      <td>206855.816909</td>\n",
       "      <td>115395.615874</td>\n",
       "      <td>14999.0000</td>\n",
       "      <td>119600.0000</td>\n",
       "      <td>179700.0000</td>\n",
       "      <td>264725.00000</td>\n",
       "      <td>500001.0000</td>\n",
       "    </tr>\n",
       "  </tbody>\n",
       "</table>\n",
       "</div>"
      ],
      "text/plain": [
       "                           mean            std         min          25%  \\\n",
       "housingMedianAge      28.639486      12.585558      1.0000      18.0000   \n",
       "totalRooms          2635.763081    2181.615252      2.0000    1447.7500   \n",
       "totalBedrooms        537.898014     421.247906      1.0000     295.0000   \n",
       "population          1425.476744    1132.462122      3.0000     787.0000   \n",
       "households           499.539680     382.329753      1.0000     280.0000   \n",
       "medianIncome           3.870671       1.899822      0.4999       2.5634   \n",
       "medianHouseValue  206855.816909  115395.615874  14999.0000  119600.0000   \n",
       "\n",
       "                          50%           75%          max  \n",
       "housingMedianAge      29.0000      37.00000      52.0000  \n",
       "totalRooms          2127.0000    3148.00000   39320.0000  \n",
       "totalBedrooms        435.0000     647.00000    6445.0000  \n",
       "population          1166.0000    1725.00000   35682.0000  \n",
       "households           409.0000     605.00000    6082.0000  \n",
       "medianIncome           3.5348       4.74325      15.0001  \n",
       "medianHouseValue  179700.0000  264725.00000  500001.0000  "
      ]
     },
     "execution_count": 29,
     "metadata": {},
     "output_type": "execute_result"
    }
   ],
   "source": [
    "no_latlong_cols = [i for i in df.columns if not i in [\"longitude\", \"latitude\"]]\n",
    "df_desc = df.loc[:,no_latlong_cols].describe().T\n",
    "n = df_desc.loc[\"totalRooms\", \"count\"]\n",
    "df_desc.drop(\"count\", axis=1, inplace=True)\n",
    "df_desc"
   ]
  }
 ],
 "metadata": {
  "kernelspec": {
   "display_name": "Python 3",
   "language": "python",
   "name": "python3"
  },
  "language_info": {
   "codemirror_mode": {
    "name": "ipython",
    "version": 3
   },
   "file_extension": ".py",
   "mimetype": "text/x-python",
   "name": "python",
   "nbconvert_exporter": "python",
   "pygments_lexer": "ipython3",
   "version": "3.7.4"
  }
 },
 "nbformat": 4,
 "nbformat_minor": 2
}
