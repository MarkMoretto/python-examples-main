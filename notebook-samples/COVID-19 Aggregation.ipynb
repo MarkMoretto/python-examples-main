{
 "cells": [
  {
   "cell_type": "markdown",
   "metadata": {},
   "source": [
    "## COVID-19 Data Aggregation\n",
    "Getting a combining COVID-19 data from different sources"
   ]
  },
  {
   "cell_type": "code",
   "execution_count": 1,
   "metadata": {},
   "outputs": [],
   "source": [
    "import os\n",
    "\n",
    "project_folder = os.getcwd()\n",
    "\n",
    "# Path to chromedriver\n",
    "driver_pth = rf\"{project_folder}\\assets\\chromedriver.exe\"\n",
    "# chrome_path = r\"C:\\Program Files (x86)\\Google\\Chrome\\Application\"\n",
    "os.environ[\"PATH\"] = os.environ[\"PATH\"] + f\";{driver_pth}\""
   ]
  },
  {
   "cell_type": "code",
   "execution_count": 2,
   "metadata": {},
   "outputs": [],
   "source": [
    "import json\n",
    "import pandas as pd\n",
    "import urllib.request as ureq\n",
    "from datetime import datetime as dt\n",
    "\n",
    "\n",
    "from selenium import webdriver\n",
    "from selenium.webdriver.common.by import By\n",
    "from selenium.webdriver.support.ui import WebDriverWait as wdw\n",
    "from selenium.webdriver.support import expected_conditions as expcnd"
   ]
  },
  {
   "cell_type": "markdown",
   "metadata": {},
   "source": [
    "#### Check to see if our csv-files folder exists; Create one if not."
   ]
  },
  {
   "cell_type": "code",
   "execution_count": 3,
   "metadata": {},
   "outputs": [],
   "source": [
    "csv_folder = rf\"{project_folder}\\csv-files\"\n",
    "if not os.path.exists(csv_folder):\n",
    "    os.mkdir(csv_folder)"
   ]
  },
  {
   "cell_type": "code",
   "execution_count": null,
   "metadata": {},
   "outputs": [],
   "source": [
    "class Source:\n",
    "    \"\"\"\n",
    "    Data Structure to set three common variables with\n",
    "    the capacity for ad-hoc key-value pairs.\n",
    "    \"\"\"\n",
    "    def __init__(self, site, csv_name, **kwargs):\n",
    "        self.site = site\n",
    "        self.csv_name = csv_name\n",
    "        self.project_folder = os.getcwd()\n",
    "        self.__set_path(csv_name)\n",
    "        self.__dict__.update(kwargs)\n",
    "\n",
    "\n",
    "    def __set_path(self, value):\n",
    "        self.csv_path = rf\"{project_folder}\\csv-files\\{value}.csv\""
   ]
  },
  {
   "cell_type": "markdown",
   "metadata": {},
   "source": [
    "#### Source: New York Times\n",
    "URL: https://www.nytimes.com/interactive/2020/us/coronavirus-us-cases.html"
   ]
  },
  {
   "cell_type": "code",
   "execution_count": null,
   "metadata": {},
   "outputs": [],
   "source": [
    "# Create small structure to hold variables.\n",
    "nyt = Source(\n",
    "    site = \"nyt\",\n",
    "    csv_name = \"CasesByState\",\n",
    "    url = \"https://www.nytimes.com/interactive/2020/us/coronavirus-us-cases.html\",\n",
    "    )\n",
    "\n",
    "def process_df(dataframe):\n",
    "    col_dict = {k:v.lower() for k, v in enumerate(dataframe.loc[0].values)}\n",
    "    dataframe = dataframe.rename(columns=col_dict)\n",
    "    dataframe.drop(0, inplace=True)\n",
    "    dataframe = dataframe.reset_index(drop=True)\n",
    "    return dataframe\n",
    "\n",
    "def scrape_nyt():\n",
    "    data_list = list()\n",
    "    with webdriver.Chrome() as chdriver:\n",
    "        chdriver.get(nyt.url)\n",
    "\n",
    "        btn_show_more = wdw(chdriver, 10) \\\n",
    "                            .until(expcnd.presence_of_element_located((By.CSS_SELECTOR,\"#g-cases-by-state button[class^='svelte']\")))\n",
    "    \n",
    "        chdriver.execute_script(\"arguments[0].click()\", btn_show_more)\n",
    "        for element in wdw(chdriver, 10).until(expcnd.presence_of_all_elements_located((By.CSS_SELECTOR,\"#g-cases-by-state table[class^='svelte'] tr\"))):\n",
    "            tbl_data = [i.text for i in element.find_elements_by_css_selector(\"th,td\")]\n",
    "            data_list.append(tbl_data)\n",
    "\n",
    "    if len(data_list) > 0:\n",
    "        df1 = pd.DataFrame(data_list)\n",
    "        return process_df(df1)\n",
    "\n",
    "def run_nyt(testing=False):\n",
    "    df = scrape_nyt()\n",
    "    df[\"date_retrieved\"] = pd.to_datetime(dt.now()).strftime(\"%Y-%m-%d\")\n",
    "    df[\"source\"] = nyt.site\n",
    "    \n",
    "    if testing:\n",
    "        return df\n",
    "    else:\n",
    "        # Append to csv document (not happening in this notebook)\n",
    "        with open(nyt.csv_path, mode=\"a\", encoding=\"utf-8\", newline=\"\\n\") as f:\n",
    "            df.to_csv(f, index=False, header=f.tell()==0, line_terminator=\"\\n\", encoding=\"utf-8\")\n",
    "            "
   ]
  },
  {
   "cell_type": "code",
   "execution_count": null,
   "metadata": {},
   "outputs": [],
   "source": [
    "df = run_nyt(True)\n",
    "df.head()"
   ]
  },
  {
   "cell_type": "markdown",
   "metadata": {},
   "source": [
    "#### CDC Daily Cumulative US Cases\n",
    "URL: https://www.cdc.gov/coronavirus/2019-ncov/cases-updates/cases-in-us.html"
   ]
  },
  {
   "cell_type": "code",
   "execution_count": null,
   "metadata": {},
   "outputs": [],
   "source": [
    "cdc_cumul = Source(\n",
    "    site = \"cdc_gov\",\n",
    "    csv_name = \"DailyAccumulatedCases\",\n",
    "    url = \"https://www.cdc.gov/coronavirus/2019-ncov/cases-updates/total-cases-onset.json\",\n",
    "    )\n",
    "\n",
    "def run_cdc_cumul(testing=False):\n",
    "    with ureq.urlopen(cdc_cumul.url) as resp:\n",
    "        data = resp.read().decode(\"utf-8\")\n",
    "    \n",
    "    json_data =  json.loads(data)\n",
    "    core_data = json_data.get(\"data\").get(\"columns\")\n",
    "    dates = core_data[0][1:]\n",
    "    start_of_tracking = [f\"{i}\" for i in range(1, len(dates) - 9)]\n",
    "    values = core_data[1][1:]\n",
    "    df_data = list(zip(dates, start_of_tracking, values))\n",
    "    df_columns = [\"Reported Date\", \"Start of Tracking\", \"Total number of accumulated cases\",]\n",
    "    \n",
    "    df_cdc = pd.DataFrame(data=df_data, columns=df_columns)\n",
    "    if testing:\n",
    "        return df_cdc\n",
    "    else:\n",
    "        df_cdc.to_csv(cdc_cumul.csv_path, index=False)"
   ]
  },
  {
   "cell_type": "code",
   "execution_count": null,
   "metadata": {},
   "outputs": [],
   "source": [
    "df2 = run_cdc_cumul(True)\n",
    "df2.head()"
   ]
  },
  {
   "cell_type": "markdown",
   "metadata": {},
   "source": [
    "#### CDC Daily Onset Data\n",
    "URL: https://www.cdc.gov/coronavirus/2019-ncov/cases-updates/cases-in-us.html"
   ]
  },
  {
   "cell_type": "code",
   "execution_count": null,
   "metadata": {},
   "outputs": [],
   "source": [
    "cdc_onset = Source(\n",
    "    site = \"cdc_gov\",\n",
    "    csv_name = \"DailyReportedCasesUS\",\n",
    "    url = \"https://www.cdc.gov/coronavirus/2019-ncov/cases-updates/us-cases-epi-chart.json\",\n",
    "    )\n",
    "\n",
    "def run_cdc_onset(testing=False):\n",
    "    with ureq.urlopen(cdc_onset.url) as resp:\n",
    "        data = resp.read().decode(\"utf-8\")\n",
    "    \n",
    "    json_data =  json.loads(data)\n",
    "    core_data = json_data.get(\"data\").get(\"columns\")\n",
    "    dates = core_data[0][1:]\n",
    "    # start_of_day = [f\"{i}\" for i in range(len(dates) - 10)]\n",
    "    # start_of_day += [\"Not all illnesses reported\" for _ in range(10)]\n",
    "    start_of_day = [i if i < len(dates) - 10 else 0 for i in range(len(dates))]\n",
    "    values = core_data[1][1:]\n",
    "    df_data = list(zip(dates, start_of_day, values))\n",
    "    df_columns = [\"Reported Date\", \"Start of Day\", \"Number of cases\",]\n",
    "\n",
    "    df_cdc = pd.DataFrame(data=df_data, columns=df_columns)\n",
    "    if testing:\n",
    "        return df_cdc\n",
    "    else:\n",
    "        df_cdc.to_csv(cdc_onset.csv_path, index=False)"
   ]
  },
  {
   "cell_type": "code",
   "execution_count": null,
   "metadata": {},
   "outputs": [],
   "source": [
    "df3 = run_cdc_onset(True)\n",
    "df3.head()"
   ]
  },
  {
   "cell_type": "markdown",
   "metadata": {},
   "source": [
    "#### Michigan - COVID-19 Cases, by County\n",
    "URL: https://www.michigan.gov/coronavirus/0,9753,7-406-98163-520743--,00.html"
   ]
  },
  {
   "cell_type": "code",
   "execution_count": null,
   "metadata": {},
   "outputs": [],
   "source": [
    "mich = Source(\n",
    "    site = \"mich_gov\",\n",
    "    csv_name = \"CasesByCounty\",\n",
    "    url = \"https://www.michigan.gov/coronavirus/0,9753,7-406-98163-520743--,00.html\",\n",
    "    )\n",
    "\n",
    "def run_michigan(testing=False):\n",
    "    res = pd.read_html(mich.url)\n",
    "    dfm = res[0]\n",
    "    df_mich = process_df(dfm)\n",
    "    # Drop total row from bottom\n",
    "    df_mich = df_mich.loc[~df_mich[\"county\"].str.contains(\"Total\"),:].copy()\n",
    "    \n",
    "    df_mich[\"date_retrieved\"] = pd.to_datetime(dt.now()).strftime(\"%Y-%m-%d\")\n",
    "    df_mich[\"source\"] = mich.site\n",
    "\n",
    "    if testing:\n",
    "        return df_mich\n",
    "    else:\n",
    "        with open(mich.csv_path, mode=\"a\", encoding=\"utf-8\", newline=\"\\n\") as f:\n",
    "            df_mich.to_csv(f, index=False, header=f.tell()==0, line_terminator=\"\\n\", encoding=\"utf-8\")"
   ]
  },
  {
   "cell_type": "code",
   "execution_count": null,
   "metadata": {},
   "outputs": [],
   "source": [
    "df4 = run_michigan(True)\n",
    "df4.head()"
   ]
  },
  {
   "cell_type": "markdown",
   "metadata": {},
   "source": [
    "#### Johns Hopkins Data from Github\n",
    "URL: https://github.com/CSSEGISandData/COVID-19"
   ]
  },
  {
   "cell_type": "code",
   "execution_count": null,
   "metadata": {},
   "outputs": [],
   "source": [
    "gh = Source(\n",
    "    site = \"github\",\n",
    "    csv_name = \"JohnsHopkinsCovidData\",\n",
    "    index_url = \"https://github.com/CSSEGISandData/COVID-19/tree/master/csse_covid_19_data/csse_covid_19_daily_reports\",\n",
    "    )\n",
    "\n",
    "\n",
    "def run_jh(testing=False):\n",
    "    res = pd.read_html(gh.index_url)\n",
    "    df1 = res[0]\n",
    "    dates = df1.loc[df1[\"Name\"].str.endswith(\"csv\"), :][\"Name\"].values.tolist()\n",
    "    dates = dates[::-1]\n",
    "    \n",
    "    \n",
    "    col_dict = {\n",
    "     'Province/State':'Province_State',\n",
    "     'Country/Region':'Country_Region',\n",
    "     'Last Update':'Last_Update',\n",
    "     'Latitude':'Lat',\n",
    "     'Longitude':\"Long_\"\n",
    "     }\n",
    "    \n",
    "    \n",
    "    dfs = pd.DataFrame(columns=['FIPS','Admin2','Province_State','Country_Region','Last_Update','Lat','Long_','Active','Combined_Key'])\n",
    "    \n",
    "    for d in dates:\n",
    "        tmp_url = f\"https://raw.githubusercontent.com/CSSEGISandData/COVID-19/master/csse_covid_19_data/csse_covid_19_daily_reports/{d}\"\n",
    "        dfx = pd.read_csv(tmp_url)\n",
    "        dfx = dfx.rename(columns=col_dict)\n",
    "        dfs = dfs.append(dfx, sort=False)\n",
    "    \n",
    "    \n",
    "    df = dfs.drop(['FIPS','Lat', 'Long_','Combined_Key',], axis=1).copy()\n",
    "    df = df.reset_index(drop=True)\n",
    "    df.loc[:, \"Last_Update\"] = pd.to_datetime(df.loc[:, \"Last_Update\"], infer_datetime_format=True)\n",
    "    df.loc[:, \"Last_Update\"] = df.loc[:, \"Last_Update\"].dt.strftime(\"%Y-%m-%d\")\n",
    "\n",
    "    if testing:\n",
    "        return df\n",
    "    else:\n",
    "        df.to_csv(gh.csv_path, index=False, float_format=\"%.0f\")\n",
    "        \n",
    "        # df.to_excel(xl_name, index=False, float_format=\"%.0f\")"
   ]
  },
  {
   "cell_type": "code",
   "execution_count": null,
   "metadata": {},
   "outputs": [],
   "source": [
    "df5 = run_jh(True)\n",
    "df5.head()"
   ]
  },
  {
   "cell_type": "code",
   "execution_count": null,
   "metadata": {},
   "outputs": [],
   "source": [
    "def main():\n",
    "    run_nyt()\n",
    "    run_cdc_onset()\n",
    "    run_cdc_cumul()\n",
    "    run_michigan()\n",
    "    run_jh()"
   ]
  }
 ],
 "metadata": {
  "kernelspec": {
   "display_name": "Python 3",
   "language": "python",
   "name": "python3"
  },
  "language_info": {
   "codemirror_mode": {
    "name": "ipython",
    "version": 3
   },
   "file_extension": ".py",
   "mimetype": "text/x-python",
   "name": "python",
   "nbconvert_exporter": "python",
   "pygments_lexer": "ipython3",
   "version": "3.7.4"
  }
 },
 "nbformat": 4,
 "nbformat_minor": 2
}
