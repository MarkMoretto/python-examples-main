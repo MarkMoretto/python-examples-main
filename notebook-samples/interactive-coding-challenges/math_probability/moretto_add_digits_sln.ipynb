{
 "cells": [
  {
   "cell_type": "markdown",
   "metadata": {},
   "source": [
    "This notebook was prepared by [Donne Martin](https://github.com/donnemartin). Source and license info is on [GitHub](https://github.com/donnemartin/interactive-coding-challenges)."
   ]
  },
  {
   "cell_type": "markdown",
   "metadata": {},
   "source": [
    "# Challenge Notebook"
   ]
  },
  {
   "cell_type": "markdown",
   "metadata": {},
   "source": [
    "## Problem: Given an int, repeatedly add its digits until the result is one digit.\n",
    "\n",
    "* [Constraints](#Constraints)\n",
    "* [Test Cases](#Test-Cases)\n",
    "* [Algorithm](#Algorithm)\n",
    "* [Code](#Code)\n",
    "* [Unit Test](#Unit-Test)\n",
    "* [Solution Notebook](#Solution-Notebook)"
   ]
  },
  {
   "cell_type": "markdown",
   "metadata": {},
   "source": [
    "## Constraints\n",
    "\n",
    "* Can we assume num is not negative?\n",
    "    * Yes\n",
    "* Can we assume the inputs are valid?\n",
    "    * No\n",
    "* Can we assume this fits memory?\n",
    "    * Yes"
   ]
  },
  {
   "cell_type": "markdown",
   "metadata": {},
   "source": [
    "## Test Cases\n",
    "\n",
    "<pre>\n",
    "* None input -> TypeError\n",
    "* negative input -> ValueError\n",
    "* 9 -> 9\n",
    "* 138 -> 3\n",
    "* 65536 -> 7\n",
    "</pre>"
   ]
  },
  {
   "cell_type": "markdown",
   "metadata": {},
   "source": [
    "## Algorithm\n",
    "\n",
    "Refer to the [Solution Notebook](https://github.com/donnemartin/interactive-coding-challenges/blob/master/math_probability/add_digits/add_digits_solution.ipynb).  If you are stuck and need a hint, the solution notebook's algorithm discussion might be a good place to start."
   ]
  },
  {
   "cell_type": "markdown",
   "metadata": {},
   "source": [
    "## Code"
   ]
  },
  {
   "cell_type": "code",
   "execution_count": 1,
   "metadata": {},
   "outputs": [],
   "source": [
    "from typing import List"
   ]
  },
  {
   "cell_type": "code",
   "execution_count": 2,
   "metadata": {},
   "outputs": [],
   "source": [
    "def splitint(n: int, output: List[int] = None) -> List[int]:\n",
    "    \"\"\"Recursive digit-wise splitting of integer value.\n",
    "    \n",
    "    Parameters\n",
    "    ----------\n",
    "    n : int\n",
    "        Integer value to split.\n",
    "    output : list\n",
    "        Collection to hold each split digit.\n",
    "    \n",
    "    Returns\n",
    "    -------\n",
    "    list\n",
    "        Array of digits that form the original integer value when concatenated.\n",
    "        \n",
    "    >>> splitint(138)\n",
    "    [1, 3, 8]\n",
    "    \"\"\"\n",
    "    if isinstance(n, int):\n",
    "        if output is None:\n",
    "            output = []\n",
    "        while n:\n",
    "            N, rem = divmod(n, 10)\n",
    "            output.insert(0, rem)\n",
    "            return splitint(N, output)\n",
    "        return output\n",
    "    else:\n",
    "        raise ValueError(\"Integer data type expected.\")"
   ]
  },
  {
   "cell_type": "code",
   "execution_count": 3,
   "metadata": {},
   "outputs": [],
   "source": [
    "def f(n: int) -> int:\n",
    "    \"\"\"Return integer value below 10 from continual addition \n",
    "    of digits of a given integer over or equal to 10.\n",
    "    \n",
    "    Parameters\n",
    "    ----------\n",
    "    n : int\n",
    "        Integer value to process..\n",
    "    \n",
    "    Returns\n",
    "    -------\n",
    "    int\n",
    "        Integer value below 10.\n",
    "        \n",
    "    >>> f(138)\n",
    "    3\n",
    "    \"\"\"    \n",
    "    res = sum(splitint(n))\n",
    "    if res>10:\n",
    "        return f(res)\n",
    "    return res\n"
   ]
  },
  {
   "cell_type": "code",
   "execution_count": 4,
   "metadata": {},
   "outputs": [],
   "source": [
    "class Solution(object):\n",
    "    def add_digits(self, val):\n",
    "        # TODO: Implement me\n",
    "        # pass\n",
    "        if val is None:\n",
    "            raise TypeError(\"Integer value required.\")\n",
    "        elif val < 0:\n",
    "            raise ValueError(\"Positive integer value required.\")\n",
    "        else:\n",
    "            return f(val)\n"
   ]
  },
  {
   "cell_type": "markdown",
   "metadata": {},
   "source": [
    "## Unit Test"
   ]
  },
  {
   "cell_type": "markdown",
   "metadata": {},
   "source": [
    "**The following unit test is expected to fail until you solve the challenge.**"
   ]
  },
  {
   "cell_type": "code",
   "execution_count": 5,
   "metadata": {},
   "outputs": [
    {
     "name": "stdout",
     "output_type": "stream",
     "text": [
      "Success: test_add_digits\n"
     ]
    }
   ],
   "source": [
    "# %load test_add_digits.py\n",
    "import unittest\n",
    "\n",
    "\n",
    "class TestAddDigits(unittest.TestCase):\n",
    "\n",
    "    def test_add_digits(self, func):\n",
    "        self.assertRaises(TypeError, func, None)\n",
    "        self.assertRaises(ValueError, func, -1)\n",
    "        self.assertEqual(func(0), 0)\n",
    "        self.assertEqual(func(9), 9)\n",
    "        self.assertEqual(func(138), 3)\n",
    "        self.assertEqual(func(65536), 7) \n",
    "        print('Success: test_add_digits')\n",
    "\n",
    "\n",
    "def main():\n",
    "    test = TestAddDigits()\n",
    "    solution = Solution()\n",
    "    test.test_add_digits(solution.add_digits)\n",
    "    try:\n",
    "        test.test_add_digits(solution.add_digits_optimized)\n",
    "    except AttributeError:\n",
    "        # Alternate solutions are only defined\n",
    "        # in the solutions file\n",
    "        pass\n",
    "\n",
    "\n",
    "if __name__ == '__main__':\n",
    "    main()"
   ]
  }
 ],
 "metadata": {
  "kernelspec": {
   "display_name": "Python 3",
   "language": "python",
   "name": "python3"
  },
  "language_info": {
   "codemirror_mode": {
    "name": "ipython",
    "version": 3
   },
   "file_extension": ".py",
   "mimetype": "text/x-python",
   "name": "python",
   "nbconvert_exporter": "python",
   "pygments_lexer": "ipython3",
   "version": "3.7.4"
  }
 },
 "nbformat": 4,
 "nbformat_minor": 1
}
