{
 "cells": [
  {
   "cell_type": "markdown",
   "metadata": {},
   "source": [
    "This notebook was prepared by [Donne Martin](https://github.com/donnemartin). Source and license info is on [GitHub](https://github.com/donnemartin/interactive-coding-challenges)."
   ]
  },
  {
   "cell_type": "markdown",
   "metadata": {},
   "source": [
    "# Challenge Notebook"
   ]
  },
  {
   "cell_type": "markdown",
   "metadata": {},
   "source": [
    "<div style=\"font-size: 2.5rem;font-weight:600;text-align:center;color:#8b425e;border: 1px solid #428b6f;padding:1.2rem;\">\n",
    "    <a style=\"text-decoration:none;color:#425e8b;\" href=\"https://github.com/donnemartin/interactive-coding-challenges/blob/master/math_probability/power_two/power_two_challenge.ipynb\" target=\"_blank\">Link</a> to original GitHub notebook.\n",
    "</div>"
   ]
  },
  {
   "cell_type": "markdown",
   "metadata": {},
   "source": [
    "## Problem: Determine if a number is a power of two.\n",
    "\n",
    "* [Constraints](#Constraints)\n",
    "* [Test Cases](#Test-Cases)\n",
    "* [Algorithm](#Algorithm)\n",
    "* [Code](#Code)\n",
    "* [Unit Test](#Unit-Test)\n",
    "* [Solution Notebook](#Solution-Notebook)"
   ]
  },
  {
   "cell_type": "markdown",
   "metadata": {},
   "source": [
    "## Constraints\n",
    "\n",
    "* Is the input number an int?\n",
    "    * Yes\n",
    "* Can we assume the inputs are valid?\n",
    "    * No\n",
    "* Is the output a boolean?\n",
    "    * Yes\n",
    "* Can we assume this fits memory?\n",
    "    * Yes"
   ]
  },
  {
   "cell_type": "markdown",
   "metadata": {},
   "source": [
    "## Test Cases\n",
    "\n",
    "* None -> TypeError\n",
    "* 0 -> False\n",
    "* 1 -> True\n",
    "* 2 -> True\n",
    "* 15 -> False\n",
    "* 16 -> True"
   ]
  },
  {
   "cell_type": "markdown",
   "metadata": {},
   "source": [
    "## Algorithm\n",
    "\n",
    "Refer to the [Solution Notebook](https://github.com/donnemartin/interactive-coding-challenges/blob/master/math_probability/power_two/power_two_solution.ipynb).  If you are stuck and need a hint, the solution notebook's algorithm discussion might be a good place to start."
   ]
  },
  {
   "cell_type": "markdown",
   "metadata": {},
   "source": [
    "## Code"
   ]
  },
  {
   "cell_type": "code",
   "execution_count": 8,
   "metadata": {},
   "outputs": [],
   "source": [
    "def twotwo(N: int, i: int = 0) -> bool:\n",
    "    \"\"\"Recursive function to determine if integer is a power of two.\n",
    "    \n",
    "    Parameters\n",
    "    ----------\n",
    "    N : int\n",
    "        Integer value for evaluation.\n",
    "    i : int\n",
    "        Incremental integer for processing.\n",
    "\n",
    "    Returns\n",
    "    -------\n",
    "    bool\n",
    "        Whether or not the value N is a power of two.\n",
    "\n",
    "    Doctest\n",
    "    -------\n",
    "    >>> twotwo(0)\n",
    "    False\n",
    "    >>> twotwo(1)\n",
    "    True\n",
    "    >>> twotwo(None)\n",
    "    Traceback (most recent call last):\n",
    "        ...\n",
    "    TypeError: Integer value required.\n",
    "    >>> twotwo(\"A\")\n",
    "    Traceback (most recent call last):\n",
    "        ...\n",
    "    TypeError: Integer value required.\n",
    "    >>> twotwo(1.2)\n",
    "    Traceback (most recent call last):\n",
    "        ...\n",
    "    TypeError: Integer value required.    \n",
    "    \"\"\"\n",
    "    \n",
    "    result: int = 1<<i\n",
    "        \n",
    "    outcome: bool = False\n",
    "        \n",
    "    if isinstance(N, int):\n",
    "        if result < N:\n",
    "            return twotwo(N, i+1)\n",
    "        elif result == N:\n",
    "            outcome = True\n",
    "        return outcome\n",
    "    else:\n",
    "        raise TypeError(\"Integer value required.\")"
   ]
  },
  {
   "cell_type": "code",
   "execution_count": 6,
   "metadata": {},
   "outputs": [],
   "source": [
    "class Solution(object):\n",
    "    def is_power_of_two(self, val):\n",
    "        # TODO: Implement me\n",
    "        # pass\n",
    "        return twotwo(val)\n"
   ]
  },
  {
   "cell_type": "markdown",
   "metadata": {},
   "source": [
    "## Unit Test"
   ]
  },
  {
   "cell_type": "markdown",
   "metadata": {},
   "source": [
    "**The following unit test is expected to fail until you solve the challenge.**"
   ]
  },
  {
   "cell_type": "code",
   "execution_count": 9,
   "metadata": {},
   "outputs": [
    {
     "name": "stdout",
     "output_type": "stream",
     "text": [
      "Success: test_is_power_of_two\n"
     ]
    }
   ],
   "source": [
    "# %load test_is_power_of_two.py\n",
    "import unittest\n",
    "\n",
    "\n",
    "class TestSolution(unittest.TestCase):\n",
    "\n",
    "    def test_is_power_of_two(self):\n",
    "        solution = Solution()\n",
    "        self.assertRaises(TypeError, solution.is_power_of_two, None)\n",
    "        self.assertEqual(solution.is_power_of_two(0), False)\n",
    "        self.assertEqual(solution.is_power_of_two(1), True)\n",
    "        self.assertEqual(solution.is_power_of_two(2), True)\n",
    "        self.assertEqual(solution.is_power_of_two(15), False)\n",
    "        self.assertEqual(solution.is_power_of_two(16), True)\n",
    "        print('Success: test_is_power_of_two')\n",
    "\n",
    "\n",
    "def main():\n",
    "    test = TestSolution()\n",
    "    test.test_is_power_of_two()\n",
    "\n",
    "\n",
    "if __name__ == '__main__':\n",
    "    import doctest\n",
    "    doctest.testmod()    \n",
    "    main()"
   ]
  },
  {
   "cell_type": "markdown",
   "metadata": {},
   "source": [
    "## Solution Notebook\n",
    "\n",
    "Review the [Solution Notebook]() for a discussion on algorithms and code solutions."
   ]
  }
 ],
 "metadata": {
  "kernelspec": {
   "display_name": "Python 3",
   "language": "python",
   "name": "python3"
  },
  "language_info": {
   "codemirror_mode": {
    "name": "ipython",
    "version": 3
   },
   "file_extension": ".py",
   "mimetype": "text/x-python",
   "name": "python",
   "nbconvert_exporter": "python",
   "pygments_lexer": "ipython3",
   "version": "3.7.4"
  }
 },
 "nbformat": 4,
 "nbformat_minor": 1
}
