{
 "cells": [
  {
   "cell_type": "markdown",
   "metadata": {},
   "source": [
    "Classification of diabetes patients."
   ]
  },
  {
   "cell_type": "code",
   "execution_count": 4,
   "metadata": {},
   "outputs": [],
   "source": [
    "import re\n",
    "from pathlib import Path\n",
    "import urllib.request as ureq\n",
    "\n",
    "import pandas as pd\n"
   ]
  },
  {
   "cell_type": "code",
   "execution_count": 3,
   "metadata": {},
   "outputs": [
    {
     "name": "stdout",
     "output_type": "stream",
     "text": [
      "data\\diabetes.csv\n"
     ]
    }
   ],
   "source": [
    "# Get CSV data\n",
    "\n",
    "output_freq: int = 100\n",
    "def raw_hooker(chunk, max_size, total_size = -1):\n",
    "    \"\"\"Output streaming info about download object.\"\"\"\n",
    "    print(chunk, max_size, total_size)\n",
    "\n",
    "    total_chunks: int = round((total_size / max_size) + 0.5)\n",
    "    chunk_denom: int = (total_chunks + 1) // output_freq\n",
    "\n",
    "    if chunk_denom == 0 or chunk_denom < output_freq:\n",
    "        output_freq //= 10\n",
    "        chunk_denom: int = (total_chunks + 1) // output_freq\n",
    "        \n",
    "    if chunk % chunk_denom == 0:\n",
    "        print(chunk, max_size, total_size)\n",
    "\n",
    "data_url: str = \"https://github.com/MicrosoftDocs/ml-basics/blob/master/data/diabetes.csv?raw=true\"\n",
    "res = re.search(r\"^.+/(.+)\\?.+$\", data_url)\n",
    "\n",
    "data_filename: str = \"\"\n",
    "    \n",
    "if res:\n",
    "    data_filename = rf\"data\\{res.group(1)}\"\n",
    "    print(data_filename)\n",
    "    data_local_path = Path().joinpath(data_filename)\n",
    "    if not data_local_path.is_file():\n",
    "        _fn, _hdr = ureq.urlretrieve(data_url, filename = data_local_path, reporthook=raw_hooker)\n",
    "        if data_local_path.is_file():\n",
    "            print(f\"Filename: {_fn}\\nHeader data: {_hdr}\")"
   ]
  },
  {
   "cell_type": "code",
   "execution_count": 5,
   "metadata": {},
   "outputs": [
    {
     "data": {
      "text/plain": [
       "(15000, 10)"
      ]
     },
     "execution_count": 5,
     "metadata": {},
     "output_type": "execute_result"
    }
   ],
   "source": [
    "df = pd.read_csv(data_url.split(\"?\")[0])\n",
    "df.shape"
   ]
  },
  {
   "cell_type": "code",
   "execution_count": null,
   "metadata": {},
   "outputs": [],
   "source": []
  }
 ],
 "metadata": {
  "kernelspec": {
   "display_name": "Python 3",
   "language": "python",
   "name": "python3"
  },
  "language_info": {
   "codemirror_mode": {
    "name": "ipython",
    "version": 3
   },
   "file_extension": ".py",
   "mimetype": "text/x-python",
   "name": "python",
   "nbconvert_exporter": "python",
   "pygments_lexer": "ipython3",
   "version": "3.7.4"
  }
 },
 "nbformat": 4,
 "nbformat_minor": 2
}
