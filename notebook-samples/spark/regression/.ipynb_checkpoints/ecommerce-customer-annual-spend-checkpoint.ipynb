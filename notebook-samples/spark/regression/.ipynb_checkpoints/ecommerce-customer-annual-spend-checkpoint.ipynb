{
 "cells": [
  {
   "cell_type": "markdown",
   "metadata": {},
   "source": [
    "# Predict expected e-commerce annual customer spend"
   ]
  },
  {
   "cell_type": "code",
   "execution_count": 1,
   "metadata": {},
   "outputs": [],
   "source": [
    "# --- Standard library imports --- #\n",
    "from pathlib import Path\n",
    "import urllib.request as ureq\n",
    "from os import unlink as os_unlink\n",
    "from tempfile import NamedTemporaryFile\n",
    "\n",
    "\n",
    "# --- PySpark imports --- #\n",
    "from pyspark.sql import SparkSession\n",
    "from pyspark.ml.regression import LinearRegression\n",
    "from pyspark.ml.linalg import Vectors\n",
    "from pyspark.ml.feature import VectorAssembler\n",
    "\n",
    "from pyspark.sql.dataframe import DataFrame # For type assertion."
   ]
  },
  {
   "cell_type": "code",
   "execution_count": 2,
   "metadata": {},
   "outputs": [],
   "source": [
    "APP_NAME: str = \"eCommerceSpend\"\n",
    "DATA_SUBDIR: Path = Path().joinpath(r\"data\")\n",
    "DATA_URL: str = \"https://github.com/krishnaik06/PysparkRegressions/raw/master/Ecommerce_Customers.csv\"\n",
    "\n",
    "print_methods = lambda obj: print(\"\\n\".join([i for i in dir(obj) if not i.startswith(\"_\")]))"
   ]
  },
  {
   "cell_type": "code",
   "execution_count": 3,
   "metadata": {},
   "outputs": [],
   "source": [
    "# Create Spark instance\n",
    "spark = SparkSession.builder.appName(APP_NAME).getOrCreate()"
   ]
  },
  {
   "cell_type": "code",
   "execution_count": 4,
   "metadata": {},
   "outputs": [
    {
     "name": "stdout",
     "output_type": "stream",
     "text": [
      "root\n",
      " |-- Email: string (nullable = true)\n",
      " |-- Address: string (nullable = true)\n",
      " |-- Avg Session Length: double (nullable = true)\n",
      " |-- Time on App: double (nullable = true)\n",
      " |-- Time on Website: double (nullable = true)\n",
      " |-- Length of Membership: double (nullable = true)\n",
      " |-- Yearly Amount Spent: double (nullable = true)\n",
      "\n",
      "['Email', 'Address', 'Avg Session Length', 'Time on App', 'Time on Website', 'Length of Membership', 'Yearly Amount Spent']\n"
     ]
    }
   ],
   "source": [
    "def create_csv_dataframe(url: str) -> DataFrame:\n",
    "    \"\"\"Create and return pyspark DataFrame object from raw csv file.\n",
    "    \n",
    "    Parameters\n",
    "    ----------\n",
    "    url : str\n",
    "        Path to remote, internet-hosted data file.\n",
    "    verbose : bool\n",
    "        Whether or not to send additional info to stdout.\n",
    "        \n",
    "    Returns\n",
    "    -------\n",
    "    filepath : str\n",
    "        Path to local temporary file.\n",
    "    DataFrame\n",
    "        pyspark.sql.dataframe.DataFrame object.\n",
    "    \"\"\"\n",
    "       \n",
    "    with ureq.urlopen(url) as resp:\n",
    "        tmp = resp.read().decode(\"utf-8\")\n",
    "        if tmp:\n",
    "            \n",
    "            tempf = NamedTemporaryFile(mode=\"w\", encoding=\"utf-8\", dir = DATA_SUBDIR, delete = False)\n",
    "            tempf.write(tmp)                \n",
    "                \n",
    "            tempf.seek(0)\n",
    "\n",
    "            # Set temp_filepath to variable.\n",
    "            tmp_fp = tempf.name\n",
    "            \n",
    "            tempf.close()\n",
    "            \n",
    "            df_ = spark.read.csv(tempf.name, inferSchema = True, header = True)\n",
    "                        \n",
    "            assert (type(df_) == DataFrame), \"Data object type error.\"\n",
    "            \n",
    "            return df_\n",
    "\n",
    "dataset = create_csv_dataframe(DATA_URL)\n",
    "\n",
    "# https://spark.apache.org/docs/3.1.2/api/python/reference/api/pyspark.sql.DataFrame.html#pyspark.sql.DataFrame\n",
    "if dataset:\n",
    "#     print(temp_filepath)\n",
    "    dataset.printSchema()\n",
    "    print(dataset.columns)"
   ]
  },
  {
   "cell_type": "markdown",
   "metadata": {},
   "source": [
    "### Create field of vectorized predictors"
   ]
  },
  {
   "cell_type": "code",
   "execution_count": 5,
   "metadata": {},
   "outputs": [],
   "source": [
    "dependent_variable: str = \"Yearly Amount Spent\"\n",
    "features_col: str = \"features\"\n",
    "\n",
    "independent_variables = [i for i in dataset.columns if not i in (\"Email\", \"Address\", dependent_variable)]\n",
    "\n",
    "feature_assmblr = VectorAssembler(\n",
    "    inputCols = independent_variables,\n",
    "    outputCol = features_col\n",
    ")"
   ]
  },
  {
   "cell_type": "code",
   "execution_count": 6,
   "metadata": {},
   "outputs": [
    {
     "name": "stdout",
     "output_type": "stream",
     "text": [
      "+--------------------+--------------------+------------------+-----------+---------------+--------------------+-------------------+--------------------+\n",
      "|               Email|             Address|Avg Session Length|Time on App|Time on Website|Length of Membership|Yearly Amount Spent|            features|\n",
      "+--------------------+--------------------+------------------+-----------+---------------+--------------------+-------------------+--------------------+\n",
      "|mstephenson@ferna...|835 Frank TunnelW...|       34.49726773|12.65565115|    39.57766802|         4.082620633|         587.951054|[34.49726773,12.6...|\n",
      "|   hduke@hotmail.com|4547 Archer Commo...|       31.92627203|11.10946073|    37.26895887|         2.664034182|        392.2049334|[31.92627203,11.1...|\n",
      "|    pallen@yahoo.com|24645 Valerie Uni...|       33.00091476|11.33027806|    37.11059744|         4.104543202|        487.5475049|[33.00091476,11.3...|\n",
      "|riverarebecca@gma...|1414 David Throug...|       34.30555663|13.71751367|    36.72128268|         3.120178783|         581.852344|[34.30555663,13.7...|\n",
      "|mstephens@davidso...|14023 Rodriguez P...|       33.33067252|12.79518855|     37.5366533|         4.446308318|         599.406092|[33.33067252,12.7...|\n",
      "|alvareznancy@luca...|645 Martha Park A...|       33.87103788|12.02692534|    34.47687763|         5.493507201|        637.1024479|[33.87103788,12.0...|\n",
      "|katherine20@yahoo...|68388 Reyes Light...|        32.0215955|11.36634831|    36.68377615|         4.685017247|        521.5721748|[32.0215955,11.36...|\n",
      "|  awatkins@yahoo.com|Unit 6538 Box 898...|       32.73914294|12.35195897|    37.37335886|         4.434273435|        549.9041461|[32.73914294,12.3...|\n",
      "|vchurch@walter-ma...|860 Lee KeyWest D...|        33.9877729|13.38623528|    37.53449734|         3.273433578|         570.200409|[33.9877729,13.38...|\n",
      "|    bonnie69@lin.biz|PSC 2734, Box 525...|       31.93654862|11.81412829|    37.14516822|         3.202806072|        427.1993849|[31.93654862,11.8...|\n",
      "+--------------------+--------------------+------------------+-----------+---------------+--------------------+-------------------+--------------------+\n",
      "only showing top 10 rows\n",
      "\n"
     ]
    }
   ],
   "source": [
    "# va_df.select(\"independent_features\").show(n=10)\n",
    "va_df = feature_assmblr.transform(dataset)\n",
    "va_df.show(n=10)"
   ]
  },
  {
   "cell_type": "code",
   "execution_count": 7,
   "metadata": {},
   "outputs": [
    {
     "name": "stdout",
     "output_type": "stream",
     "text": [
      "+-------+------------------+------------------+------------------+--------------------+-------------------+\n",
      "|summary|Avg Session Length|       Time on App|   Time on Website|Length of Membership|Yearly Amount Spent|\n",
      "+-------+------------------+------------------+------------------+--------------------+-------------------+\n",
      "|  count|               500|               500|               500|                 500|                500|\n",
      "|   mean|    33.05319351824|12.052487936928012|37.060445421080004|  3.5334615559300007|  499.3140382608002|\n",
      "| stddev|0.9925631111602911|0.9942156084624618|1.0104889068105993|  0.9992775024367542|  79.31478155115914|\n",
      "|    min|       29.53242897|       8.508152176|       33.91384725|          0.26990109|        256.6705823|\n",
      "|    max|       36.13966249|       15.12699429|       40.00518164|         6.922689335|        765.5184619|\n",
      "+-------+------------------+------------------+------------------+--------------------+-------------------+\n",
      "\n"
     ]
    }
   ],
   "source": [
    "va_df.select(independent_variables + [dependent_variable]).describe().show()"
   ]
  },
  {
   "cell_type": "markdown",
   "metadata": {},
   "source": [
    "#### Create 'final' dataframe from dependent variable and vectorized features."
   ]
  },
  {
   "cell_type": "code",
   "execution_count": 8,
   "metadata": {},
   "outputs": [
    {
     "name": "stdout",
     "output_type": "stream",
     "text": [
      "+--------------------+-------------------+\n",
      "|            features|Yearly Amount Spent|\n",
      "+--------------------+-------------------+\n",
      "|[34.49726773,12.6...|         587.951054|\n",
      "|[31.92627203,11.1...|        392.2049334|\n",
      "|[33.00091476,11.3...|        487.5475049|\n",
      "|[34.30555663,13.7...|         581.852344|\n",
      "|[33.33067252,12.7...|         599.406092|\n",
      "|[33.87103788,12.0...|        637.1024479|\n",
      "|[32.0215955,11.36...|        521.5721748|\n",
      "|[32.73914294,12.3...|        549.9041461|\n",
      "|[33.9877729,13.38...|         570.200409|\n",
      "|[31.93654862,11.8...|        427.1993849|\n",
      "+--------------------+-------------------+\n",
      "only showing top 10 rows\n",
      "\n"
     ]
    }
   ],
   "source": [
    "final_df = va_df.select(features_col, dependent_variable)\n",
    "final_df.show(n=10)"
   ]
  },
  {
   "cell_type": "markdown",
   "metadata": {},
   "source": [
    "#### Split data for training and testing"
   ]
  },
  {
   "cell_type": "code",
   "execution_count": 9,
   "metadata": {},
   "outputs": [],
   "source": [
    "train_pct = 0.75\n",
    "df_train, df_test = final_df.randomSplit([train_pct, 1-train_pct])"
   ]
  },
  {
   "cell_type": "markdown",
   "metadata": {},
   "source": [
    "#### Build and fit regression model"
   ]
  },
  {
   "cell_type": "code",
   "execution_count": 10,
   "metadata": {},
   "outputs": [],
   "source": [
    "regr = LinearRegression(featuresCol = features_col, labelCol = dependent_variable)\n",
    "regr_mod = regr.fit(df_train)"
   ]
  },
  {
   "cell_type": "code",
   "execution_count": 11,
   "metadata": {},
   "outputs": [
    {
     "name": "stdout",
     "output_type": "stream",
     "text": [
      "[26.09043333353722,38.51786580162793,0.6099454744483147,61.39640784603681] \n",
      " -1066.196241241698\n"
     ]
    }
   ],
   "source": [
    "print(regr_mod.coefficients, \"\\n\", regr_mod.intercept)"
   ]
  },
  {
   "cell_type": "code",
   "execution_count": 12,
   "metadata": {},
   "outputs": [
    {
     "name": "stdout",
     "output_type": "stream",
     "text": [
      "+--------------------+-------------------+------------------+\n",
      "|            features|Yearly Amount Spent|        prediction|\n",
      "+--------------------+-------------------+------------------+\n",
      "|[30.73772037,12.6...|        461.7807422|  450.747454024083|\n",
      "|[30.81620065,11.8...|        266.0863409| 283.4142781417984|\n",
      "|[30.87948434,13.2...|           490.2066| 493.6418209103606|\n",
      "|[31.06132516,12.3...|        487.5554581| 493.3265759950077|\n",
      "|[31.35847719,12.8...|        495.1759504| 491.0044857492155|\n",
      "|[31.42522688,13.2...|        530.7667187| 534.5473868126089|\n",
      "|[31.51473786,12.5...|         489.812488|495.69239821751444|\n",
      "|[31.52575242,11.3...|        443.9656268|449.70731353505266|\n",
      "|[31.66104982,11.3...|        416.3583536|417.57422463781245|\n",
      "|[31.72165236,11.7...|        347.7769266|350.06083415960006|\n",
      "|[31.73663569,10.7...|        496.9334463| 494.5196666134591|\n",
      "|[31.76561882,12.4...|        496.5540816|501.49715759708215|\n",
      "|[31.82797906,12.4...|        440.0027475|449.65413167999986|\n",
      "|[31.86483255,13.4...|        439.8912805|450.43837465119987|\n",
      "|[32.07054622,11.7...|        532.7517876| 532.1658220024567|\n",
      "|[32.07759004,10.3...|        401.0331352|403.98516443254243|\n",
      "|[32.17550124,13.3...|        588.7126055| 577.3541158766532|\n",
      "|[32.18781205,14.7...|        452.3156755|456.84216320479004|\n",
      "|[32.20465465,12.4...|         478.584286| 479.0975091111575|\n",
      "|[32.21292383,11.7...|        513.1531119| 513.8782890185175|\n",
      "|[32.22729914,13.7...|        613.5993234| 621.4657620821854|\n",
      "|[32.29464155,12.4...|        586.1558702| 590.6247706900965|\n",
      "|[32.36312129,12.4...|        570.6300981| 567.5394394565249|\n",
      "|[32.37798966,11.9...|        408.2169018|436.10880486196265|\n",
      "|[32.38845163,11.0...|        424.7626355|443.92491054775974|\n",
      "|[32.39742194,12.0...|        483.7965221| 481.7138011424379|\n",
      "|[32.4071483,13.80...|        662.9610878|  643.469192687744|\n",
      "|[32.40855896,10.9...|        441.8966315|440.48123783260326|\n",
      "|[32.43083858,13.8...|        557.6082621| 569.9042466668659|\n",
      "|[32.4914466,12.53...|        449.0703194|439.29016535236383|\n",
      "|[32.49719846,12.8...|         493.719193|481.43099709050534|\n",
      "|[32.51819681,11.5...|        424.7287739| 433.4344891162332|\n",
      "|[32.53323998,14.1...|        689.2356998|  676.611481632342|\n",
      "|[32.60273898,11.7...|        482.1449969| 477.1673901336892|\n",
      "|[32.64194637,11.5...|        432.4811686| 449.8129689333243|\n",
      "|[32.64677668,11.4...|        551.6201455|  556.305413503075|\n",
      "|[32.65462161,11.0...|        501.7492333| 524.0561395780624|\n",
      "|[32.67294353,12.2...|        523.6339351| 526.2975504100564|\n",
      "|[32.67515451,12.5...|         444.582165| 452.2972063210666|\n",
      "|[32.68624509,12.6...|        571.4710341| 559.2958618514472|\n",
      "+--------------------+-------------------+------------------+\n",
      "only showing top 40 rows\n",
      "\n"
     ]
    }
   ],
   "source": [
    "pred = regr_mod.evaluate(df_test)\n",
    "pred.predictions.show(n=40)"
   ]
  },
  {
   "cell_type": "markdown",
   "metadata": {},
   "source": [
    "### Visualize some data."
   ]
  },
  {
   "cell_type": "code",
   "execution_count": 13,
   "metadata": {},
   "outputs": [
    {
     "data": {
      "text/html": [
       "\n",
       "    <div class=\"bk-root\">\n",
       "        <a href=\"https://bokeh.org\" target=\"_blank\" class=\"bk-logo bk-logo-small bk-logo-notebook\"></a>\n",
       "        <span id=\"1001\">Loading BokehJS ...</span>\n",
       "    </div>"
      ]
     },
     "metadata": {},
     "output_type": "display_data"
    },
    {
     "data": {
      "application/javascript": [
       "\n",
       "(function(root) {\n",
       "  function now() {\n",
       "    return new Date();\n",
       "  }\n",
       "\n",
       "  var force = true;\n",
       "\n",
       "  if (typeof root._bokeh_onload_callbacks === \"undefined\" || force === true) {\n",
       "    root._bokeh_onload_callbacks = [];\n",
       "    root._bokeh_is_loading = undefined;\n",
       "  }\n",
       "\n",
       "  var JS_MIME_TYPE = 'application/javascript';\n",
       "  var HTML_MIME_TYPE = 'text/html';\n",
       "  var EXEC_MIME_TYPE = 'application/vnd.bokehjs_exec.v0+json';\n",
       "  var CLASS_NAME = 'output_bokeh rendered_html';\n",
       "\n",
       "  /**\n",
       "   * Render data to the DOM node\n",
       "   */\n",
       "  function render(props, node) {\n",
       "    var script = document.createElement(\"script\");\n",
       "    node.appendChild(script);\n",
       "  }\n",
       "\n",
       "  /**\n",
       "   * Handle when an output is cleared or removed\n",
       "   */\n",
       "  function handleClearOutput(event, handle) {\n",
       "    var cell = handle.cell;\n",
       "\n",
       "    var id = cell.output_area._bokeh_element_id;\n",
       "    var server_id = cell.output_area._bokeh_server_id;\n",
       "    // Clean up Bokeh references\n",
       "    if (id != null && id in Bokeh.index) {\n",
       "      Bokeh.index[id].model.document.clear();\n",
       "      delete Bokeh.index[id];\n",
       "    }\n",
       "\n",
       "    if (server_id !== undefined) {\n",
       "      // Clean up Bokeh references\n",
       "      var cmd = \"from bokeh.io.state import curstate; print(curstate().uuid_to_server['\" + server_id + \"'].get_sessions()[0].document.roots[0]._id)\";\n",
       "      cell.notebook.kernel.execute(cmd, {\n",
       "        iopub: {\n",
       "          output: function(msg) {\n",
       "            var id = msg.content.text.trim();\n",
       "            if (id in Bokeh.index) {\n",
       "              Bokeh.index[id].model.document.clear();\n",
       "              delete Bokeh.index[id];\n",
       "            }\n",
       "          }\n",
       "        }\n",
       "      });\n",
       "      // Destroy server and session\n",
       "      var cmd = \"import bokeh.io.notebook as ion; ion.destroy_server('\" + server_id + \"')\";\n",
       "      cell.notebook.kernel.execute(cmd);\n",
       "    }\n",
       "  }\n",
       "\n",
       "  /**\n",
       "   * Handle when a new output is added\n",
       "   */\n",
       "  function handleAddOutput(event, handle) {\n",
       "    var output_area = handle.output_area;\n",
       "    var output = handle.output;\n",
       "\n",
       "    // limit handleAddOutput to display_data with EXEC_MIME_TYPE content only\n",
       "    if ((output.output_type != \"display_data\") || (!output.data.hasOwnProperty(EXEC_MIME_TYPE))) {\n",
       "      return\n",
       "    }\n",
       "\n",
       "    var toinsert = output_area.element.find(\".\" + CLASS_NAME.split(' ')[0]);\n",
       "\n",
       "    if (output.metadata[EXEC_MIME_TYPE][\"id\"] !== undefined) {\n",
       "      toinsert[toinsert.length - 1].firstChild.textContent = output.data[JS_MIME_TYPE];\n",
       "      // store reference to embed id on output_area\n",
       "      output_area._bokeh_element_id = output.metadata[EXEC_MIME_TYPE][\"id\"];\n",
       "    }\n",
       "    if (output.metadata[EXEC_MIME_TYPE][\"server_id\"] !== undefined) {\n",
       "      var bk_div = document.createElement(\"div\");\n",
       "      bk_div.innerHTML = output.data[HTML_MIME_TYPE];\n",
       "      var script_attrs = bk_div.children[0].attributes;\n",
       "      for (var i = 0; i < script_attrs.length; i++) {\n",
       "        toinsert[toinsert.length - 1].firstChild.setAttribute(script_attrs[i].name, script_attrs[i].value);\n",
       "        toinsert[toinsert.length - 1].firstChild.textContent = bk_div.children[0].textContent\n",
       "      }\n",
       "      // store reference to server id on output_area\n",
       "      output_area._bokeh_server_id = output.metadata[EXEC_MIME_TYPE][\"server_id\"];\n",
       "    }\n",
       "  }\n",
       "\n",
       "  function register_renderer(events, OutputArea) {\n",
       "\n",
       "    function append_mime(data, metadata, element) {\n",
       "      // create a DOM node to render to\n",
       "      var toinsert = this.create_output_subarea(\n",
       "        metadata,\n",
       "        CLASS_NAME,\n",
       "        EXEC_MIME_TYPE\n",
       "      );\n",
       "      this.keyboard_manager.register_events(toinsert);\n",
       "      // Render to node\n",
       "      var props = {data: data, metadata: metadata[EXEC_MIME_TYPE]};\n",
       "      render(props, toinsert[toinsert.length - 1]);\n",
       "      element.append(toinsert);\n",
       "      return toinsert\n",
       "    }\n",
       "\n",
       "    /* Handle when an output is cleared or removed */\n",
       "    events.on('clear_output.CodeCell', handleClearOutput);\n",
       "    events.on('delete.Cell', handleClearOutput);\n",
       "\n",
       "    /* Handle when a new output is added */\n",
       "    events.on('output_added.OutputArea', handleAddOutput);\n",
       "\n",
       "    /**\n",
       "     * Register the mime type and append_mime function with output_area\n",
       "     */\n",
       "    OutputArea.prototype.register_mime_type(EXEC_MIME_TYPE, append_mime, {\n",
       "      /* Is output safe? */\n",
       "      safe: true,\n",
       "      /* Index of renderer in `output_area.display_order` */\n",
       "      index: 0\n",
       "    });\n",
       "  }\n",
       "\n",
       "  // register the mime type if in Jupyter Notebook environment and previously unregistered\n",
       "  if (root.Jupyter !== undefined) {\n",
       "    var events = require('base/js/events');\n",
       "    var OutputArea = require('notebook/js/outputarea').OutputArea;\n",
       "\n",
       "    if (OutputArea.prototype.mime_types().indexOf(EXEC_MIME_TYPE) == -1) {\n",
       "      register_renderer(events, OutputArea);\n",
       "    }\n",
       "  }\n",
       "\n",
       "  \n",
       "  if (typeof (root._bokeh_timeout) === \"undefined\" || force === true) {\n",
       "    root._bokeh_timeout = Date.now() + 5000;\n",
       "    root._bokeh_failed_load = false;\n",
       "  }\n",
       "\n",
       "  var NB_LOAD_WARNING = {'data': {'text/html':\n",
       "     \"<div style='background-color: #fdd'>\\n\"+\n",
       "     \"<p>\\n\"+\n",
       "     \"BokehJS does not appear to have successfully loaded. If loading BokehJS from CDN, this \\n\"+\n",
       "     \"may be due to a slow or bad network connection. Possible fixes:\\n\"+\n",
       "     \"</p>\\n\"+\n",
       "     \"<ul>\\n\"+\n",
       "     \"<li>re-rerun `output_notebook()` to attempt to load from CDN again, or</li>\\n\"+\n",
       "     \"<li>use INLINE resources instead, as so:</li>\\n\"+\n",
       "     \"</ul>\\n\"+\n",
       "     \"<code>\\n\"+\n",
       "     \"from bokeh.resources import INLINE\\n\"+\n",
       "     \"output_notebook(resources=INLINE)\\n\"+\n",
       "     \"</code>\\n\"+\n",
       "     \"</div>\"}};\n",
       "\n",
       "  function display_loaded() {\n",
       "    var el = document.getElementById(\"1001\");\n",
       "    if (el != null) {\n",
       "      el.textContent = \"BokehJS is loading...\";\n",
       "    }\n",
       "    if (root.Bokeh !== undefined) {\n",
       "      if (el != null) {\n",
       "        el.textContent = \"BokehJS \" + root.Bokeh.version + \" successfully loaded.\";\n",
       "      }\n",
       "    } else if (Date.now() < root._bokeh_timeout) {\n",
       "      setTimeout(display_loaded, 100)\n",
       "    }\n",
       "  }\n",
       "\n",
       "\n",
       "  function run_callbacks() {\n",
       "    try {\n",
       "      root._bokeh_onload_callbacks.forEach(function(callback) {\n",
       "        if (callback != null)\n",
       "          callback();\n",
       "      });\n",
       "    } finally {\n",
       "      delete root._bokeh_onload_callbacks\n",
       "    }\n",
       "    console.debug(\"Bokeh: all callbacks have finished\");\n",
       "  }\n",
       "\n",
       "  function load_libs(css_urls, js_urls, callback) {\n",
       "    if (css_urls == null) css_urls = [];\n",
       "    if (js_urls == null) js_urls = [];\n",
       "\n",
       "    root._bokeh_onload_callbacks.push(callback);\n",
       "    if (root._bokeh_is_loading > 0) {\n",
       "      console.debug(\"Bokeh: BokehJS is being loaded, scheduling callback at\", now());\n",
       "      return null;\n",
       "    }\n",
       "    if (js_urls == null || js_urls.length === 0) {\n",
       "      run_callbacks();\n",
       "      return null;\n",
       "    }\n",
       "    console.debug(\"Bokeh: BokehJS not loaded, scheduling load and callback at\", now());\n",
       "    root._bokeh_is_loading = css_urls.length + js_urls.length;\n",
       "\n",
       "    function on_load() {\n",
       "      root._bokeh_is_loading--;\n",
       "      if (root._bokeh_is_loading === 0) {\n",
       "        console.debug(\"Bokeh: all BokehJS libraries/stylesheets loaded\");\n",
       "        run_callbacks()\n",
       "      }\n",
       "    }\n",
       "\n",
       "    function on_error() {\n",
       "      console.error(\"failed to load \" + url);\n",
       "    }\n",
       "\n",
       "    for (var i = 0; i < css_urls.length; i++) {\n",
       "      var url = css_urls[i];\n",
       "      const element = document.createElement(\"link\");\n",
       "      element.onload = on_load;\n",
       "      element.onerror = on_error;\n",
       "      element.rel = \"stylesheet\";\n",
       "      element.type = \"text/css\";\n",
       "      element.href = url;\n",
       "      console.debug(\"Bokeh: injecting link tag for BokehJS stylesheet: \", url);\n",
       "      document.body.appendChild(element);\n",
       "    }\n",
       "\n",
       "    const hashes = {\"https://cdn.bokeh.org/bokeh/release/bokeh-2.0.2.min.js\": \"ufR9RFnRs6lniiaFvtJziE0YeidtAgBRH6ux2oUItHw5WTvE1zuk9uzhUU/FJXDp\", \"https://cdn.bokeh.org/bokeh/release/bokeh-widgets-2.0.2.min.js\": \"8QM/PGWBT+IssZuRcDcjzwIh1mkOmJSoNMmyYDZbCfXJg3Ap1lEvdVgFuSAwhb/J\", \"https://cdn.bokeh.org/bokeh/release/bokeh-tables-2.0.2.min.js\": \"Jm8cH3Rg0P6UeZhVY5cLy1WzKajUT9KImCY+76hEqrcJt59/d8GPvFHjCkYgnSIn\", \"https://cdn.bokeh.org/bokeh/release/bokeh-gl-2.0.2.min.js\": \"Ozhzj+SI7ywm74aOI/UajcWz+C0NjsPunEVyVIrxzYkB+jA+2tUw8x5xJCbVtK5I\"};\n",
       "\n",
       "    for (var i = 0; i < js_urls.length; i++) {\n",
       "      var url = js_urls[i];\n",
       "      var element = document.createElement('script');\n",
       "      element.onload = on_load;\n",
       "      element.onerror = on_error;\n",
       "      element.async = false;\n",
       "      element.src = url;\n",
       "      if (url in hashes) {\n",
       "        element.crossOrigin = \"anonymous\";\n",
       "        element.integrity = \"sha384-\" + hashes[url];\n",
       "      }\n",
       "      console.debug(\"Bokeh: injecting script tag for BokehJS library: \", url);\n",
       "      document.head.appendChild(element);\n",
       "    }\n",
       "  };\n",
       "\n",
       "  function inject_raw_css(css) {\n",
       "    const element = document.createElement(\"style\");\n",
       "    element.appendChild(document.createTextNode(css));\n",
       "    document.body.appendChild(element);\n",
       "  }\n",
       "\n",
       "  \n",
       "  var js_urls = [\"https://cdn.bokeh.org/bokeh/release/bokeh-2.0.2.min.js\", \"https://cdn.bokeh.org/bokeh/release/bokeh-widgets-2.0.2.min.js\", \"https://cdn.bokeh.org/bokeh/release/bokeh-tables-2.0.2.min.js\", \"https://cdn.bokeh.org/bokeh/release/bokeh-gl-2.0.2.min.js\"];\n",
       "  var css_urls = [];\n",
       "  \n",
       "\n",
       "  var inline_js = [\n",
       "    function(Bokeh) {\n",
       "      Bokeh.set_log_level(\"info\");\n",
       "    },\n",
       "    function(Bokeh) {\n",
       "    \n",
       "    \n",
       "    }\n",
       "  ];\n",
       "\n",
       "  function run_inline_js() {\n",
       "    \n",
       "    if (root.Bokeh !== undefined || force === true) {\n",
       "      \n",
       "    for (var i = 0; i < inline_js.length; i++) {\n",
       "      inline_js[i].call(root, root.Bokeh);\n",
       "    }\n",
       "    if (force === true) {\n",
       "        display_loaded();\n",
       "      }} else if (Date.now() < root._bokeh_timeout) {\n",
       "      setTimeout(run_inline_js, 100);\n",
       "    } else if (!root._bokeh_failed_load) {\n",
       "      console.log(\"Bokeh: BokehJS failed to load within specified timeout.\");\n",
       "      root._bokeh_failed_load = true;\n",
       "    } else if (force !== true) {\n",
       "      var cell = $(document.getElementById(\"1001\")).parents('.cell').data().cell;\n",
       "      cell.output_area.append_execute_result(NB_LOAD_WARNING)\n",
       "    }\n",
       "\n",
       "  }\n",
       "\n",
       "  if (root._bokeh_is_loading === 0) {\n",
       "    console.debug(\"Bokeh: BokehJS loaded, going straight to plotting\");\n",
       "    run_inline_js();\n",
       "  } else {\n",
       "    load_libs(css_urls, js_urls, function() {\n",
       "      console.debug(\"Bokeh: BokehJS plotting callback run at\", now());\n",
       "      run_inline_js();\n",
       "    });\n",
       "  }\n",
       "}(window));"
      ],
      "application/vnd.bokehjs_load.v0+json": "\n(function(root) {\n  function now() {\n    return new Date();\n  }\n\n  var force = true;\n\n  if (typeof root._bokeh_onload_callbacks === \"undefined\" || force === true) {\n    root._bokeh_onload_callbacks = [];\n    root._bokeh_is_loading = undefined;\n  }\n\n  \n\n  \n  if (typeof (root._bokeh_timeout) === \"undefined\" || force === true) {\n    root._bokeh_timeout = Date.now() + 5000;\n    root._bokeh_failed_load = false;\n  }\n\n  var NB_LOAD_WARNING = {'data': {'text/html':\n     \"<div style='background-color: #fdd'>\\n\"+\n     \"<p>\\n\"+\n     \"BokehJS does not appear to have successfully loaded. If loading BokehJS from CDN, this \\n\"+\n     \"may be due to a slow or bad network connection. Possible fixes:\\n\"+\n     \"</p>\\n\"+\n     \"<ul>\\n\"+\n     \"<li>re-rerun `output_notebook()` to attempt to load from CDN again, or</li>\\n\"+\n     \"<li>use INLINE resources instead, as so:</li>\\n\"+\n     \"</ul>\\n\"+\n     \"<code>\\n\"+\n     \"from bokeh.resources import INLINE\\n\"+\n     \"output_notebook(resources=INLINE)\\n\"+\n     \"</code>\\n\"+\n     \"</div>\"}};\n\n  function display_loaded() {\n    var el = document.getElementById(\"1001\");\n    if (el != null) {\n      el.textContent = \"BokehJS is loading...\";\n    }\n    if (root.Bokeh !== undefined) {\n      if (el != null) {\n        el.textContent = \"BokehJS \" + root.Bokeh.version + \" successfully loaded.\";\n      }\n    } else if (Date.now() < root._bokeh_timeout) {\n      setTimeout(display_loaded, 100)\n    }\n  }\n\n\n  function run_callbacks() {\n    try {\n      root._bokeh_onload_callbacks.forEach(function(callback) {\n        if (callback != null)\n          callback();\n      });\n    } finally {\n      delete root._bokeh_onload_callbacks\n    }\n    console.debug(\"Bokeh: all callbacks have finished\");\n  }\n\n  function load_libs(css_urls, js_urls, callback) {\n    if (css_urls == null) css_urls = [];\n    if (js_urls == null) js_urls = [];\n\n    root._bokeh_onload_callbacks.push(callback);\n    if (root._bokeh_is_loading > 0) {\n      console.debug(\"Bokeh: BokehJS is being loaded, scheduling callback at\", now());\n      return null;\n    }\n    if (js_urls == null || js_urls.length === 0) {\n      run_callbacks();\n      return null;\n    }\n    console.debug(\"Bokeh: BokehJS not loaded, scheduling load and callback at\", now());\n    root._bokeh_is_loading = css_urls.length + js_urls.length;\n\n    function on_load() {\n      root._bokeh_is_loading--;\n      if (root._bokeh_is_loading === 0) {\n        console.debug(\"Bokeh: all BokehJS libraries/stylesheets loaded\");\n        run_callbacks()\n      }\n    }\n\n    function on_error() {\n      console.error(\"failed to load \" + url);\n    }\n\n    for (var i = 0; i < css_urls.length; i++) {\n      var url = css_urls[i];\n      const element = document.createElement(\"link\");\n      element.onload = on_load;\n      element.onerror = on_error;\n      element.rel = \"stylesheet\";\n      element.type = \"text/css\";\n      element.href = url;\n      console.debug(\"Bokeh: injecting link tag for BokehJS stylesheet: \", url);\n      document.body.appendChild(element);\n    }\n\n    const hashes = {\"https://cdn.bokeh.org/bokeh/release/bokeh-2.0.2.min.js\": \"ufR9RFnRs6lniiaFvtJziE0YeidtAgBRH6ux2oUItHw5WTvE1zuk9uzhUU/FJXDp\", \"https://cdn.bokeh.org/bokeh/release/bokeh-widgets-2.0.2.min.js\": \"8QM/PGWBT+IssZuRcDcjzwIh1mkOmJSoNMmyYDZbCfXJg3Ap1lEvdVgFuSAwhb/J\", \"https://cdn.bokeh.org/bokeh/release/bokeh-tables-2.0.2.min.js\": \"Jm8cH3Rg0P6UeZhVY5cLy1WzKajUT9KImCY+76hEqrcJt59/d8GPvFHjCkYgnSIn\", \"https://cdn.bokeh.org/bokeh/release/bokeh-gl-2.0.2.min.js\": \"Ozhzj+SI7ywm74aOI/UajcWz+C0NjsPunEVyVIrxzYkB+jA+2tUw8x5xJCbVtK5I\"};\n\n    for (var i = 0; i < js_urls.length; i++) {\n      var url = js_urls[i];\n      var element = document.createElement('script');\n      element.onload = on_load;\n      element.onerror = on_error;\n      element.async = false;\n      element.src = url;\n      if (url in hashes) {\n        element.crossOrigin = \"anonymous\";\n        element.integrity = \"sha384-\" + hashes[url];\n      }\n      console.debug(\"Bokeh: injecting script tag for BokehJS library: \", url);\n      document.head.appendChild(element);\n    }\n  };\n\n  function inject_raw_css(css) {\n    const element = document.createElement(\"style\");\n    element.appendChild(document.createTextNode(css));\n    document.body.appendChild(element);\n  }\n\n  \n  var js_urls = [\"https://cdn.bokeh.org/bokeh/release/bokeh-2.0.2.min.js\", \"https://cdn.bokeh.org/bokeh/release/bokeh-widgets-2.0.2.min.js\", \"https://cdn.bokeh.org/bokeh/release/bokeh-tables-2.0.2.min.js\", \"https://cdn.bokeh.org/bokeh/release/bokeh-gl-2.0.2.min.js\"];\n  var css_urls = [];\n  \n\n  var inline_js = [\n    function(Bokeh) {\n      Bokeh.set_log_level(\"info\");\n    },\n    function(Bokeh) {\n    \n    \n    }\n  ];\n\n  function run_inline_js() {\n    \n    if (root.Bokeh !== undefined || force === true) {\n      \n    for (var i = 0; i < inline_js.length; i++) {\n      inline_js[i].call(root, root.Bokeh);\n    }\n    if (force === true) {\n        display_loaded();\n      }} else if (Date.now() < root._bokeh_timeout) {\n      setTimeout(run_inline_js, 100);\n    } else if (!root._bokeh_failed_load) {\n      console.log(\"Bokeh: BokehJS failed to load within specified timeout.\");\n      root._bokeh_failed_load = true;\n    } else if (force !== true) {\n      var cell = $(document.getElementById(\"1001\")).parents('.cell').data().cell;\n      cell.output_area.append_execute_result(NB_LOAD_WARNING)\n    }\n\n  }\n\n  if (root._bokeh_is_loading === 0) {\n    console.debug(\"Bokeh: BokehJS loaded, going straight to plotting\");\n    run_inline_js();\n  } else {\n    load_libs(css_urls, js_urls, function() {\n      console.debug(\"Bokeh: BokehJS plotting callback run at\", now());\n      run_inline_js();\n    });\n  }\n}(window));"
     },
     "metadata": {},
     "output_type": "display_data"
    }
   ],
   "source": [
    "from bokeh.models import ColumnDataSource,Legend, LegendItem\n",
    "from bokeh.plotting import figure, show, output_file\n",
    "from bokeh.models.tools import HoverTool\n",
    "from bokeh.io import output_notebook\n",
    "output_notebook()"
   ]
  },
  {
   "cell_type": "code",
   "execution_count": 14,
   "metadata": {},
   "outputs": [],
   "source": [
    "actual_values: list = pred.predictions.select(dependent_variable).rdd.map(lambda q: q[0]).collect()\n",
    "predicted_values: list = pred.predictions.select(\"prediction\").rdd.map(lambda q: q[0]).collect()"
   ]
  },
  {
   "cell_type": "code",
   "execution_count": 15,
   "metadata": {},
   "outputs": [
    {
     "data": {
      "text/html": [
       "\n",
       "\n",
       "\n",
       "\n",
       "\n",
       "\n",
       "  <div class=\"bk-root\" id=\"53184eb4-0d6d-4263-8ecc-cfe70453b831\" data-root-id=\"1002\"></div>\n"
      ]
     },
     "metadata": {},
     "output_type": "display_data"
    },
    {
     "data": {
      "application/javascript": [
       "(function(root) {\n",
       "  function embed_document(root) {\n",
       "    \n",
       "  var docs_json = {\"0d1f2dea-f528-440c-b80d-260e024942e9\":{\"roots\":{\"references\":[{\"attributes\":{\"below\":[{\"id\":\"1013\"}],\"center\":[{\"id\":\"1016\"},{\"id\":\"1020\"}],\"left\":[{\"id\":\"1017\"}],\"plot_height\":700,\"plot_width\":1000,\"renderers\":[{\"id\":\"1036\"}],\"title\":{\"id\":\"1003\"},\"toolbar\":{\"id\":\"1026\"},\"toolbar_location\":\"above\",\"x_range\":{\"id\":\"1005\"},\"x_scale\":{\"id\":\"1009\"},\"y_range\":{\"id\":\"1007\"},\"y_scale\":{\"id\":\"1011\"}},\"id\":\"1002\",\"subtype\":\"Figure\",\"type\":\"Plot\"},{\"attributes\":{},\"id\":\"1005\",\"type\":\"DataRange1d\"},{\"attributes\":{},\"id\":\"1018\",\"type\":\"BasicTicker\"},{\"attributes\":{\"callback\":null,\"tooltips\":[[\"index\",\"$index\"],[\"Act.\",\"@actual{0.00}\"],[\"Pred.\",\"@predicted{0.00}\"]]},\"id\":\"1025\",\"type\":\"HoverTool\"},{\"attributes\":{\"data\":{\"actual\":[461.7807422,266.0863409,490.2066,487.5554581,495.1759504,530.7667187,489.812488,443.9656268,416.3583536,347.7769266,496.9334463,496.5540816,440.0027475,439.8912805,532.7517876,401.0331352,588.7126055,452.3156755,478.584286,513.1531119,613.5993234,586.1558702,570.6300981,408.2169018,424.7626355,483.7965221,662.9610878,441.8966315,557.6082621,449.0703194,493.719193,424.7287739,689.2356998,482.1449969,432.4811686,551.6201455,501.7492333,523.6339351,444.582165,571.4710341,490.7386321,412.0129313,398.1634685,407.6571788,487.5475049,489.9080531,487.6462317,507.212569,577.273455,554.7220838,524.7976276,475.7590678,573.4158673,423.3083341,550.8133677,505.2300683,497.5866713,502.1327892,689.7876042,422.3687366,584.2183135,527.7837898,596.516698,438.3037078,462.6565189,576.4776072,436.5807403,357.5914394,560.5601606,378.4735664,628.0478039,407.8040306,466.4211988,529.0566632,587.5747995,506.5363931,304.1355916,640.5840619,478.1830597,497.7786422,399.9838716,557.634109,521.1429518,451.7278633,495.2994425,444.0538266,616.851523,494.6871558,570.200409,492.6060127,547.7099886,574.4156896,583.977802,452.627255,595.8228367,408.9583359,491.9115051,666.1255917,700.9170916,548.2803202,433.0487691,593.915003,462.8976362,402.1671222,612.3852299,554.900783,640.18774,583.0796357,595.8038189],\"index\":[0,1,2,3,4,5,6,7,8,9,10,11,12,13,14,15,16,17,18,19,20,21,22,23,24,25,26,27,28,29,30,31,32,33,34,35,36,37,38,39,40,41,42,43,44,45,46,47,48,49,50,51,52,53,54,55,56,57,58,59,60,61,62,63,64,65,66,67,68,69,70,71,72,73,74,75,76,77,78,79,80,81,82,83,84,85,86,87,88,89,90,91,92,93,94,95,96,97,98,99,100,101,102,103,104,105,106,107,108],\"predicted\":[450.747454024083,283.4142781417984,493.6418209103606,493.3265759950077,491.0044857492155,534.5473868126089,495.69239821751444,449.70731353505266,417.57422463781245,350.06083415960006,494.5196666134591,501.49715759708215,449.65413167999986,450.43837465119987,532.1658220024567,403.98516443254243,577.3541158766532,456.84216320479004,479.0975091111575,513.8782890185175,621.4657620821854,590.6247706900965,567.5394394565249,436.10880486196265,443.92491054775974,481.7138011424379,643.469192687744,440.48123783260326,569.9042466668659,439.29016535236383,481.43099709050534,433.4344891162332,676.611481632342,477.1673901336892,449.8129689333243,556.305413503075,524.0561395780624,526.2975504100564,452.2972063210666,559.2958618514472,487.4478700927418,409.85012461130555,412.6174131527416,396.3848974749335,505.8697044743067,504.56920000974105,488.10972987904097,501.0655566220232,570.9333812339296,572.3206712107349,535.8248822196426,475.4543770369153,561.5463565624393,435.24640643868634,532.2648196805915,508.1417768042529,485.1540347918053,491.787392254133,685.0265892833672,421.36814029718926,590.5773779692449,517.1163882737962,594.0837666953798,448.36792774513856,458.3299323348044,580.6289351792236,422.7960778880263,366.3555811972433,554.8205850012657,373.19947638551616,634.6827980286223,396.7711672724106,459.05479915466253,523.8642407214725,598.282704571441,525.818474862667,314.99915907644095,646.6587265399667,480.8785114700447,481.5616452533045,403.61459764645565,557.6160762188563,549.2277164337197,456.36952664562045,489.21232135709283,468.0801466797243,607.093152831761,499.0539029062529,560.0397556652372,509.6024899754491,554.7881475054517,577.3553008507818,585.8649551815945,458.6321580038782,610.9430661816939,415.0708741566823,498.5781406504084,672.062728755215,703.9890681233803,550.0617011493325,445.221105184444,602.7839469215801,473.9266507119737,424.7846116285907,610.5703712743766,564.5092587027793,667.7933595318596,584.7608274116094,600.6857229898217]},\"selected\":{\"id\":\"1043\"},\"selection_policy\":{\"id\":\"1044\"}},\"id\":\"1032\",\"type\":\"ColumnDataSource\"},{\"attributes\":{\"axis\":{\"id\":\"1017\"},\"dimension\":1,\"ticker\":null},\"id\":\"1020\",\"type\":\"Grid\"},{\"attributes\":{\"axis\":{\"id\":\"1013\"},\"ticker\":null},\"id\":\"1016\",\"type\":\"Grid\"},{\"attributes\":{\"data_source\":{\"id\":\"1032\"},\"glyph\":{\"id\":\"1034\"},\"hover_glyph\":null,\"muted_glyph\":null,\"nonselection_glyph\":{\"id\":\"1035\"},\"selection_glyph\":null,\"view\":{\"id\":\"1037\"}},\"id\":\"1036\",\"type\":\"GlyphRenderer\"},{\"attributes\":{\"active_drag\":\"auto\",\"active_inspect\":\"auto\",\"active_multi\":null,\"active_scroll\":\"auto\",\"active_tap\":\"auto\",\"tools\":[{\"id\":\"1021\"},{\"id\":\"1022\"},{\"id\":\"1023\"},{\"id\":\"1024\"},{\"id\":\"1025\"}]},\"id\":\"1026\",\"type\":\"Toolbar\"},{\"attributes\":{\"axis_label\":\"Actual\",\"axis_line_width\":2,\"formatter\":{\"id\":\"1040\"},\"ticker\":{\"id\":\"1018\"}},\"id\":\"1017\",\"type\":\"LinearAxis\"},{\"attributes\":{\"text\":\"Pred. vs. Actual Outcome\"},\"id\":\"1003\",\"type\":\"Title\"},{\"attributes\":{},\"id\":\"1014\",\"type\":\"BasicTicker\"},{\"attributes\":{},\"id\":\"1043\",\"type\":\"Selection\"},{\"attributes\":{},\"id\":\"1009\",\"type\":\"LinearScale\"},{\"attributes\":{},\"id\":\"1011\",\"type\":\"LinearScale\"},{\"attributes\":{\"fill_color\":{\"value\":\"#1f77b4\"},\"line_color\":{\"value\":\"#1f77b4\"},\"size\":{\"units\":\"screen\",\"value\":8},\"x\":{\"field\":\"actual\"},\"y\":{\"field\":\"predicted\"}},\"id\":\"1034\",\"type\":\"Scatter\"},{\"attributes\":{},\"id\":\"1021\",\"type\":\"PanTool\"},{\"attributes\":{},\"id\":\"1042\",\"type\":\"BasicTickFormatter\"},{\"attributes\":{},\"id\":\"1040\",\"type\":\"BasicTickFormatter\"},{\"attributes\":{\"source\":{\"id\":\"1032\"}},\"id\":\"1037\",\"type\":\"CDSView\"},{\"attributes\":{\"axis_label\":\"Pred.\",\"axis_line_width\":2,\"formatter\":{\"id\":\"1042\"},\"ticker\":{\"id\":\"1014\"}},\"id\":\"1013\",\"type\":\"LinearAxis\"},{\"attributes\":{},\"id\":\"1024\",\"type\":\"SaveTool\"},{\"attributes\":{},\"id\":\"1007\",\"type\":\"DataRange1d\"},{\"attributes\":{\"fill_alpha\":{\"value\":0.1},\"fill_color\":{\"value\":\"#1f77b4\"},\"line_alpha\":{\"value\":0.1},\"line_color\":{\"value\":\"#1f77b4\"},\"size\":{\"units\":\"screen\",\"value\":8},\"x\":{\"field\":\"actual\"},\"y\":{\"field\":\"predicted\"}},\"id\":\"1035\",\"type\":\"Scatter\"},{\"attributes\":{},\"id\":\"1044\",\"type\":\"UnionRenderers\"},{\"attributes\":{},\"id\":\"1022\",\"type\":\"WheelZoomTool\"},{\"attributes\":{},\"id\":\"1023\",\"type\":\"ResetTool\"}],\"root_ids\":[\"1002\"]},\"title\":\"Bokeh Application\",\"version\":\"2.0.2\"}};\n",
       "  var render_items = [{\"docid\":\"0d1f2dea-f528-440c-b80d-260e024942e9\",\"root_ids\":[\"1002\"],\"roots\":{\"1002\":\"53184eb4-0d6d-4263-8ecc-cfe70453b831\"}}];\n",
       "  root.Bokeh.embed.embed_items_notebook(docs_json, render_items);\n",
       "\n",
       "  }\n",
       "  if (root.Bokeh !== undefined) {\n",
       "    embed_document(root);\n",
       "  } else {\n",
       "    var attempts = 0;\n",
       "    var timer = setInterval(function(root) {\n",
       "      if (root.Bokeh !== undefined) {\n",
       "        clearInterval(timer);\n",
       "        embed_document(root);\n",
       "      } else {\n",
       "        attempts++;\n",
       "        if (attempts > 100) {\n",
       "          clearInterval(timer);\n",
       "          console.log(\"Bokeh: ERROR: Unable to run BokehJS code because BokehJS library is missing\");\n",
       "        }\n",
       "      }\n",
       "    }, 10, root)\n",
       "  }\n",
       "})(window);"
      ],
      "application/vnd.bokehjs_exec.v0+json": ""
     },
     "metadata": {
      "application/vnd.bokehjs_exec.v0+json": {
       "id": "1002"
      }
     },
     "output_type": "display_data"
    }
   ],
   "source": [
    "P1_TOOLTIPS = [\n",
    "    (\"index\", \"$index\"),\n",
    "    (\"Act.\", \"@actual{0.00}\"),\n",
    "    (\"Pred.\", \"@predicted{0.00}\"),\n",
    "]\n",
    "\n",
    "p1 = figure(\n",
    "    title=\"Pred. vs. Actual Outcome\",\n",
    "    tools = \"pan,wheel_zoom,reset,save\",\n",
    "    toolbar_location=\"above\",\n",
    "    tooltips=P1_TOOLTIPS,    \n",
    "    plot_width = 1000,\n",
    "    plot_height = 700,\n",
    ")\n",
    "\n",
    "ddict = {\n",
    "    \"index\": list(range(len(actual_values))),\n",
    "    \"actual\": actual_values,\n",
    "    \"predicted\": predicted_values,\n",
    "}\n",
    "\n",
    "srce = ColumnDataSource(data = ddict)\n",
    "\n",
    "# Renderer\n",
    "p1.scatter(x = \"actual\", y = \"predicted\", size=8, source = srce)\n",
    "\n",
    "# x-axis label\n",
    "p1.xaxis.axis_label = \"Pred.\"\n",
    "p1.xaxis.axis_line_width = 2\n",
    "\n",
    "# y-axis label\n",
    "p1.yaxis.axis_label = \"Actual\"\n",
    "p1.yaxis.axis_line_width = 2\n",
    "\n",
    "show(p1)"
   ]
  },
  {
   "cell_type": "code",
   "execution_count": 16,
   "metadata": {},
   "outputs": [
    {
     "data": {
      "text/html": [
       "\n",
       "\n",
       "\n",
       "\n",
       "\n",
       "\n",
       "  <div class=\"bk-root\" id=\"88649e71-56f1-4c85-bb39-d4460c49d7e7\" data-root-id=\"1087\"></div>\n"
      ]
     },
     "metadata": {},
     "output_type": "display_data"
    },
    {
     "data": {
      "application/javascript": [
       "(function(root) {\n",
       "  function embed_document(root) {\n",
       "    \n",
       "  var docs_json = {\"8b5901e3-f844-41ea-a6ab-dd5ba3755340\":{\"roots\":{\"references\":[{\"attributes\":{\"background_fill_color\":\"rgb(230, 240, 239)\",\"below\":[{\"id\":\"1098\"}],\"center\":[{\"id\":\"1101\"},{\"id\":\"1105\"},{\"id\":\"1127\"}],\"left\":[{\"id\":\"1102\"}],\"outline_line_color\":\"rgb(84, 26, 72)\",\"plot_height\":800,\"renderers\":[{\"id\":\"1120\"},{\"id\":\"1132\"}],\"sizing_mode\":\"stretch_width\",\"title\":{\"id\":\"1088\"},\"toolbar\":{\"id\":\"1111\"},\"toolbar_location\":\"above\",\"x_range\":{\"id\":\"1090\"},\"x_scale\":{\"id\":\"1094\"},\"y_range\":{\"id\":\"1092\"},\"y_scale\":{\"id\":\"1096\"}},\"id\":\"1087\",\"subtype\":\"Figure\",\"type\":\"Plot\"},{\"attributes\":{\"axis\":{\"id\":\"1102\"},\"dimension\":1,\"ticker\":null},\"id\":\"1105\",\"type\":\"Grid\"},{\"attributes\":{},\"id\":\"1094\",\"type\":\"LinearScale\"},{\"attributes\":{\"line_color\":\"red\",\"x\":{\"field\":\"index\"},\"y\":{\"field\":\"predicted\"}},\"id\":\"1130\",\"type\":\"Line\"},{\"attributes\":{\"active_drag\":\"auto\",\"active_inspect\":\"auto\",\"active_multi\":null,\"active_scroll\":\"auto\",\"active_tap\":\"auto\",\"tools\":[{\"id\":\"1106\"},{\"id\":\"1107\"},{\"id\":\"1108\"},{\"id\":\"1109\"},{\"id\":\"1110\"}]},\"id\":\"1111\",\"type\":\"Toolbar\"},{\"attributes\":{\"data\":{\"actual\":[461.7807422,266.0863409,490.2066,487.5554581,495.1759504,530.7667187,489.812488,443.9656268,416.3583536,347.7769266,496.9334463,496.5540816,440.0027475,439.8912805,532.7517876,401.0331352,588.7126055,452.3156755,478.584286,513.1531119,613.5993234,586.1558702,570.6300981,408.2169018,424.7626355,483.7965221,662.9610878,441.8966315,557.6082621,449.0703194,493.719193,424.7287739,689.2356998,482.1449969,432.4811686,551.6201455,501.7492333,523.6339351,444.582165,571.4710341,490.7386321,412.0129313,398.1634685,407.6571788,487.5475049,489.9080531,487.6462317,507.212569,577.273455,554.7220838,524.7976276,475.7590678,573.4158673,423.3083341,550.8133677,505.2300683,497.5866713,502.1327892,689.7876042,422.3687366,584.2183135,527.7837898,596.516698,438.3037078,462.6565189,576.4776072,436.5807403,357.5914394,560.5601606,378.4735664,628.0478039,407.8040306,466.4211988,529.0566632,587.5747995,506.5363931,304.1355916,640.5840619,478.1830597,497.7786422,399.9838716,557.634109,521.1429518,451.7278633,495.2994425,444.0538266,616.851523,494.6871558,570.200409,492.6060127,547.7099886,574.4156896,583.977802,452.627255,595.8228367,408.9583359,491.9115051,666.1255917,700.9170916,548.2803202,433.0487691,593.915003,462.8976362,402.1671222,612.3852299,554.900783,640.18774,583.0796357,595.8038189],\"index\":[0,1,2,3,4,5,6,7,8,9,10,11,12,13,14,15,16,17,18,19,20,21,22,23,24,25,26,27,28,29,30,31,32,33,34,35,36,37,38,39,40,41,42,43,44,45,46,47,48,49,50,51,52,53,54,55,56,57,58,59,60,61,62,63,64,65,66,67,68,69,70,71,72,73,74,75,76,77,78,79,80,81,82,83,84,85,86,87,88,89,90,91,92,93,94,95,96,97,98,99,100,101,102,103,104,105,106,107,108],\"predicted\":[450.747454024083,283.4142781417984,493.6418209103606,493.3265759950077,491.0044857492155,534.5473868126089,495.69239821751444,449.70731353505266,417.57422463781245,350.06083415960006,494.5196666134591,501.49715759708215,449.65413167999986,450.43837465119987,532.1658220024567,403.98516443254243,577.3541158766532,456.84216320479004,479.0975091111575,513.8782890185175,621.4657620821854,590.6247706900965,567.5394394565249,436.10880486196265,443.92491054775974,481.7138011424379,643.469192687744,440.48123783260326,569.9042466668659,439.29016535236383,481.43099709050534,433.4344891162332,676.611481632342,477.1673901336892,449.8129689333243,556.305413503075,524.0561395780624,526.2975504100564,452.2972063210666,559.2958618514472,487.4478700927418,409.85012461130555,412.6174131527416,396.3848974749335,505.8697044743067,504.56920000974105,488.10972987904097,501.0655566220232,570.9333812339296,572.3206712107349,535.8248822196426,475.4543770369153,561.5463565624393,435.24640643868634,532.2648196805915,508.1417768042529,485.1540347918053,491.787392254133,685.0265892833672,421.36814029718926,590.5773779692449,517.1163882737962,594.0837666953798,448.36792774513856,458.3299323348044,580.6289351792236,422.7960778880263,366.3555811972433,554.8205850012657,373.19947638551616,634.6827980286223,396.7711672724106,459.05479915466253,523.8642407214725,598.282704571441,525.818474862667,314.99915907644095,646.6587265399667,480.8785114700447,481.5616452533045,403.61459764645565,557.6160762188563,549.2277164337197,456.36952664562045,489.21232135709283,468.0801466797243,607.093152831761,499.0539029062529,560.0397556652372,509.6024899754491,554.7881475054517,577.3553008507818,585.8649551815945,458.6321580038782,610.9430661816939,415.0708741566823,498.5781406504084,672.062728755215,703.9890681233803,550.0617011493325,445.221105184444,602.7839469215801,473.9266507119737,424.7846116285907,610.5703712743766,564.5092587027793,667.7933595318596,584.7608274116094,600.6857229898217]},\"selected\":{\"id\":\"1043\"},\"selection_policy\":{\"id\":\"1044\"}},\"id\":\"1032\",\"type\":\"ColumnDataSource\"},{\"attributes\":{},\"id\":\"1108\",\"type\":\"ResetTool\"},{\"attributes\":{\"label\":{\"value\":\"predicted\"},\"renderers\":[{\"id\":\"1132\"}]},\"id\":\"1141\",\"type\":\"LegendItem\"},{\"attributes\":{},\"id\":\"1106\",\"type\":\"PanTool\"},{\"attributes\":{\"line_alpha\":0.1,\"line_color\":\"red\",\"x\":{\"field\":\"index\"},\"y\":{\"field\":\"predicted\"}},\"id\":\"1131\",\"type\":\"Line\"},{\"attributes\":{\"line_alpha\":0.1,\"line_color\":\"blue\",\"x\":{\"field\":\"index\"},\"y\":{\"field\":\"actual\"}},\"id\":\"1119\",\"type\":\"Line\"},{\"attributes\":{\"formatter\":{\"id\":\"1124\"},\"ticker\":{\"id\":\"1103\"}},\"id\":\"1102\",\"type\":\"LinearAxis\"},{\"attributes\":{\"axis\":{\"id\":\"1098\"},\"ticker\":null},\"id\":\"1101\",\"type\":\"Grid\"},{\"attributes\":{\"label\":{\"value\":\"actual\"},\"renderers\":[{\"id\":\"1120\"}]},\"id\":\"1128\",\"type\":\"LegendItem\"},{\"attributes\":{\"source\":{\"id\":\"1032\"}},\"id\":\"1121\",\"type\":\"CDSView\"},{\"attributes\":{\"source\":{\"id\":\"1032\"}},\"id\":\"1133\",\"type\":\"CDSView\"},{\"attributes\":{},\"id\":\"1107\",\"type\":\"WheelZoomTool\"},{\"attributes\":{\"items\":[{\"id\":\"1128\"},{\"id\":\"1141\"}]},\"id\":\"1127\",\"type\":\"Legend\"},{\"attributes\":{},\"id\":\"1090\",\"type\":\"DataRange1d\"},{\"attributes\":{},\"id\":\"1043\",\"type\":\"Selection\"},{\"attributes\":{\"data_source\":{\"id\":\"1032\"},\"glyph\":{\"id\":\"1118\"},\"hover_glyph\":null,\"muted_glyph\":null,\"nonselection_glyph\":{\"id\":\"1119\"},\"selection_glyph\":null,\"view\":{\"id\":\"1121\"}},\"id\":\"1120\",\"type\":\"GlyphRenderer\"},{\"attributes\":{},\"id\":\"1103\",\"type\":\"BasicTicker\"},{\"attributes\":{\"text\":\"Pred. vs. Actual Outcome\"},\"id\":\"1088\",\"type\":\"Title\"},{\"attributes\":{},\"id\":\"1109\",\"type\":\"SaveTool\"},{\"attributes\":{},\"id\":\"1092\",\"type\":\"DataRange1d\"},{\"attributes\":{\"callback\":null,\"tooltips\":[[\"index\",\"$index\"],[\"Act.\",\"@actual{0.00}\"],[\"Pred.\",\"@predicted{0.00}\"]]},\"id\":\"1110\",\"type\":\"HoverTool\"},{\"attributes\":{\"formatter\":{\"id\":\"1126\"},\"ticker\":{\"id\":\"1099\"}},\"id\":\"1098\",\"type\":\"LinearAxis\"},{\"attributes\":{\"line_color\":\"blue\",\"x\":{\"field\":\"index\"},\"y\":{\"field\":\"actual\"}},\"id\":\"1118\",\"type\":\"Line\"},{\"attributes\":{},\"id\":\"1126\",\"type\":\"BasicTickFormatter\"},{\"attributes\":{},\"id\":\"1124\",\"type\":\"BasicTickFormatter\"},{\"attributes\":{},\"id\":\"1044\",\"type\":\"UnionRenderers\"},{\"attributes\":{\"data_source\":{\"id\":\"1032\"},\"glyph\":{\"id\":\"1130\"},\"hover_glyph\":null,\"muted_glyph\":null,\"nonselection_glyph\":{\"id\":\"1131\"},\"selection_glyph\":null,\"view\":{\"id\":\"1133\"}},\"id\":\"1132\",\"type\":\"GlyphRenderer\"},{\"attributes\":{},\"id\":\"1099\",\"type\":\"BasicTicker\"},{\"attributes\":{},\"id\":\"1096\",\"type\":\"LinearScale\"}],\"root_ids\":[\"1087\"]},\"title\":\"Bokeh Application\",\"version\":\"2.0.2\"}};\n",
       "  var render_items = [{\"docid\":\"8b5901e3-f844-41ea-a6ab-dd5ba3755340\",\"root_ids\":[\"1087\"],\"roots\":{\"1087\":\"88649e71-56f1-4c85-bb39-d4460c49d7e7\"}}];\n",
       "  root.Bokeh.embed.embed_items_notebook(docs_json, render_items);\n",
       "\n",
       "  }\n",
       "  if (root.Bokeh !== undefined) {\n",
       "    embed_document(root);\n",
       "  } else {\n",
       "    var attempts = 0;\n",
       "    var timer = setInterval(function(root) {\n",
       "      if (root.Bokeh !== undefined) {\n",
       "        clearInterval(timer);\n",
       "        embed_document(root);\n",
       "      } else {\n",
       "        attempts++;\n",
       "        if (attempts > 100) {\n",
       "          clearInterval(timer);\n",
       "          console.log(\"Bokeh: ERROR: Unable to run BokehJS code because BokehJS library is missing\");\n",
       "        }\n",
       "      }\n",
       "    }, 10, root)\n",
       "  }\n",
       "})(window);"
      ],
      "application/vnd.bokehjs_exec.v0+json": ""
     },
     "metadata": {
      "application/vnd.bokehjs_exec.v0+json": {
       "id": "1087"
      }
     },
     "output_type": "display_data"
    }
   ],
   "source": [
    "P2_TOOLTIPS = [\n",
    "    (\"index\", \"$index\"),\n",
    "    (\"Act.\", \"@actual{0.00}\"),\n",
    "    (\"Pred.\", \"@predicted{0.00}\"),\n",
    "]\n",
    "\n",
    "p2 = figure(\n",
    "    title=\"Pred. vs. Actual Outcome\",\n",
    "    tools = \"pan,wheel_zoom,reset,save\",\n",
    "    toolbar_location=\"above\",\n",
    "    tooltips = P2_TOOLTIPS,\n",
    "    sizing_mode=\"stretch_width\",\n",
    "    # max_width = 1500,\n",
    "    plot_height=800\n",
    ")\n",
    "\n",
    "\n",
    "# Renderer\n",
    "# p2.multi_line(xs = x_values, ys = y_values, color=[\"blue\", \"red\"])\n",
    "p2.line(x = \"index\", y = \"actual\", legend_label=\"actual\", color=\"blue\", source=srce)\n",
    "p2.line(x = \"index\", y = \"predicted\", legend_label=\"predicted\", color=\"red\", source=srce)\n",
    "\n",
    "# Plot colors\n",
    "p2.background_fill_color = (230,240,239)\n",
    "# p2.border_fill_color = (102, 204, 255)\n",
    "p2.outline_line_color = (84,26,72)\n",
    "\n",
    "show(p2)"
   ]
  },
  {
   "cell_type": "code",
   "execution_count": 22,
   "metadata": {},
   "outputs": [],
   "source": [
    "# If we're happy with our data, remove the temp file(s).\n",
    "\n",
    "for f in DATA_SUBDIR.rglob(\"*\"):\n",
    "    _path = Path(f)\n",
    "    if _path.is_file():\n",
    "        _path.unlink()\n"
   ]
  },
  {
   "cell_type": "code",
   "execution_count": 23,
   "metadata": {},
   "outputs": [
    {
     "name": "stdout",
     "output_type": "stream",
     "text": [
      "Bye, bye!\n"
     ]
    }
   ],
   "source": [
    "print(\"Bye, bye!\")\n",
    "spark.stop()"
   ]
  }
 ],
 "metadata": {
  "kernelspec": {
   "display_name": "Python 3",
   "language": "python",
   "name": "python3"
  },
  "language_info": {
   "codemirror_mode": {
    "name": "ipython",
    "version": 3
   },
   "file_extension": ".py",
   "mimetype": "text/x-python",
   "name": "python",
   "nbconvert_exporter": "python",
   "pygments_lexer": "ipython3",
   "version": "3.7.4"
  }
 },
 "nbformat": 4,
 "nbformat_minor": 2
}
