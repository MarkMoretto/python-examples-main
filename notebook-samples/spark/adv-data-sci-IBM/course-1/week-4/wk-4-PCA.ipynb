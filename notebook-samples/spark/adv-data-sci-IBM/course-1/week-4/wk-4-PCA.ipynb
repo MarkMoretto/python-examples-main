{
 "cells": [
  {
   "cell_type": "code",
   "execution_count": 1,
   "metadata": {},
   "outputs": [],
   "source": [
    "%matplotlib inline\n",
    "\n",
    "import matplotlib.pyplot as plt\n",
    "\n",
    "from config import PARQUET_FILE"
   ]
  },
  {
   "cell_type": "code",
   "execution_count": 2,
   "metadata": {},
   "outputs": [],
   "source": [
    "df = spark.read.parquet(PARQUET_FILE)"
   ]
  },
  {
   "cell_type": "code",
   "execution_count": 5,
   "metadata": {},
   "outputs": [],
   "source": [
    "df.createOrReplaceTempView(\"washing\")\n",
    "#df.printSchema()"
   ]
  },
  {
   "cell_type": "code",
   "execution_count": 6,
   "metadata": {},
   "outputs": [],
   "source": [
    "res = spark.sql(\"\"\"\n",
    "SELECT *\n",
    "FROM (\n",
    "    SELECT min(temperature) as min_temp\n",
    "    ,  max(temperature) as max_temp\n",
    "    ,  min(voltage) as min_voltage\n",
    "    ,  max(voltage) as max_voltage\n",
    "    ,  min(flowrate) as min_flowrate\n",
    "    ,  max(flowrate) as max_flowrate\n",
    "    ,  min(frequency) as min_frequency\n",
    "    ,  max(frequency) as max_frequency\n",
    "    \n",
    "    ,  min(hardness) as min_hardness\n",
    "    ,  max(hardness) as max_hardness\n",
    "    ,  min(speed) as min_speed\n",
    "    ,  max(speed) as max_speed\n",
    "    FROM washing\n",
    "    WINDOW w AS (ORDER BY ts ROWS BETWEEN CURRENT ROW AND 10 FOLLOWING)\n",
    ")\n",
    "WHERE min_temp IS NOT NULL\n",
    "AND\tmax_temp IS NOT NULL\n",
    "AND\tmin_voltage IS NOT NULL\n",
    "AND\tmax_voltage IS NOT NULL\n",
    "AND\tmin_flowrate IS NOT NULL\n",
    "AND\tmax_flowrate IS NOT NULL\n",
    "AND\tmin_frequency IS NOT NULL\n",
    "AND\tmax_frequency IS NOT NULL\n",
    "AND\tmin_hardness IS NOT NULL\n",
    "AND\tmax_hardness IS NOT NULL\n",
    "AND\tmin_speed IS NOT NULL\n",
    "AND\tmax_speed IS NOT NULL\n",
    "\"\"\")"
   ]
  },
  {
   "cell_type": "code",
   "execution_count": 7,
   "metadata": {},
   "outputs": [
    {
     "data": {
      "text/plain": [
       "[Row(min_temp=80, max_temp=100, min_voltage=220, max_voltage=258, min_flowrate=11, max_flowrate=11, min_frequency=60, max_frequency=80, min_hardness=70, max_hardness=195, min_speed=1000, max_speed=1289)]"
      ]
     },
     "execution_count": 7,
     "metadata": {},
     "output_type": "execute_result"
    }
   ],
   "source": [
    "res.take(10)"
   ]
  }
 ],
 "metadata": {
  "kernelspec": {
   "display_name": "Python 3",
   "language": "python",
   "name": "python3"
  },
  "language_info": {
   "codemirror_mode": {
    "name": "ipython",
    "version": 3
   },
   "file_extension": ".py",
   "mimetype": "text/x-python",
   "name": "python",
   "nbconvert_exporter": "python",
   "pygments_lexer": "ipython3",
   "version": "3.7.4"
  }
 },
 "nbformat": 4,
 "nbformat_minor": 2
}
