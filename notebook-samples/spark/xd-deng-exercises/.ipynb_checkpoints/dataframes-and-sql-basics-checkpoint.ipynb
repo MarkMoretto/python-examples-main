{
 "cells": [
  {
   "cell_type": "markdown",
   "metadata": {},
   "source": [
    "#### DataFramss and "
   ]
  },
  {
   "cell_type": "code",
   "execution_count": 26,
   "metadata": {},
   "outputs": [],
   "source": [
    "import urllib.request as ureq\n",
    "# from io import BytesIO, StringIO\n",
    "\n",
    "from pathlib import Path\n",
    "from numpy import array\n",
    "\n",
    "# from pyspark import SparkConf, SparkContext\n",
    "from pyspark.sql import SparkSession, SQLContext\n",
    "from pyspark.mllib.clustering import GaussianMixture, GaussianMixtureModel"
   ]
  },
  {
   "cell_type": "code",
   "execution_count": 10,
   "metadata": {},
   "outputs": [],
   "source": [
    "cran_data_url = \"https://github.com/XD-DENG/Spark-practice/blob/master/sample_data/2015-12-12.csv?raw=true\"\n",
    "\n",
    "outfile = Path().joinpath(r\"data\\2015-12-12.csv\")\n",
    "\n",
    "with ureq.urlopen(cran_data_url) as resp:\n",
    "    tmp = resp.read().decode(\"utf-8\")\n",
    "    if tmp:\n",
    "        with outfile.open(mode=\"w\") as outf:\n",
    "            outf.write(tmp)"
   ]
  },
  {
   "cell_type": "code",
   "execution_count": 11,
   "metadata": {},
   "outputs": [],
   "source": [
    "spark = SparkSession.builder.appName(\"DataframesAndSQL\").getOrCreate()\n",
    "sc = spark.sparkContext"
   ]
  },
  {
   "cell_type": "code",
   "execution_count": 14,
   "metadata": {},
   "outputs": [],
   "source": [
    "rdd = sc.textFile(str(outfile)).map(lambda x: x.replace('\"', \"\")).map(lambda y: y.split(\",\"))"
   ]
  },
  {
   "cell_type": "code",
   "execution_count": 15,
   "metadata": {},
   "outputs": [
    {
     "data": {
      "text/plain": [
       "[['date',\n",
       "  'time',\n",
       "  'size',\n",
       "  'r_version',\n",
       "  'r_arch',\n",
       "  'r_os',\n",
       "  'package',\n",
       "  'version',\n",
       "  'country',\n",
       "  'ip_id'],\n",
       " ['2015-12-12',\n",
       "  '13:42:10',\n",
       "  '257886',\n",
       "  '3.2.2',\n",
       "  'i386',\n",
       "  'mingw32',\n",
       "  'HistData',\n",
       "  '0.7-6',\n",
       "  'CZ',\n",
       "  '1']]"
      ]
     },
     "execution_count": 15,
     "metadata": {},
     "output_type": "execute_result"
    }
   ],
   "source": [
    "rdd.take(2)"
   ]
  },
  {
   "cell_type": "code",
   "execution_count": 16,
   "metadata": {},
   "outputs": [
    {
     "data": {
      "text/plain": [
       "[['2015-12-12',\n",
       "  '11:44:55',\n",
       "  '1374166',\n",
       "  '3.2.3',\n",
       "  'x86_64',\n",
       "  'mingw32',\n",
       "  'adehabitatHS',\n",
       "  '0.3.12',\n",
       "  'AE',\n",
       "  '556'],\n",
       " ['2015-12-12',\n",
       "  '12:02:02',\n",
       "  '155502',\n",
       "  '3.2.3',\n",
       "  'x86_64',\n",
       "  'mingw32',\n",
       "  'allan',\n",
       "  '1.01',\n",
       "  'GB',\n",
       "  '548'],\n",
       " ['2015-12-12',\n",
       "  '09:36:58',\n",
       "  '83808',\n",
       "  '3.2.0',\n",
       "  'x86_64',\n",
       "  'linux-gnu',\n",
       "  'stringr',\n",
       "  '1.0.0',\n",
       "  'GB',\n",
       "  '3249'],\n",
       " ['2015-12-12',\n",
       "  '21:25:00',\n",
       "  '512',\n",
       "  'NA',\n",
       "  'NA',\n",
       "  'NA',\n",
       "  'Peak2Trough',\n",
       "  '1.2',\n",
       "  'CN',\n",
       "  '5176'],\n",
       " ['2015-12-12',\n",
       "  '20:39:04',\n",
       "  '510',\n",
       "  'NA',\n",
       "  'NA',\n",
       "  'NA',\n",
       "  'svSocket',\n",
       "  '0.9-51',\n",
       "  'CN',\n",
       "  '4850']]"
      ]
     },
     "execution_count": 16,
     "metadata": {},
     "output_type": "execute_result"
    }
   ],
   "source": [
    "rdd.takeSample(False, 5)"
   ]
  },
  {
   "cell_type": "code",
   "execution_count": 19,
   "metadata": {},
   "outputs": [
    {
     "data": {
      "text/plain": [
       "[('HistData', 159),\n",
       " ('UsingR', 151),\n",
       " ('lme4', 1560),\n",
       " ('testthat', 1178),\n",
       " ('maps', 1586)]"
      ]
     },
     "execution_count": 19,
     "metadata": {},
     "output_type": "execute_result"
    }
   ],
   "source": [
    "package_name_col_idx = 6\n",
    "package_counts = rdd.map(lambda q: (q[package_name_col_idx], 1)).reduceByKey(lambda x, y: x + y)\n",
    "type(package_counts)\n",
    "package_counts.take(5)"
   ]
  },
  {
   "cell_type": "code",
   "execution_count": 22,
   "metadata": {},
   "outputs": [
    {
     "data": {
      "text/plain": [
       "[('Rcpp', 4783)]"
      ]
     },
     "execution_count": 22,
     "metadata": {},
     "output_type": "execute_result"
    }
   ],
   "source": [
    "# Find count for package 'Rcpp'\n",
    "target: str = \"Rcpp\"\n",
    "package_counts.filter(lambda n: n[0] == target).take(1)"
   ]
  },
  {
   "cell_type": "markdown",
   "metadata": {},
   "source": [
    "## Create Sql Context"
   ]
  },
  {
   "cell_type": "code",
   "execution_count": 27,
   "metadata": {},
   "outputs": [],
   "source": [
    "sqlc = SQLContext(sc)"
   ]
  },
  {
   "cell_type": "code",
   "execution_count": 28,
   "metadata": {},
   "outputs": [
    {
     "data": {
      "text/plain": [
       "DataFrame[date: string, time: string, size: string, r_version: string, r_arch: string, r_os: string, package: string, version: string, country: string, ip_id: string]"
      ]
     },
     "execution_count": 28,
     "metadata": {},
     "output_type": "execute_result"
    }
   ],
   "source": [
    "df = sqlc.createDataFrame(\n",
    "    data = rdd.filter(lambda Q: Q[0] != \"date\"),\n",
    "    schema = rdd.filter(lambda T: T[0] == \"date\").collect()[0]\n",
    ")\n",
    "\n",
    "df.persist()"
   ]
  },
  {
   "cell_type": "markdown",
   "metadata": {},
   "source": [
    "#### Sample of new dataframe"
   ]
  },
  {
   "cell_type": "code",
   "execution_count": 29,
   "metadata": {},
   "outputs": [
    {
     "name": "stdout",
     "output_type": "stream",
     "text": [
      "+----------+--------+-------+---------+------+-------+---------+-------+-------+-----+\n",
      "|      date|    time|   size|r_version|r_arch|   r_os|  package|version|country|ip_id|\n",
      "+----------+--------+-------+---------+------+-------+---------+-------+-------+-----+\n",
      "|2015-12-12|13:42:10| 257886|    3.2.2|  i386|mingw32| HistData|  0.7-6|     CZ|    1|\n",
      "|2015-12-12|13:24:37|1236751|    3.2.2|x86_64|mingw32|  RJSONIO|  1.3-0|     DE|    2|\n",
      "|2015-12-12|13:42:35|2077876|    3.2.2|  i386|mingw32|   UsingR|  2.0-5|     CZ|    1|\n",
      "|2015-12-12|13:42:01| 266724|    3.2.2|  i386|mingw32|gridExtra|  2.0.0|     CZ|    1|\n",
      "|2015-12-12|13:00:21|3687766|       NA|    NA|     NA|     lme4| 1.1-10|     DE|    3|\n",
      "|2015-12-12|13:08:56|  57429|       NA|    NA|     NA| testthat| 0.11.0|     DE|    3|\n",
      "|2015-12-12|13:08:09| 216068|    3.2.2|x86_64|mingw32|  mvtnorm|  1.0-3|     DE|    4|\n",
      "|2015-12-12|13:25:00|3595497|    3.2.2|x86_64|mingw32|     maps|  3.0.1|     DE|    2|\n",
      "|2015-12-12|13:25:05|1579597|    3.2.2|x86_64|mingw32|       sp|  1.2-1|     DE|    2|\n",
      "|2015-12-12|13:25:21| 892152|    3.2.3|x86_64|mingw32|geosphere|  1.4-3|     DE|    2|\n",
      "+----------+--------+-------+---------+------+-------+---------+-------+-------+-----+\n",
      "only showing top 10 rows\n",
      "\n"
     ]
    }
   ],
   "source": [
    "df.show(n = 10)"
   ]
  },
  {
   "cell_type": "markdown",
   "metadata": {},
   "source": [
    "#### Create aggregate object"
   ]
  },
  {
   "cell_type": "code",
   "execution_count": 30,
   "metadata": {},
   "outputs": [
    {
     "name": "stdout",
     "output_type": "stream",
     "text": [
      "+------------+-----+\n",
      "|     package|count|\n",
      "+------------+-----+\n",
      "|        Rcpp| 4783|\n",
      "|     ggplot2| 3913|\n",
      "|     stringi| 3748|\n",
      "|     stringr| 3449|\n",
      "|        plyr| 3436|\n",
      "|    magrittr| 3265|\n",
      "|      digest| 3223|\n",
      "|    reshape2| 3205|\n",
      "|RColorBrewer| 3046|\n",
      "|      scales| 3007|\n",
      "+------------+-----+\n",
      "only showing top 10 rows\n",
      "\n"
     ]
    }
   ],
   "source": [
    "df_pkg_counts = df.groupBy(\"package\").count().sort(\"count\", ascending=False)\n",
    "df_pkg_counts.show(10)"
   ]
  },
  {
   "cell_type": "markdown",
   "metadata": {},
   "source": [
    "#### Transform data with UDF"
   ]
  },
  {
   "cell_type": "code",
   "execution_count": 31,
   "metadata": {},
   "outputs": [
    {
     "name": "stdout",
     "output_type": "stream",
     "text": [
      "+------------+-----+------+\n",
      "|     package|count|   pct|\n",
      "+------------+-----+------+\n",
      "|        Rcpp| 4783|1.133%|\n",
      "|     ggplot2| 3913|0.927%|\n",
      "|     stringi| 3748|0.888%|\n",
      "|     stringr| 3449|0.817%|\n",
      "|        plyr| 3436|0.814%|\n",
      "|    magrittr| 3265|0.774%|\n",
      "|      digest| 3223|0.764%|\n",
      "|    reshape2| 3205|0.760%|\n",
      "|RColorBrewer| 3046|0.722%|\n",
      "|      scales| 3007|0.713%|\n",
      "+------------+-----+------+\n",
      "only showing top 10 rows\n",
      "\n"
     ]
    }
   ],
   "source": [
    "from pyspark.sql.functions import udf\n",
    "\n",
    "@udf\n",
    "def calc_pct(x):\n",
    "    return f\"{x*100:.3f}%\"\n",
    "\n",
    "df_pkg_counts = df_pkg_counts.withColumn(\"pct\", calc_pct(df_pkg_counts[\"count\"] / df.count()))\n",
    "df_pkg_counts.show(10)"
   ]
  },
  {
   "cell_type": "markdown",
   "metadata": {},
   "source": [
    "### Use SQL"
   ]
  },
  {
   "cell_type": "code",
   "execution_count": 33,
   "metadata": {},
   "outputs": [],
   "source": [
    "df_pkg_counts.createOrReplaceTempView(\"pkg_counts\")"
   ]
  },
  {
   "cell_type": "code",
   "execution_count": 34,
   "metadata": {},
   "outputs": [
    {
     "name": "stdout",
     "output_type": "stream",
     "text": [
      "[Row(pct='0.023%')]\n"
     ]
    }
   ],
   "source": [
    "res = sqlc.sql(\"\"\"\n",
    "SELECT pct\n",
    "FROM pkg_counts\n",
    "WHERE package = 'DT'\n",
    "\"\"\")\n",
    "print(res.collect())"
   ]
  },
  {
   "cell_type": "code",
   "execution_count": null,
   "metadata": {},
   "outputs": [],
   "source": [
    "# res = sqlc.sql(\"\"\"\n",
    "# SELECT *\n",
    "# FROM pkg_counts\n",
    "# WHERE count > 1000\n",
    "# ORDER BY count\n",
    "# \"\"\")\n",
    "# print(res.show(5))"
   ]
  }
 ],
 "metadata": {
  "kernelspec": {
   "display_name": "Python 3",
   "language": "python",
   "name": "python3"
  },
  "language_info": {
   "codemirror_mode": {
    "name": "ipython",
    "version": 3
   },
   "file_extension": ".py",
   "mimetype": "text/x-python",
   "name": "python",
   "nbconvert_exporter": "python",
   "pygments_lexer": "ipython3",
   "version": "3.7.4"
  }
 },
 "nbformat": 4,
 "nbformat_minor": 2
}
