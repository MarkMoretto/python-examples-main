{
 "cells": [
  {
   "cell_type": "code",
   "execution_count": null,
   "metadata": {},
   "outputs": [],
   "source": [
    "# Standard imports\n",
    "import re\n",
    "import urllib.request as ureq\n",
    "\n",
    "import matplotlib.pyplot as plt\n",
    "\n",
    "\n",
    "def print_stylesheets():\n",
    "    \"\"\"Print preconfigured stylesheets for matplotlib.pyplot\"\"\"\n",
    "    print(plt.style.available)\n",
    "\n",
    "# Version of matplotlib to query\n",
    "mpl_version = \"3.1.3\"\n",
    "\n",
    "# Full url to ~/customizations.html page\n",
    "url = f\"https://matplotlib.org/{mpl_version}/tutorials/introductory/customizing.html\"\n",
    "\n",
    "# Read and decode data\n",
    "with ureq.urlopen(url) as resp:\n",
    "    data = resp.read().decode(\"utf-8\")\n"
   ]
  },
  {
   "cell_type": "code",
   "execution_count": null,
   "metadata": {},
   "outputs": [],
   "source": [
    "tokens = [str(i).strip() for i in data.split(\"\\n\") if len(i) > 0]\n",
    "\n",
    "def find_keyword(kwrd = \"whiskerprops\"):\n",
    "    for i in tokens:\n",
    "        if kwrd in i:\n",
    "            print(i)"
   ]
  },
  {
   "cell_type": "code",
   "execution_count": null,
   "metadata": {},
   "outputs": [],
   "source": [
    "item_ptrn = r'<span\\s+?class\\=\"c1\">(.+?)<\\/span>'\n",
    "p = re.compile(item_ptrn, flags=re.M)\n",
    "all_items = p.findall(data)\n",
    "all_items = [str(i).strip() for i in all_items]\n",
    "\n",
    "# tst1 = '#xtick.major.pad      : 3.5    ## distance to major tick label in points'\n",
    "# tst2 = '## unix/linux:'\n",
    "# re.search(r\"#\\w\", tst1)\n",
    "# re.search(r\"#\\w\", tst2)\n",
    "\n",
    "attrs_ptrn = r\"^\\#[a-z0-9].+$\"\n",
    "pattr = re.compile(attrs_ptrn, flags = re.I)\n",
    "cmds = [i for i in all_items if pattr.search(i)]\n",
    "\n",
    "reformat_space_ptrn = r\"(\\w+\\.?\\w+?)(\\s?\\s*?:\\s+)(.+)\"\n",
    "rfrmt_sub_pat = r\"\\1 : \\3\"\n",
    "rsp = re.compile(reformat_space_ptrn)\n",
    "cmds1 = [rsp.sub(rfrmt_sub_pat, i) for i in cmds]\n",
    "\n",
    "\n",
    "\n",
    "\n",
    "for cmd in cmds1[20:50]:\n",
    "    items = re.split(r\"\\s:\\s\", cmd)\n",
    "    opt = re.sub(r\"\\#(.+)\\s?\", r\"\\1\", items[0])\n",
    "    val = re.split(r\"\\s+\", items[1])[0]\n",
    "    print(f\"{opt} : {val}\")"
   ]
  }
 ],
 "metadata": {
  "kernelspec": {
   "display_name": "Python 3.7.4 64-bit",
   "language": "python",
   "name": "python37464bita7750521215543a9b5f1f1e81021e3f4"
  },
  "language_info": {
   "codemirror_mode": {
    "name": "ipython",
    "version": 3
   },
   "file_extension": ".py",
   "mimetype": "text/x-python",
   "name": "python",
   "nbconvert_exporter": "python",
   "pygments_lexer": "ipython3",
   "version": "3.7.4"
  }
 },
 "nbformat": 4,
 "nbformat_minor": 2
}
