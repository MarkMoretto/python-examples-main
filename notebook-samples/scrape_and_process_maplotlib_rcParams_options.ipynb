{
 "cells": [
  {
   "cell_type": "markdown",
   "metadata": {},
   "source": [
    "# Scraping and Parsing Matplotlib rcParams Options\n",
    "\n",
    "This is a simple notebook to read and parse Matplotlib pyplot options listed on the package's website.\n",
    "\n",
    "URL: https://matplotlib.org/3.1.3/tutorials/introductory/customizing.html\n",
    "\n",
    "**Note**: The notebook has a variable parameter for matplotlib version."
   ]
  },
  {
   "cell_type": "code",
   "execution_count": 1,
   "metadata": {},
   "outputs": [],
   "source": [
    "# Standard imports\n",
    "import re\n",
    "import urllib.request as ureq\n",
    "\n",
    "# Third-party import\n",
    "import matplotlib.pyplot as plt\n",
    "\n",
    "\n",
    "# Version of matplotlib to query (current is 3.1.3 as of 2020-03-14)\n",
    "mpl_version = \"3.1.3\"\n",
    "\n",
    "\n",
    "# Create full url to ~/customizations.html page\n",
    "url = f\"https://matplotlib.org/{mpl_version}/tutorials/introductory/customizing.html\"\n",
    "\n",
    "# Read and decode data\n",
    "with ureq.urlopen(url) as resp:\n",
    "    data = resp.read().decode(\"utf-8\")"
   ]
  },
  {
   "cell_type": "markdown",
   "metadata": {},
   "source": [
    "#### Search function\n",
    "Add search function for checking data if unsure."
   ]
  },
  {
   "cell_type": "code",
   "execution_count": 2,
   "metadata": {},
   "outputs": [],
   "source": [
    "def find_keyword(keyword = \"whiskerprops\"):\n",
    "    msg = \"Keyword not found!\"\n",
    "    output = list()\n",
    "\n",
    "    for idx, line in enumerate(lines):\n",
    "        if keyword in line:\n",
    "            output.append([idx, line])\n",
    "\n",
    "    if len(output) > 0:\n",
    "        msg = \"\\nKeyword: '{keyword}' found!\\n\\n\"\n",
    "        tmp = \"\\n\".join([f\"Line no.: {i[0]}\\nText: {i[1]}\\n\" for i in output])\n",
    "        msg += tmp\n",
    "    print(msg)"
   ]
  },
  {
   "cell_type": "markdown",
   "metadata": {},
   "source": [
    "#### Tokenizer lambda function\n",
    "Add a simple function for splitting lines by a separator."
   ]
  },
  {
   "cell_type": "code",
   "execution_count": 3,
   "metadata": {},
   "outputs": [],
   "source": [
    "tokenizer = lambda x, split_by=\"\\n\": [str(i).strip() for i in x.split(split_by) if len(i) > 0]"
   ]
  },
  {
   "cell_type": "code",
   "execution_count": 4,
   "metadata": {},
   "outputs": [],
   "source": [
    "# Tokenize lines\n",
    "lines = tokenizer(data)\n",
    "\n",
    "# Uncomment and run search function here if validating results.\n",
    "# find_keyword(\"whiskerprops\")"
   ]
  },
  {
   "cell_type": "markdown",
   "metadata": {},
   "source": [
    "Create a regular expression to get the desired content.\n",
    "\n",
    "Print a sample to confirm."
   ]
  },
  {
   "cell_type": "code",
   "execution_count": 5,
   "metadata": {},
   "outputs": [
    {
     "name": "stdout",
     "output_type": "stream",
     "text": [
      "#### MATPLOTLIBRC FORMAT\n",
      "## This is a sample matplotlib configuration file - you can find a copy\n",
      "## of it on your system in\n",
      "## site-packages/matplotlib/mpl-data/matplotlibrc.  If you edit it\n",
      "## there, please note that it will be overwritten in your next install.\n",
      "## If you want to keep a permanent local copy that will not be\n",
      "## overwritten, place it in the following location:\n",
      "## unix/linux:\n",
      "##      $HOME/.config/matplotlib/matplotlibrc or\n",
      "##      $XDG_CONFIG_HOME/matplotlib/matplotlibrc (if $XDG_CONFIG_HOME is set)\n"
     ]
    }
   ],
   "source": [
    "item_ptrn = r'<span\\s+?class\\=\"c1\">(.+?)<\\/span>'\n",
    "p = re.compile(item_ptrn, flags=re.M)\n",
    "all_items = p.findall(data)\n",
    "all_items = [str(i).strip().replace(\"`\",'\"') for i in all_items]\n",
    "\n",
    "print(\"\\n\".join([itm for itm in all_items[:10]]))"
   ]
  },
  {
   "cell_type": "markdown",
   "metadata": {},
   "source": [
    "Here, we're fine tuning some of the data for final output.\n",
    "\n",
    "1. Get only results that start with a single octothorpe\n",
    "2. Reformat areas around colon (:) to create a single space on each side"
   ]
  },
  {
   "cell_type": "code",
   "execution_count": 6,
   "metadata": {},
   "outputs": [],
   "source": [
    "attrs_ptrn = r\"^\\#(?!#).+$\"\n",
    "pattr = re.compile(attrs_ptrn, flags = re.I)\n",
    "cmds = [i for i in all_items if pattr.search(i)]"
   ]
  },
  {
   "cell_type": "markdown",
   "metadata": {},
   "source": [
    "#### Final: Create dictionary to store the three components."
   ]
  },
  {
   "cell_type": "code",
   "execution_count": 7,
   "metadata": {},
   "outputs": [],
   "source": [
    "def create_dictionary(iterable, delims=[\":\", \"##\"]):\n",
    "    \"\"\"Function to create a collection of command/options/extras data.\"\"\"\n",
    "    # Define an empty dictionary collection\n",
    "    ddict = dict(\n",
    "        command=[],\n",
    "        option=[], \n",
    "        extra=[]\n",
    "        )\n",
    "    # Transverse over our iterable\n",
    "    for cmd in iterable:\n",
    "        if delims[0] in cmd:\n",
    "            tmp1, tmp2 = cmd.split(delims[0], 1)\n",
    "            # Check for second delim and process as usual\n",
    "            # Set third temp variable to empty string otherwise.\n",
    "            if delims[1]:\n",
    "                try:\n",
    "                    tmp2, tmp3 = tmp2.split(delims[1])\n",
    "                except ValueError:\n",
    "                    tmp3 = \"\"\n",
    "            else:\n",
    "                tmp3 = \"\"\n",
    "                \n",
    "            # Sub out our initial octothorpe\n",
    "            tmp1 = re.sub(r\"\\#(.+)\", r\"\\1\", tmp1)\n",
    "            \n",
    "            # Append temp variables to proper portion of dictionary\n",
    "            ddict[\"command\"].append(tmp1.strip())\n",
    "            ddict[\"option\"].append(tmp2.strip())\n",
    "            ddict[\"extra\"].append(tmp3.strip())\n",
    "    return ddict"
   ]
  },
  {
   "cell_type": "code",
   "execution_count": 8,
   "metadata": {},
   "outputs": [],
   "source": [
    "# Run our function with the cmds variable to produce our result.\n",
    "output = create_dictionary(cmds)"
   ]
  },
  {
   "cell_type": "markdown",
   "metadata": {},
   "source": [
    "#### Format a print a sample output."
   ]
  },
  {
   "cell_type": "code",
   "execution_count": 9,
   "metadata": {},
   "outputs": [
    {
     "name": "stdout",
     "output_type": "stream",
     "text": [
      "backend : Agg\n",
      "webagg.port : 8988\n",
      "webagg.address : 127.0.0.1\n",
      "webagg.port_retries : 50\n",
      "webagg.open_in_browser : True\n",
      "backend_fallback : True\n",
      "interactive : False\n",
      "toolbar : toolbar2 | None | toolbar2  (&quot;classic&quot; is deprecated)\n",
      "timezone : UTC | a pytz timezone string, e.g., US/Central or Europe/Paris\n",
      "datapath : /home/jdhunter/mpldata\n"
     ]
    }
   ],
   "source": [
    "n_values = len(output[\"option\"])\n",
    "template = \"{a} : {b} // {c}\"\n",
    "res = [\"{a} : {b} | {c}\".format(a=output[\"command\"][i], b=output[\"option\"][i], c=output[\"extra\"][i]) \\\n",
    "       if output[\"extra\"][i] \\\n",
    "       else \"{a} : {b}\".format(a=output[\"command\"][i], b=output[\"option\"][i]) \\\n",
    "       for i in range(n_values)]\n",
    "\n",
    "print(\"\\n\".join(res[:10]))"
   ]
  }
 ],
 "metadata": {
  "kernelspec": {
   "display_name": "Python 3",
   "language": "python",
   "name": "python3"
  },
  "language_info": {
   "codemirror_mode": {
    "name": "ipython",
    "version": 3
   },
   "file_extension": ".py",
   "mimetype": "text/x-python",
   "name": "python",
   "nbconvert_exporter": "python",
   "pygments_lexer": "ipython3",
   "version": "3.7.4"
  }
 },
 "nbformat": 4,
 "nbformat_minor": 2
}
