{
 "cells": [
  {
   "cell_type": "markdown",
   "metadata": {},
   "source": [
    "# Scraping and Parsing Matplotlib rcParams Options\n",
    "\n",
    "This is a simple notebook to read and parse Matplotlib pyplot options listed on the package's website.\n",
    "\n",
    "URL: https://matplotlib.org/3.1.3/tutorials/introductory/customizing.html\n",
    "\n",
    "**Note**: The notebook has a variable parameter for matplotlib version."
   ]
  },
  {
   "cell_type": "code",
   "execution_count": 2,
   "metadata": {},
   "outputs": [
    {
     "data": {
      "application/javascript": [
       "IPython.notebook.set_autosave_interval(60000)"
      ]
     },
     "metadata": {},
     "output_type": "display_data"
    },
    {
     "name": "stdout",
     "output_type": "stream",
     "text": [
      "Autosaving every 60 seconds\n"
     ]
    }
   ],
   "source": [
    "# Standard imports\n",
    "import re\n",
    "import urllib.request as ureq\n",
    "\n",
    "# Third-party import\n",
    "import matplotlib.pyplot as plt\n",
    "\n",
    "\n",
    "# Version of matplotlib to query (current is 3.1.3 as of 2020-03-14)\n",
    "mpl_version = \"3.1.3\"\n",
    "\n",
    "\n",
    "# Create full url to ~/customizations.html page\n",
    "url = f\"https://matplotlib.org/{mpl_version}/tutorials/introductory/customizing.html\"\n",
    "\n",
    "# Read and decode data\n",
    "with ureq.urlopen(url) as resp:\n",
    "    data = resp.read().decode(\"utf-8\")"
   ]
  },
  {
   "cell_type": "markdown",
   "metadata": {},
   "source": [
    "'Tokenize' lines and create a simple function to print enumerated lines if a keyword is found"
   ]
  },
  {
   "cell_type": "code",
   "execution_count": 6,
   "metadata": {},
   "outputs": [
    {
     "name": "stdout",
     "output_type": "stream",
     "text": [
      "\n",
      "Keyword: '{keyword}' found!\n",
      "\n",
      "Line no.: 398\n",
      "Text: <span class=\"c1\">#boxplot.whiskerprops.color     : black</span>\n",
      "\n",
      "Line no.: 399\n",
      "Text: <span class=\"c1\">#boxplot.whiskerprops.linewidth : 1.0</span>\n",
      "\n",
      "Line no.: 400\n",
      "Text: <span class=\"c1\">#boxplot.whiskerprops.linestyle : -</span>\n",
      "\n"
     ]
    }
   ],
   "source": [
    "lines = [str(i).strip() for i in data.split(\"\\n\") if len(i) > 0]\n",
    "\n",
    "def find_keyword(keyword = \"whiskerprops\"):\n",
    "    msg = \"Keyword not found!\"\n",
    "    output = list()\n",
    "\n",
    "    for idx, line in enumerate(lines):\n",
    "        if keyword in line:\n",
    "            output.append([idx, line])\n",
    "\n",
    "    if len(output) > 0:\n",
    "        msg = \"\\nKeyword: '{keyword}' found!\\n\\n\"\n",
    "        tmp = \"\\n\".join([f\"Line no.: {i[0]}\\nText: {i[1]}\\n\" for i in output])\n",
    "        msg += tmp\n",
    "    print(msg)\n",
    "            \n",
    "find_keyword(\"whiskerprops\")"
   ]
  },
  {
   "cell_type": "markdown",
   "metadata": {},
   "source": [
    "Create a regular expression to get the desired content.\n",
    "\n",
    "Print a sample to confirm."
   ]
  },
  {
   "cell_type": "code",
   "execution_count": 8,
   "metadata": {},
   "outputs": [
    {
     "name": "stdout",
     "output_type": "stream",
     "text": [
      "#### MATPLOTLIBRC FORMAT\n",
      "## This is a sample matplotlib configuration file - you can find a copy\n",
      "## of it on your system in\n",
      "## site-packages/matplotlib/mpl-data/matplotlibrc.  If you edit it\n",
      "## there, please note that it will be overwritten in your next install.\n",
      "## If you want to keep a permanent local copy that will not be\n",
      "## overwritten, place it in the following location:\n",
      "## unix/linux:\n",
      "##      $HOME/.config/matplotlib/matplotlibrc or\n",
      "##      $XDG_CONFIG_HOME/matplotlib/matplotlibrc (if $XDG_CONFIG_HOME is set)\n"
     ]
    }
   ],
   "source": [
    "item_ptrn = r'<span\\s+?class\\=\"c1\">(.+?)<\\/span>'\n",
    "p = re.compile(item_ptrn, flags=re.M)\n",
    "all_items = p.findall(data)\n",
    "all_items = [str(i).strip().replace(\"`\",'\"') for i in all_items]\n",
    "\n",
    "print(\"\\n\".join([itm for itm in all_items[:10]]))"
   ]
  },
  {
   "cell_type": "markdown",
   "metadata": {},
   "source": [
    "Here, we're fine tuning some of the data for final output.\n",
    "\n",
    "1. Get only results that start with a single octothorpe\n",
    "2. Reformat areas around colon (:) to create a single space on each side"
   ]
  },
  {
   "cell_type": "code",
   "execution_count": 9,
   "metadata": {},
   "outputs": [],
   "source": [
    "attrs_ptrn = r\"^\\#[a-z0-9].+$\"\n",
    "pattr = re.compile(attrs_ptrn, flags = re.I)\n",
    "cmds = [i for i in all_items if pattr.search(i)]\n",
    "\n",
    "reformat_space_ptrn = r\"#([\\w_\\.-]+)\\s*:\\s*(.+?)\\s*(?:#{2,})?(.*)?\"\n",
    "sub_pat_1 = r\"\\1`\\2`\\3\"\n",
    "rsp = re.compile(reformat_space_ptrn)\n",
    "cmds1 = [rsp.sub(rfrmt_sub_pat, i) for i in cmds]"
   ]
  },
  {
   "cell_type": "markdown",
   "metadata": {},
   "source": [
    "Print a sample of our reformatted data to confirm that results meet expectations."
   ]
  },
  {
   "cell_type": "code",
   "execution_count": 10,
   "metadata": {},
   "outputs": [
    {
     "name": "stdout",
     "output_type": "stream",
     "text": [
      "lines.solid_joinstyle : round\n",
      "lines.solid_capstyle : projecting\n",
      "lines.antialiased : True\n",
      "lines.dashed_pattern : 3.7,\n",
      "lines.dashdot_pattern : 6.4,\n",
      "lines.dotted_pattern : 1,\n",
      "lines.scale_dashes : True\n",
      "markers.fillstyle : full\n",
      "patch.linewidth : 1\n",
      "patch.facecolor : C0\n",
      "patch.edgecolor : black\n",
      "patch.force_edgecolor : False\n",
      "patch.antialiased : True\n",
      "hatch.color : black\n",
      "hatch.linewidth : 1.0\n",
      "boxplot.notch : False\n",
      "boxplot.vertical : True\n",
      "boxplot.whiskers : 1.5\n",
      "boxplot.bootstrap : None\n",
      "boxplot.patchartist : False\n",
      "boxplot.showmeans : False\n",
      "boxplot.showcaps : True\n",
      "boxplot.showbox : True\n",
      "boxplot.showfliers : True\n",
      "boxplot.meanline : False\n",
      "boxplot.flierprops.color : black\n",
      "boxplot.flierprops.marker : o\n",
      "boxplot.flierprops.markerfacecolor : none\n",
      "boxplot.flierprops.markeredgecolor : black\n",
      "boxplot.flierprops.markeredgewidth : 1.0\n"
     ]
    }
   ],
   "source": [
    "for cmd in cmds1[20:50]:\n",
    "    items = re.split(r\"\\s:\\s\", cmd)\n",
    "    opt = re.sub(r\"\\#(.+)\\s?\", r\"\\1\", items[0])\n",
    "    val = re.split(r\"\\s+\", items[1])[0]\n",
    "    print(f\"{opt} : {val}\")"
   ]
  },
  {
   "cell_type": "code",
   "execution_count": null,
   "metadata": {},
   "outputs": [],
   "source": [
    "output = list()\n",
    "errs = list()\n",
    "for cmd in cmds2:\n",
    "    try:\n",
    "        opt, val, extra = re.split(r\"`\", cmd)\n",
    "        opt = re.sub(r\"\\#(.+)\", r\"\\1\", opt)\n",
    "        # print(f\"{opt} : {val} -> {extra}\")\n",
    "        output.append([opt, val, extra])\n",
    "    except ValueError:\n",
    "        errs.append(cmd)"
   ]
  }
 ],
 "metadata": {
  "kernelspec": {
   "display_name": "Python 3",
   "language": "python",
   "name": "python3"
  },
  "language_info": {
   "codemirror_mode": {
    "name": "ipython",
    "version": 3
   },
   "file_extension": ".py",
   "mimetype": "text/x-python",
   "name": "python",
   "nbconvert_exporter": "python",
   "pygments_lexer": "ipython3",
   "version": "3.7.4"
  }
 },
 "nbformat": 4,
 "nbformat_minor": 2
}
