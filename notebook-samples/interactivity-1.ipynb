{
 "cells": [
  {
   "cell_type": "markdown",
   "metadata": {},
   "source": [
    "<div>\n",
    "<ul>\n",
    "    <li><a href=\"https://blog.dominodatalab.com/lesser-known-ways-of-using-notebooks/\" target=\"_blank\">lesser-known-ways-of-using-notebooks</a></li>\n",
    "    <li><a href=\"https://ipywidgets.readthedocs.io/en/latest/embedding.html\" target=\"_blank\">Embedding Widgets</a></li>\n",
    "</ul>\n",
    "</div>    "
   ]
  },
  {
   "cell_type": "markdown",
   "metadata": {},
   "source": [
    "%lsmagic"
   ]
  },
  {
   "cell_type": "code",
   "execution_count": null,
   "metadata": {},
   "outputs": [],
   "source": [
    "from IPython.display import display\n",
    "from ipywidgets import widgets"
   ]
  },
  {
   "cell_type": "markdown",
   "metadata": {},
   "source": [
    "### Create a text input"
   ]
  },
  {
   "cell_type": "code",
   "execution_count": null,
   "metadata": {},
   "outputs": [],
   "source": [
    "text = widgets.Text()\n",
    "display(text)\n",
    "\n",
    "def handle_submit(sender):\n",
    "    print(text.value)\n",
    "    \n",
    "text.on_submit(handle_submit)"
   ]
  },
  {
   "cell_type": "markdown",
   "metadata": {},
   "source": [
    "## Buttons!"
   ]
  },
  {
   "cell_type": "code",
   "execution_count": null,
   "metadata": {},
   "outputs": [],
   "source": [
    "# Create output widget for capturing event data.\n",
    "out = widgets.Output()\n",
    "\n",
    "# Two buttons: One to increment our counter and one to reset the counter\n",
    "btn_incr = widgets.Button(\n",
    "    description=\"Click!\",\n",
    "    layout = {\"border\": \"5px\"}\n",
    ")\n",
    "btn_reset = widgets.Button(\n",
    "    description=\"Reset counter!\",\n",
    "    layout = {\"border\": \"5px\"}\n",
    ")\n",
    "\n",
    "out.value = 0\n",
    "def incr():\n",
    "    out.value += 1\n",
    "    print(f\"Button clicked {out.value} times!\")\n",
    "    \n",
    "    \n",
    "display(btn_incr, btn_reset, out)\n",
    "\n",
    "def on_btn_clicked(b):\n",
    "    incr()\n",
    "    \n",
    "def on_reset_clicked(b):\n",
    "    # Clear output before resetting to zero\n",
    "    out.clear_output()\n",
    "    out.value = 0\n",
    "    \n",
    "\n",
    "btn_incr.on_click(on_btn_clicked)\n",
    "btn_reset.on_click(on_reset_clicked)"
   ]
  },
  {
   "cell_type": "markdown",
   "metadata": {},
   "source": [
    "+ [InteractExamples](https://github.com/jupyter-widgets/ipywidgets/blob/bb1c473f60454809209f006870e2785e9028e03e/docs/source/examples/Using%20Interact.ipynb)\n",
    "+ [Using Three.js](https://github.com/jupyter-widgets/pythreejs)"
   ]
  },
  {
   "cell_type": "code",
   "execution_count": null,
   "metadata": {},
   "outputs": [],
   "source": [
    "# callbacks require the signature handler(change)\n",
    "# Here's an output of that event.\n",
    "\n",
    "int_range = widgets.IntSlider()\n",
    "output2 = widgets.Output()\n",
    "\n",
    "display(int_range, output2)\n",
    "\n",
    "def on_value_change(change):\n",
    "    with output2:\n",
    "        # print(change['new'])\n",
    "        print(change)\n",
    "\n",
    "int_range.observe(on_value_change, names='value')"
   ]
  },
  {
   "cell_type": "code",
   "execution_count": null,
   "metadata": {},
   "outputs": [],
   "source": []
  }
 ],
 "metadata": {
  "kernelspec": {
   "display_name": "Python 3",
   "language": "python",
   "name": "python3"
  },
  "language_info": {
   "codemirror_mode": {
    "name": "ipython",
    "version": 3
   },
   "file_extension": ".py",
   "mimetype": "text/x-python",
   "name": "python",
   "nbconvert_exporter": "python",
   "pygments_lexer": "ipython3",
   "version": "3.7.4"
  }
 },
 "nbformat": 4,
 "nbformat_minor": 4
}
