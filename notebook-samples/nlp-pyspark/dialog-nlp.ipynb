{
 "cells": [
  {
   "cell_type": "markdown",
   "metadata": {},
   "source": [
    "## PySpark Dialog NLP"
   ]
  },
  {
   "cell_type": "code",
   "execution_count": 1,
   "metadata": {},
   "outputs": [
    {
     "name": "stderr",
     "output_type": "stream",
     "text": [
      "java version \"1.8.0_191\"\n",
      "Java(TM) SE Runtime Environment (build 1.8.0_191-b12)\n",
      "Java HotSpot(TM) 64-Bit Server VM (build 25.191-b12, mixed mode)\n"
     ]
    }
   ],
   "source": [
    "from os import environ\n",
    "\n",
    "java8_path: str = r\"C:\\Java\\jdk1.8.0_191\"\n",
    "\n",
    "environ[\"JAVA_HOME\"] =  java8_path\n",
    "environ[\"PATH\"] = environ[\"JAVA_HOME\"] + \"/bin;\" + environ[\"PATH\"]\n",
    "\n",
    "! java -version"
   ]
  },
  {
   "cell_type": "code",
   "execution_count": 2,
   "metadata": {},
   "outputs": [],
   "source": [
    "import re\n",
    "import sys\n",
    "from pathlib import Path\n",
    "from operator import add\n",
    "import urllib.request as ureq\n",
    "from io import BytesIO, StringIO\n",
    "\n",
    "import lxml.etree"
   ]
  },
  {
   "cell_type": "code",
   "execution_count": 3,
   "metadata": {},
   "outputs": [],
   "source": [
    "xml_raw_url: str = \"https://github.com/oxford-cs-deepnlp-2017/practical-1/blob/master/ted_en-20160408.xml?raw=true\""
   ]
  },
  {
   "cell_type": "markdown",
   "metadata": {},
   "source": [
    "### Data Processing Helpers"
   ]
  },
  {
   "cell_type": "code",
   "execution_count": 4,
   "metadata": {},
   "outputs": [],
   "source": [
    "def get_xml_data(url):\n",
    "    with ureq.urlopen(url) as resp:\n",
    "        if resp.status == 200:\n",
    "            _raw = BytesIO(resp.read())\n",
    "            _xml_T = lxml.etree.parse(_raw)\n",
    "    return _xml_T\n"
   ]
  },
  {
   "cell_type": "code",
   "execution_count": 5,
   "metadata": {},
   "outputs": [],
   "source": [
    "# Retain only the subtitle test of the dataset.\n",
    "xml_doc = get_xml_data(xml_raw_url)\n",
    "input_text = \"\\n\".join(xml_doc.xpath(\"//content/text()\"))\n",
    "del xml_doc"
   ]
  },
  {
   "cell_type": "markdown",
   "metadata": {},
   "source": [
    "#### Clean up raw text data.\n",
    "\n",
    "Uses regular expressions."
   ]
  },
  {
   "cell_type": "code",
   "execution_count": 6,
   "metadata": {},
   "outputs": [],
   "source": [
    "clean_pattern: str = r\"\\([^\\)]*\\)\"\n",
    "dialog_pattern: str = r\"^([a-z ]+?:\\s*)\"\n",
    "\n",
    "clean_input = re.sub(clean_pattern, \"\", input_text)\n",
    "\n",
    "# comp_dialog = re.compile(dialog_pattern, flags = re.I | re.M)\n",
    "\n",
    "# cleaner_input = comp_dialog.sub(\"\", clean_input)"
   ]
  },
  {
   "cell_type": "code",
   "execution_count": 7,
   "metadata": {},
   "outputs": [],
   "source": [
    "# Get dialog lines.\n",
    "\n",
    "split_pattern: str = r\"^(\\w+)?:\\s*(.+)\"\n",
    "p_split = re.compile(split_pattern, flags = re.M)\n",
    "dialog_lines = p_split.findall(clean_input)\n",
    "\n",
    "if dialog_lines:\n",
    "    dialog_collection = []\n",
    "    for line in dialog_lines:\n",
    "#         tmp = \" \".join(re.split(r\"\\s+\", re.sub(r\"([^\\w]+)\", \" \", line.lower())))\n",
    "        dialog_collection.append({\"speaker\": line[0], \"phrase\": line[1]})"
   ]
  },
  {
   "cell_type": "code",
   "execution_count": null,
   "metadata": {},
   "outputs": [],
   "source": [
    "# --- Split into sentence chunks and/or just create a single string of all sentances without the fluff.\n",
    "\n",
    "enumlist = lambda iterable: {k:v for k, v in enumerate(iterable)}\n",
    "\n",
    "# lines = re.split(r\".\\n+\", cleaner_input)\n",
    "# print(f\"No. lines: {len(lines):,}\\n\")\n",
    "# print(\"\\n\".join([f\"{i}: {line}\" for i, line in enumlist(lines[:5]).items()]))\n"
   ]
  },
  {
   "cell_type": "markdown",
   "metadata": {},
   "source": [
    "#### Create rows of tokens."
   ]
  },
  {
   "cell_type": "code",
   "execution_count": null,
   "metadata": {},
   "outputs": [],
   "source": [
    "# phrase_collection = []\n",
    "# for line in lines:\n",
    "#     tmp = \" \".join(re.split(r\"\\s+\", re.sub(r\"([^\\w]+)\", \" \", line.lower())))\n",
    "#     phrase_collection.append({\"phrase\": tmp})"
   ]
  },
  {
   "cell_type": "markdown",
   "metadata": {},
   "source": [
    "### Create SparkSession"
   ]
  },
  {
   "cell_type": "code",
   "execution_count": null,
   "metadata": {},
   "outputs": [],
   "source": [
    "from pyspark.sql import SparkSession\n",
    "from pyspark.sql.functions import explode, split\n",
    "\n",
    "sparkster = SparkSession.builder.appName(\"DialogRecommendr\").getOrCreate()\n",
    "# sc = sparkly.sparkContext"
   ]
  },
  {
   "cell_type": "markdown",
   "metadata": {},
   "source": [
    "#### Create DataFrame"
   ]
  },
  {
   "cell_type": "code",
   "execution_count": null,
   "metadata": {},
   "outputs": [],
   "source": [
    "# https://spark.apache.org/docs/latest/api/python/reference/api/pyspark.sql.DataFrame.html#pyspark.sql.DataFrame\n",
    "df = sparkster.createDataFrame(dialog_collection)\n",
    "\n",
    "if df:\n",
    "    type(df)\n",
    "    df.printSchema()"
   ]
  },
  {
   "cell_type": "markdown",
   "metadata": {},
   "source": [
    "#### Get word counts"
   ]
  },
  {
   "cell_type": "code",
   "execution_count": null,
   "metadata": {},
   "outputs": [],
   "source": [
    "# words = df.select(explode(split(df[\"phrase\"], \"\\s+\")).alias(\"token\"))\n",
    "# word_count = words.groupBy(\"token\")\n",
    "df.show(10)"
   ]
  },
  {
   "cell_type": "markdown",
   "metadata": {},
   "source": [
    "### Recommender System Using Alternating Least-Squares (ALS)"
   ]
  },
  {
   "cell_type": "code",
   "execution_count": null,
   "metadata": {},
   "outputs": [],
   "source": [
    "# https://spark.apache.org/docs/latest/api/python/reference/api/pyspark.ml.recommendation.ALS.html\n",
    "\n",
    "#TODO: Set user and items.\n",
    "\n",
    "from pyspark.ml.recommendation import ALS\n",
    "\n",
    "_als = ALS(maxIter=5, regParam=0.01, seed = 13)\n",
    "_als.clear(_als.regParam)\n"
   ]
  },
  {
   "cell_type": "markdown",
   "metadata": {},
   "source": [
    "#### Split data into training and testing\n",
    "#### Fit ALS model to training data."
   ]
  },
  {
   "cell_type": "code",
   "execution_count": null,
   "metadata": {},
   "outputs": [],
   "source": [
    "train_pct: float = 0.8\n",
    "df_training, df_test = df.randomSplit([train_pct, 1 - train_pct])\n"
   ]
  },
  {
   "cell_type": "code",
   "execution_count": null,
   "metadata": {},
   "outputs": [],
   "source": [
    "_als_mod = _als.fit(df_training)"
   ]
  }
 ],
 "metadata": {
  "kernelspec": {
   "display_name": "Python 3",
   "language": "python",
   "name": "python3"
  },
  "language_info": {
   "codemirror_mode": {
    "name": "ipython",
    "version": 3
   },
   "file_extension": ".py",
   "mimetype": "text/x-python",
   "name": "python",
   "nbconvert_exporter": "python",
   "pygments_lexer": "ipython3",
   "version": "3.7.4"
  }
 },
 "nbformat": 4,
 "nbformat_minor": 2
}
