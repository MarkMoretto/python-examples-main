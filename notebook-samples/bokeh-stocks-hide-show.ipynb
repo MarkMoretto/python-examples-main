{
 "cells": [
  {
   "cell_type": "markdown",
   "metadata": {},
   "source": [
    "<div style=\"text-align: center;\">\n",
    "<h1>Interactive Charts - Bokeh</h1>\n",
    "    <a href=\"https://docs.bokeh.org/en/latest/docs/user_guide/interaction.html\" target=\"_blank\">Interactive Bokeh - Main</a>\n",
    "</div>"
   ]
  },
  {
   "cell_type": "markdown",
   "metadata": {},
   "source": [
    "<div style=\"text-align: left;\">\n",
    "<h3>Hiding Glyphs</h3>\n",
    "</div>"
   ]
  },
  {
   "cell_type": "code",
   "execution_count": 1,
   "metadata": {},
   "outputs": [],
   "source": [
    "from bokeh.palettes import Spectral4\n",
    "from bokeh.plotting import figure, output_file, show\n",
    "from bokeh.sampledata.stocks import AAPL, GOOG, IBM, MSFT\n",
    "\n",
    "import pandas as pd"
   ]
  },
  {
   "cell_type": "code",
   "execution_count": 2,
   "metadata": {},
   "outputs": [],
   "source": [
    "local_output_folder = \"visuals-html\"\n",
    "joiner = lambda filename, folder=local_output_folder: rf\"{folder}\\{filename}\""
   ]
  },
  {
   "cell_type": "code",
   "execution_count": 14,
   "metadata": {},
   "outputs": [],
   "source": [
    "data = [AAPL, GOOG, IBM, MSFT]\n",
    "\n",
    "p = figure(plot_width=800, plot_height=250, x_axis_type=\"datetime\")\n",
    "p.title.text = \"Click ticker name in legend to hide data\"\n",
    "\n",
    "for data, name, color in zip([AAPL, GOOG, IBM, MSFT], [\"AAPL\", \"GOOG\", \"IBM\", \"MSFT\"], Spectral4):\n",
    "    df = pd.DataFrame(data)\n",
    "    df.loc[:, \"date\"] = pd.to_datetime(df.loc[:, \"date\"])\n",
    "    p.line(df.loc[:, \"date\"], df.loc[:, \"close\"], line_width=2, color=color, alpha=0.8, legend_label=name)\n",
    "    \n",
    "p.legend.location = \"top_left\"\n",
    "p.legend.click_policy=\"hide\"\n",
    "\n",
    "output_file(joiner(\"stocks-1.html\"), title=\"Interactive Plot Example\")\n",
    "\n",
    "show(p)"
   ]
  }
 ],
 "metadata": {
  "kernelspec": {
   "display_name": "Python 3",
   "language": "python",
   "name": "python3"
  },
  "language_info": {
   "codemirror_mode": {
    "name": "ipython",
    "version": 3
   },
   "file_extension": ".py",
   "mimetype": "text/x-python",
   "name": "python",
   "nbconvert_exporter": "python",
   "pygments_lexer": "ipython3",
   "version": "3.7.4"
  }
 },
 "nbformat": 4,
 "nbformat_minor": 4
}
