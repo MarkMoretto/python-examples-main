{
 "cells": [
  {
   "cell_type": "markdown",
   "metadata": {},
   "source": [
    "## OECD and IMF Data Processing for Machine Learning\n",
    "\n",
    "This is a simple notebook to get and work two data sets: The OECD Better Life Index and IMF GDP Per Capital data\n",
    "\n",
    "Years covered: 2017\n",
    "\n",
    "Inspiration drawn from: https://github.com/ageron/handson-ml"
   ]
  },
  {
   "cell_type": "code",
   "execution_count": 3,
   "metadata": {},
   "outputs": [],
   "source": [
    "# Standard libraries\n",
    "import json\n",
    "import urllib.request as ureq\n",
    "\n",
    "# Third-part libraries (if pandas and numpy are even considered non-standard at this point)\n",
    "import numpy as np\n",
    "import pandas as pd\n",
    "np.random.seed(13)"
   ]
  },
  {
   "cell_type": "markdown",
   "metadata": {},
   "source": [
    "### Part 1 - OECD Better Life Index\n",
    "URL: http://www.oecdbetterlifeindex.org\n",
    "\n",
    "Countries Covered: All Available\n",
    "Measures: All avaialble"
   ]
  },
  {
   "cell_type": "code",
   "execution_count": 4,
   "metadata": {},
   "outputs": [],
   "source": [
    "\"\"\"\n",
    "    URL for OECD API data that we'd like to get\n",
    "\"\"\"\n",
    "bli_2017_url = \"https://stats.oecd.org/SDMX-JSON/data/BLI2017/AUS+AUT+BEL+CAN+CHL+CZE+DNK+EST+FIN+FRA+DEU+GRC+HUN+ISL+IRL+ISR+ITA+JPN+KOR+LVA+LUX+MEX+NLD+NZL+NOR+POL+PRT+SVK+SVN+ESP+SWE+CHE+TUR+GBR+USA+OECD+BRA+RUS+ZAF.HO+HO_HISH+HO_NUMR+IW+IW_HADI+IW_HNFW+JE+JE_EMPL+JE_LTUR+JE_PEARN+ES+ES_EDUA+ES_EDUEX+EQ+EQ_AIRP+EQ_WATER+HS+HS_LEB+SW+SW_LIFS+PS+PS_REPH+WL+WL_EWLH+WL_TNOW.L.TOT/all?&dimensionAtObservation=MeasureDimension&detail=DataOnly\"\n",
    "\n",
    "\n",
    "\"\"\"\n",
    "    Retrieve and decode data to Unicode\n",
    "    Note: You can use bytes for this process\n",
    "\"\"\"\n",
    "with ureq.urlopen(bli_2017_url) as resp:\n",
    "    data  = resp.read().decode(\"utf-8\")\n",
    "\n",
    "\n",
    "\"\"\"\n",
    "    Restructure as proper json\n",
    "\"\"\"\n",
    "data = json.loads(data)"
   ]
  },
  {
   "cell_type": "code",
   "execution_count": 7,
   "metadata": {},
   "outputs": [],
   "source": [
    "\"\"\"\n",
    "    We know that our initial json data has three keys:\n",
    "        * header;\n",
    "        * dataSets; and\n",
    "        * structure\n",
    "\n",
    "    We'll put everything into a list for readability.\n",
    "    Out of all the items, we reallj just want the first two, which cover country names and measures\n",
    "\n",
    "    Enumerating each list of values to align with raw data from the BLI 'index'.\n",
    "    The BLI index aligns with the number of observations in the \"structure\" section. Since\n",
    "    we have four, the index looks like:\n",
    "        0:0:0:0\n",
    "        \n",
    "    The first few items in the dataSets section look something like this:\n",
    "    \n",
    "    {'0:0:0:0': [20.0],\n",
    "     '1:0:0:0': [21.0],\n",
    "     '2:0:0:0': [21.0],\n",
    "     '3:0:0:0': [22.0],\n",
    "     '4:0:0:0': [24.0],\n",
    "     '5:0:0:0': [24.0],\n",
    "     '6:0:0:0': [23.0],\n",
    "     '7:0:0:0': [21.0],\n",
    "     '8:0:0:0': [20.0],\n",
    "     '9:0:0:0': [24.0],\n",
    "     ...}\n",
    "     \n",
    "     We'll confirm in the next section, but the first item in the key ('0:0:0:0') runs from 0 to 38, or\n",
    "     39 total values, which aligns with the number of countries in our data set.\n",
    "\"\"\"\n",
    "\n",
    "obs_list = data.get(\"structure\").get(\"dimensions\").get(\"observation\")"
   ]
  },
  {
   "cell_type": "code",
   "execution_count": 27,
   "metadata": {
    "scrolled": true
   },
   "outputs": [
    {
     "name": "stdout",
     "output_type": "stream",
     "text": [
      "0: {'id': 'AUS', 'name': 'Australia'}\n",
      "1: {'id': 'AUT', 'name': 'Austria'}\n",
      "2: {'id': 'BEL', 'name': 'Belgium'}\n",
      "3: {'id': 'CAN', 'name': 'Canada'}\n",
      "4: {'id': 'CZE', 'name': 'Czech Republic'}\n",
      "5: {'id': 'DNK', 'name': 'Denmark'}\n",
      "6: {'id': 'FIN', 'name': 'Finland'}\n",
      "7: {'id': 'FRA', 'name': 'France'}\n",
      "8: {'id': 'DEU', 'name': 'Germany'}\n",
      "9: {'id': 'GRC', 'name': 'Greece'}\n",
      "10: {'id': 'HUN', 'name': 'Hungary'}\n",
      "11: {'id': 'ISL', 'name': 'Iceland'}\n",
      "12: {'id': 'IRL', 'name': 'Ireland'}\n",
      "13: {'id': 'ITA', 'name': 'Italy'}\n",
      "14: {'id': 'JPN', 'name': 'Japan'}\n",
      "15: {'id': 'KOR', 'name': 'Korea'}\n",
      "16: {'id': 'LUX', 'name': 'Luxembourg'}\n",
      "17: {'id': 'MEX', 'name': 'Mexico'}\n",
      "18: {'id': 'NLD', 'name': 'Netherlands'}\n",
      "19: {'id': 'NZL', 'name': 'New Zealand'}\n",
      "20: {'id': 'NOR', 'name': 'Norway'}\n",
      "21: {'id': 'POL', 'name': 'Poland'}\n",
      "22: {'id': 'PRT', 'name': 'Portugal'}\n",
      "23: {'id': 'SVK', 'name': 'Slovak Republic'}\n",
      "24: {'id': 'ESP', 'name': 'Spain'}\n",
      "25: {'id': 'SWE', 'name': 'Sweden'}\n",
      "26: {'id': 'CHE', 'name': 'Switzerland'}\n",
      "27: {'id': 'TUR', 'name': 'Turkey'}\n",
      "28: {'id': 'GBR', 'name': 'United Kingdom'}\n",
      "29: {'id': 'USA', 'name': 'United States'}\n",
      "30: {'id': 'BRA', 'name': 'Brazil'}\n",
      "31: {'id': 'CHL', 'name': 'Chile'}\n",
      "32: {'id': 'EST', 'name': 'Estonia'}\n",
      "33: {'id': 'ISR', 'name': 'Israel'}\n",
      "34: {'id': 'LVA', 'name': 'Latvia'}\n",
      "35: {'id': 'RUS', 'name': 'Russia'}\n",
      "36: {'id': 'SVN', 'name': 'Slovenia'}\n",
      "37: {'id': 'ZAF', 'name': 'South Africa'}\n",
      "38: {'id': 'OECD', 'name': 'OECD - Total'}\n"
     ]
    }
   ],
   "source": [
    "\"\"\"\n",
    "    Now we're enumerating each list of values to align with raw data from the BLI 'index'.\n",
    "    \n",
    "    The BLI 'index' aligns with the number of observations in the \"structure\" section. Since\n",
    "    we have four sections, the index looks like:\n",
    "        0:0:0:0\n",
    "        \n",
    "    The first few items in the dataSets section look something like this:\n",
    "    \n",
    "    {'0:0:0:0': [20.0],\n",
    "     '1:0:0:0': [21.0],\n",
    "     '2:0:0:0': [21.0],\n",
    "     '3:0:0:0': [22.0],\n",
    "     '4:0:0:0': [24.0],\n",
    "     '5:0:0:0': [24.0],\n",
    "     '6:0:0:0': [23.0],\n",
    "     '7:0:0:0': [21.0],\n",
    "     '8:0:0:0': [20.0],\n",
    "     '9:0:0:0': [24.0],\n",
    "     ...}\n",
    "     \n",
    "     We'll process our required lists and then confirm in the next section, but the first item in\n",
    "     the key ('0:0:0:0') runs from 0 to 38, or 39 total values,\n",
    "     which aligns with the number of countries in our data set.\n",
    "\"\"\"\n",
    "country_dict = {k:v for k, v in enumerate(obs_list[0].get(\"values\"))}\n",
    "measure_dict = {k:v for k, v in enumerate(obs_list[1].get(\"values\"))}\n",
    "# value_dict = {k:v for k, v in enumerate(obs_list[2].get(\"values\"))} # Not needed for this exercise\n",
    "# total_dict = {k:v for k, v in enumerate(obs_list[3].get(\"values\"))} # Not needed for this exercise\n",
    "\n",
    "print(\"\\n\".join([f\"{k}: {v}\" for k, v in country_dict.items()]))"
   ]
  },
  {
   "cell_type": "code",
   "execution_count": 28,
   "metadata": {},
   "outputs": [],
   "source": [
    "\"\"\"\n",
    "    The dictionaries are converted into a pandas DataFrame for easier processing.\n",
    "\"\"\"\n",
    "country_df = pd.read_json(json.dumps(country_dict), orient=\"index\").sort_index()\n",
    "measure_df = pd.read_json(json.dumps(column_dict), orient=\"index\").sort_index()"
   ]
  },
  {
   "cell_type": "code",
   "execution_count": 29,
   "metadata": {},
   "outputs": [
    {
     "name": "stdout",
     "output_type": "stream",
     "text": [
      "       idx  value\n",
      "0  0:0:0:0   20.0\n",
      "1  1:0:0:0   21.0\n",
      "2  2:0:0:0   21.0\n",
      "3  3:0:0:0   22.0\n",
      "4  4:0:0:0   24.0\n"
     ]
    }
   ],
   "source": [
    "\"\"\"\n",
    "    In this section, we are processing our dataSets values and converting a dictionary\n",
    "    output into a pandas DataFrame, akin to the above section.\n",
    "    \n",
    "    Note that in the middle portion of the code block we're creating a dictionary with labeled\n",
    "    keys and values.  Those will translate into column names when convered into the DataFrame (kv_df).\n",
    "    \n",
    "    We're also 'unpacking' the values, which are contained in a list structure upon delivery. To \n",
    "    get the values from the list, we just need to call the first index result, which is v[0].\n",
    "\"\"\"\n",
    "key_values = data.get(\"dataSets\")[0].get(\"observations\")\n",
    "kv_dict = {i:dict(idx=k, value=v[0]) for i, (k, v) in enumerate(key_values.items())}\n",
    "kv_df = pd.read_json(json.dumps(kv_dict), orient=\"index\").sort_index()\n",
    "\n",
    "print(kv_df.head())"
   ]
  },
  {
   "cell_type": "code",
   "execution_count": 30,
   "metadata": {},
   "outputs": [
    {
     "name": "stdout",
     "output_type": "stream",
     "text": [
      "   country_id  measure_id\n",
      "0           0           0\n",
      "1           1           0\n",
      "2           2           0\n",
      "3           3           0\n",
      "4           4           0\n"
     ]
    }
   ],
   "source": [
    "\"\"\"\n",
    "    Here, we will:\n",
    "        split the index values into a separate DataFrame,\n",
    "        keep the first two items,\n",
    "        rename the columns\n",
    "        convert the values to integers for joining with other data later on\n",
    "\"\"\"\n",
    "idx_df =  kv_df[\"idx\"].str.split(\":\", expand = True).iloc[:, [0, 1]].rename(columns={0:\"country_id\", 1: \"measure_id\"}).copy()\n",
    "for c in idx_df.columns:\n",
    "    idx_df[c] = idx_df[c].astype(int)\n",
    "    \n",
    "print(idx_df.head())"
   ]
  },
  {
   "cell_type": "markdown",
   "metadata": {},
   "source": [
    "And now, a smorgasbord of DataFrames and joins.\n",
    "\n",
    "Basically, df1 merges country values into our core DataFrame, df2 merges measure values, and df3 addsa bit of formatting before merging with our key-value DataFrame.\n",
    "\n",
    "The bli_df is a pivoted DataFrame with country as the index, measures as columns, and values as...well, values."
   ]
  },
  {
   "cell_type": "code",
   "execution_count": 31,
   "metadata": {},
   "outputs": [
    {
     "name": "stdout",
     "output_type": "stream",
     "text": [
      "measure    Air pollution  Educational attainment  \\\n",
      "country                                            \n",
      "Australia            5.0                    80.0   \n",
      "Austria             16.0                    85.0   \n",
      "Belgium             15.0                    75.0   \n",
      "Brazil              10.0                    49.0   \n",
      "Canada               7.0                    91.0   \n",
      "\n",
      "measure    Employees working very long hours  Employment rate  Homicide rate  \\\n",
      "country                                                                        \n",
      "Australia                              13.20             72.0            1.0   \n",
      "Austria                                 6.78             72.0            0.4   \n",
      "Belgium                                 4.31             62.0            1.0   \n",
      "Brazil                                  7.15             64.0           27.6   \n",
      "Canada                                  3.73             73.0            1.4   \n",
      "\n",
      "measure    Household net adjusted disposable income  \\\n",
      "country                                               \n",
      "Australia                                   33417.0   \n",
      "Austria                                     32544.0   \n",
      "Belgium                                     29968.0   \n",
      "Brazil                                      12227.0   \n",
      "Canada                                      29850.0   \n",
      "\n",
      "measure    Household net financial wealth  Housing expenditure  \\\n",
      "country                                                          \n",
      "Australia                         57462.0                 20.0   \n",
      "Austria                           59574.0                 21.0   \n",
      "Belgium                          104084.0                 21.0   \n",
      "Brazil                             7102.0                 20.0   \n",
      "Canada                            85758.0                 22.0   \n",
      "\n",
      "measure    Life expectancy  Life satisfaction  Long-term unemployment rate  \\\n",
      "country                                                                      \n",
      "Australia             82.5                7.3                         1.36   \n",
      "Austria               81.3                7.0                         1.94   \n",
      "Belgium               81.1                6.9                         3.98   \n",
      "Brazil                74.7                6.6                         3.37   \n",
      "Canada                81.5                7.3                         0.81   \n",
      "\n",
      "measure    Personal earnings  Rooms per person  \\\n",
      "country                                          \n",
      "Australia            52063.0               2.3   \n",
      "Austria              48295.0               1.6   \n",
      "Belgium              49587.0               2.2   \n",
      "Brazil               14024.0               0.8   \n",
      "Canada               48403.0               2.5   \n",
      "\n",
      "measure    Time devoted to leisure and personal care  Water quality  \\\n",
      "country                                                               \n",
      "Australia                                      14.35           92.0   \n",
      "Austria                                        14.55           93.0   \n",
      "Belgium                                        15.77           84.0   \n",
      "Brazil                                         14.45           72.0   \n",
      "Canada                                         14.41           91.0   \n",
      "\n",
      "measure    Years in education  \n",
      "country                        \n",
      "Australia                21.2  \n",
      "Austria                  17.1  \n",
      "Belgium                  18.2  \n",
      "Brazil                   15.9  \n",
      "Canada                   16.7  \n"
     ]
    }
   ],
   "source": [
    "# Merge country and measure dataframes\n",
    "df1 = idx_df.merge(country_df, how=\"left\", left_on=\"country_id\", right_index=True)\n",
    "df2 = df1.merge(measure_df, how=\"left\", left_on=\"measure_id\", right_index=True)\n",
    "\n",
    "# Reformat and rename for usability.\n",
    "df3 = df2.drop([\"country_id\",\"measure_id\",\"id_x\",\"id_y\",],axis=1).copy()\n",
    "df3 = df3.rename(columns={\"name_x\":\"country\",\"name_y\":\"measure\"})\n",
    "\n",
    "# Drop idx column from key-value dataframe prior to merging.\n",
    "kv_df = kv_df.drop(\"idx\", axis=1).copy()\n",
    "\n",
    "# Merge final with kv_df to produce near-final dataframe.\n",
    "df3 = df3.merge(kv_df, left_index=True, right_index=True)\n",
    "\n",
    "# Final bli_df is a pivoted table.\n",
    "bli_df = df3.pivot(index=\"country\", columns=\"measure\", values=\"value\")\n",
    "\n",
    "# Print sample of data.\n",
    "print(bli_df.head())"
   ]
  },
  {
   "cell_type": "markdown",
   "metadata": {},
   "source": [
    "### IMF GDP Data\n",
    "URL: https://www.imf.org/external/pubs/ft/weo/2017/01/weodata/index.aspx\n",
    "\n",
    "Same story for the first cell as we had with OECD. Import and decode raw data for processing."
   ]
  },
  {
   "cell_type": "code",
   "execution_count": 19,
   "metadata": {},
   "outputs": [],
   "source": [
    "imf_gdp_url = \"https://www.imf.org/external/pubs/ft/weo/2018/01/weodata/weoreptc.aspx?\"\n",
    "imf_gdp_url += \"pr.x=52&pr.y=12&sy=2017&ey=2017&sort=country&ds=.&br=1&c=193%2C946%2C122%2C137%2C124%2C546%2C156%2C181%2C423%2C138%2C935%2C196%2C128%2C142%2C939%2C182%2C172%2C359%2C132%2C135%2C134%2C576%2C174%2C936%2C532%2C961%2C176%2C184%2C178%2C144%2C436%2C146%2C136%2C528%2C158%2C112%2C542%2C111%2C941&s=NGDPDPC&grp=0&a=\"\n",
    "with ureq.urlopen(imf_gdp_url) as resp:\n",
    "    imf_data  = resp.read().decode(\"utf-8\")"
   ]
  },
  {
   "cell_type": "markdown",
   "metadata": {},
   "source": [
    "Here, we'll split each line of our data into a list.\n",
    "\n",
    "We're also going to skip any blank lines or the final \"total\" line, which starts with \"International Monetary Fund.\""
   ]
  },
  {
   "cell_type": "code",
   "execution_count": 20,
   "metadata": {},
   "outputs": [],
   "source": [
    "tokens = imf_data.split(\"\\r\\n\")\n",
    "tokens = [i for i in tokens if len(i) > 0 and not i.startswith(\"International Monetary Fund\")]\n",
    "header = tokens[0].split(\"\\t\")\n",
    "tokens = tokens[1:]"
   ]
  },
  {
   "cell_type": "markdown",
   "metadata": {},
   "source": [
    "We'll a dictionary named keys and blank lists as values.  Since the data is tab-delimited in each row, we'll split that.\n",
    "\n",
    "We also know that the data values we want would be the first and second-to-last items in a list, so we implement proper indexing to capture those values and append each to our dictionary collection."
   ]
  },
  {
   "cell_type": "code",
   "execution_count": 21,
   "metadata": {},
   "outputs": [],
   "source": [
    "ddict = dict(country=[], gdp_per_capita=[])\n",
    "\n",
    "for line in tokens:\n",
    "    tmp = line.split(\"\\t\")\n",
    "    ddict[\"country\"].append(tmp[0])\n",
    "    ddict[\"gdp_per_capita\"].append(tmp[-2:-1][0])\n",
    "\n",
    "# Add to DataFrame; Reformat currency to integer data type.\n",
    "gdp_df = pd.DataFrame(ddict)\n",
    "gdp_df[\"gdp_per_capita\"] = gdp_df[\"gdp_per_capita\"].str.split(\".\", expand=True)[0].str.replace(\",\",\"\").astype(int)\n",
    "\n",
    "# Set the DataFrame index to our country names for easier joining; Drop the country column thereafter.\n",
    "gdp_df.index = gdp_df[\"country\"].values\n",
    "gdp_df.drop(\"country\", axis=1, inplace=True)"
   ]
  },
  {
   "cell_type": "markdown",
   "metadata": {},
   "source": [
    "Finally, we'll merge our two DataFrames together on the indices as an inner join."
   ]
  },
  {
   "cell_type": "code",
   "execution_count": 25,
   "metadata": {},
   "outputs": [],
   "source": [
    "full_country_stats = pd.merge(left=bli_df, right=gdp_df, left_index=True, right_index=True)"
   ]
  },
  {
   "cell_type": "markdown",
   "metadata": {},
   "source": [
    "We can print some sample data for the US."
   ]
  },
  {
   "cell_type": "code",
   "execution_count": 26,
   "metadata": {},
   "outputs": [
    {
     "name": "stdout",
     "output_type": "stream",
     "text": [
      "gdp_per_capita       59501.0\n",
      "Life satisfaction        6.9\n",
      "Name: United States, dtype: float64\n"
     ]
    }
   ],
   "source": [
    "print(full_country_stats[[\"gdp_per_capita\", 'Life satisfaction']].loc[\"United States\"])"
   ]
  }
 ],
 "metadata": {
  "kernelspec": {
   "display_name": "Python 3",
   "language": "python",
   "name": "python3"
  },
  "language_info": {
   "codemirror_mode": {
    "name": "ipython",
    "version": 3
   },
   "file_extension": ".py",
   "mimetype": "text/x-python",
   "name": "python",
   "nbconvert_exporter": "python",
   "pygments_lexer": "ipython3",
   "version": "3.7.4"
  }
 },
 "nbformat": 4,
 "nbformat_minor": 2
}
