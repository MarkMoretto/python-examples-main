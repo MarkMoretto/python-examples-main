{
 "cells": [
  {
   "cell_type": "code",
   "execution_count": 5,
   "metadata": {},
   "outputs": [],
   "source": [
    "from arcgis.gis import GIS\n",
    "from IPython.display import display"
   ]
  },
  {
   "cell_type": "code",
   "execution_count": 2,
   "metadata": {},
   "outputs": [],
   "source": [
    "gis = GIS()"
   ]
  },
  {
   "cell_type": "code",
   "execution_count": 3,
   "metadata": {},
   "outputs": [],
   "source": [
    "mm_user = gis.users.get(\"markmoretto\")"
   ]
  },
  {
   "cell_type": "code",
   "execution_count": 6,
   "metadata": {},
   "outputs": [
    {
     "data": {
      "text/html": [
       "<div class=\"9item_container\" style=\"height: auto; overflow: hidden; border: 1px solid #cfcfcf; border-radius: 2px; background: #f6fafa; line-height: 1.21429em; padding: 10px;\">\n",
       "                    <div class=\"item_left\" style=\"width: 210px; float: left;\">\n",
       "                       <a href='https://www.arcgis.com/home/user.html?user=markmoretto' target='_blank'>\n",
       "                        <img src='https://www.arcgis.com/home/js/arcgisonline/css/images/no-user-thumb.jpg' class=\"itemThumbnail\">\n",
       "                       </a>\n",
       "                    </div>\n",
       "\n",
       "                    <div class=\"item_right\" style=\"float: none; width: auto; overflow: hidden;\">\n",
       "                        <a href='https://www.arcgis.com/home/user.html?user=markmoretto' target='_blank'><b></b>\n",
       "                        </a>\n",
       "                        <br/><br/><b>Bio</b>: This user has not provided any personal information.\n",
       "                        <br/><b>First Name</b>: Not Provided\n",
       "                        <br/><b>Last Name</b>: Not Provided\n",
       "                        <br/><b>Username</b>: markmoretto\n",
       "                        <br/><b>Joined</b>: April 05, 2021\n",
       "\n",
       "                    </div>\n",
       "                </div>\n",
       "                "
      ],
      "text/plain": [
       "<User username:markmoretto>"
      ]
     },
     "metadata": {},
     "output_type": "display_data"
    }
   ],
   "source": [
    "display(myuser)"
   ]
  },
  {
   "cell_type": "code",
   "execution_count": 7,
   "metadata": {
    "scrolled": false
   },
   "outputs": [
    {
     "data": {
      "application/vnd.jupyter.widget-view+json": {
       "model_id": "b43432d2b0774566af81c03079318b3d",
       "version_major": 2,
       "version_minor": 0
      },
      "text/plain": [
       "MapView(layout=Layout(height='400px', width='100%'))"
      ]
     },
     "metadata": {},
     "output_type": "display_data"
    },
    {
     "data": {
      "text/html": [
       "<div class=\"map-static-img-preview-dbdaa664-4716-4baa-b5e4-d4056c09dc23\"><img src=\"\"></img></div>"
      ],
      "text/plain": [
       "<IPython.core.display.HTML object>"
      ]
     },
     "metadata": {},
     "output_type": "display_data"
    },
    {
     "data": {
      "text/html": [
       "<div class=\"map-html-embed-preview-dbdaa664-4716-4baa-b5e4-d4056c09dc23\"></div>"
      ],
      "text/plain": [
       "<IPython.core.display.HTML object>"
      ]
     },
     "metadata": {},
     "output_type": "display_data"
    }
   ],
   "source": [
    "sample_map_1 = gis.map(\"Detroit, MI\")\n",
    "sample_map_1"
   ]
  },
  {
   "cell_type": "code",
   "execution_count": 8,
   "metadata": {},
   "outputs": [
    {
     "data": {
      "text/plain": [
       "10"
      ]
     },
     "execution_count": 8,
     "metadata": {},
     "output_type": "execute_result"
    }
   ],
   "source": [
    "results = gis.content.search(\"hines park\")"
   ]
  },
  {
   "cell_type": "code",
   "execution_count": 9,
   "metadata": {},
   "outputs": [
    {
     "data": {
      "text/html": [
       "<div class=\"item_container\" style=\"height: auto; overflow: hidden; border: 1px solid #cfcfcf; border-radius: 2px; background: #f6fafa; line-height: 1.21429em; padding: 10px;\">\n",
       "                    <div class=\"item_left\" style=\"width: 210px; float: left;\">\n",
       "                       <a href='https://www.arcgis.com/home/item.html?id=932bc91616754d25ab5f75980cdae740' target='_blank'>\n",
       "                        <img src='https://www.arcgis.com/sharing/rest//content/items/932bc91616754d25ab5f75980cdae740/info/thumbnail/Capture4.jpg' class=\"itemThumbnail\">\n",
       "                       </a>\n",
       "                    </div>\n",
       "\n",
       "                    <div class=\"item_right\"     style=\"float: none; width: auto; overflow: hidden;\">\n",
       "                        <a href='https://www.arcgis.com/home/item.html?id=932bc91616754d25ab5f75980cdae740' target='_blank'><b>Oregon Zoning</b>\n",
       "                        </a>\n",
       "                        <br/>Oregon Zoning<img src='https://www.arcgis.com/home/js/jsapi/esri/css/images/item_type_icons/mapimages16.png' style=\"vertical-align:middle;\">Map Image Layer by robert.mansolillo_dlcd\n",
       "                        <br/>Last Modified: August 16, 2017\n",
       "                        <br/>2 comments, 5,945 views\n",
       "                    </div>\n",
       "                </div>\n",
       "                "
      ],
      "text/plain": [
       "<Item title:\"Oregon Zoning\" type:Map Image Layer owner:robert.mansolillo_dlcd>"
      ]
     },
     "metadata": {},
     "output_type": "display_data"
    },
    {
     "data": {
      "text/html": [
       "<div class=\"item_container\" style=\"height: auto; overflow: hidden; border: 1px solid #cfcfcf; border-radius: 2px; background: #f6fafa; line-height: 1.21429em; padding: 10px;\">\n",
       "                    <div class=\"item_left\" style=\"width: 210px; float: left;\">\n",
       "                       <a href='https://www.arcgis.com/home/item.html?id=be4ce280446c41dc92db481e449c2ac2' target='_blank'>\n",
       "                        <img src='https://www.arcgis.com/sharing/rest//content/items/be4ce280446c41dc92db481e449c2ac2/info/thumbnail/ago_downloaded.png' class=\"itemThumbnail\">\n",
       "                       </a>\n",
       "                    </div>\n",
       "\n",
       "                    <div class=\"item_right\"     style=\"float: none; width: auto; overflow: hidden;\">\n",
       "                        <a href='https://www.arcgis.com/home/item.html?id=be4ce280446c41dc92db481e449c2ac2' target='_blank'><b>Ralph Hines Memorial Park Maintenance Requests</b>\n",
       "                        </a>\n",
       "                        <br/>App for park managers to view for services requests on facilities and utilities in Newport Park in Lake Delton Wisconsin<img src='https://www.arcgis.com/home/js/jsapi/esri/css/images/item_type_icons/layers16.png' style=\"vertical-align:middle;\">Web Mapping Application by skiley\n",
       "                        <br/>Last Modified: February 21, 2017\n",
       "                        <br/>0 comments, 30 views\n",
       "                    </div>\n",
       "                </div>\n",
       "                "
      ],
      "text/plain": [
       "<Item title:\"Ralph Hines Memorial Park Maintenance Requests\" type:Web Mapping Application owner:skiley>"
      ]
     },
     "metadata": {},
     "output_type": "display_data"
    },
    {
     "data": {
      "text/html": [
       "<div class=\"item_container\" style=\"height: auto; overflow: hidden; border: 1px solid #cfcfcf; border-radius: 2px; background: #f6fafa; line-height: 1.21429em; padding: 10px;\">\n",
       "                    <div class=\"item_left\" style=\"width: 210px; float: left;\">\n",
       "                       <a href='https://www.arcgis.com/home/item.html?id=0915b3f081d04410808725ce307f4b9b' target='_blank'>\n",
       "                        <img src='https://www.arcgis.com/sharing/rest//content/items/0915b3f081d04410808725ce307f4b9b/info/thumbnail/ago_downloaded.png' class=\"itemThumbnail\">\n",
       "                       </a>\n",
       "                    </div>\n",
       "\n",
       "                    <div class=\"item_right\"     style=\"float: none; width: auto; overflow: hidden;\">\n",
       "                        <a href='https://www.arcgis.com/home/item.html?id=0915b3f081d04410808725ce307f4b9b' target='_blank'><b>Favorite Places in Wayne County Parks 100 Year Anniversary Celebration</b>\n",
       "                        </a>\n",
       "                        <br/>visitor provided pictures of our favorite places withing Wayne County Parks<img src='https://www.arcgis.com/home/js/jsapi/esri/css/images/item_type_icons/featureshosted16.png' style=\"vertical-align:middle;\">Feature Layer Collection by jgundry_wayne\n",
       "                        <br/>Last Modified: November 07, 2018\n",
       "                        <br/>0 comments, 125 views\n",
       "                    </div>\n",
       "                </div>\n",
       "                "
      ],
      "text/plain": [
       "<Item title:\"Favorite Places in Wayne County Parks 100 Year Anniversary Celebration\" type:Feature Layer Collection owner:jgundry_wayne>"
      ]
     },
     "metadata": {},
     "output_type": "display_data"
    },
    {
     "data": {
      "text/html": [
       "<div class=\"item_container\" style=\"height: auto; overflow: hidden; border: 1px solid #cfcfcf; border-radius: 2px; background: #f6fafa; line-height: 1.21429em; padding: 10px;\">\n",
       "                    <div class=\"item_left\" style=\"width: 210px; float: left;\">\n",
       "                       <a href='https://www.arcgis.com/home/item.html?id=f5086cfa840f49908665dcb0da74f08c' target='_blank'>\n",
       "                        <img src='https://www.arcgis.com/sharing/rest//content/items/f5086cfa840f49908665dcb0da74f08c/info/thumbnail/ago_downloaded.png' class=\"itemThumbnail\">\n",
       "                       </a>\n",
       "                    </div>\n",
       "\n",
       "                    <div class=\"item_right\"     style=\"float: none; width: auto; overflow: hidden;\">\n",
       "                        <a href='https://www.arcgis.com/home/item.html?id=f5086cfa840f49908665dcb0da74f08c' target='_blank'><b>Wayne County Parks 100 Year Anniversary Favorite Places Geo Form</b>\n",
       "                        </a>\n",
       "                        <br/>Visitor sourced map of favorite locations in Wayne County Parks<img src='https://www.arcgis.com/home/js/jsapi/esri/css/images/item_type_icons/layers16.png' style=\"vertical-align:middle;\">Web Mapping Application by jgundry_wayne\n",
       "                        <br/>Last Modified: November 14, 2018\n",
       "                        <br/>0 comments, 153 views\n",
       "                    </div>\n",
       "                </div>\n",
       "                "
      ],
      "text/plain": [
       "<Item title:\"Wayne County Parks 100 Year Anniversary Favorite Places Geo Form\" type:Web Mapping Application owner:jgundry_wayne>"
      ]
     },
     "metadata": {},
     "output_type": "display_data"
    },
    {
     "data": {
      "text/html": [
       "<div class=\"item_container\" style=\"height: auto; overflow: hidden; border: 1px solid #cfcfcf; border-radius: 2px; background: #f6fafa; line-height: 1.21429em; padding: 10px;\">\n",
       "                    <div class=\"item_left\" style=\"width: 210px; float: left;\">\n",
       "                       <a href='https://www.arcgis.com/home/item.html?id=9dbf3483752c4ec69ca1ad3483cb5ec1' target='_blank'>\n",
       "                        <img src='https://www.arcgis.com/sharing/rest//content/items/9dbf3483752c4ec69ca1ad3483cb5ec1/info/thumbnail/thumbnail.png' class=\"itemThumbnail\">\n",
       "                       </a>\n",
       "                    </div>\n",
       "\n",
       "                    <div class=\"item_right\"     style=\"float: none; width: auto; overflow: hidden;\">\n",
       "                        <a href='https://www.arcgis.com/home/item.html?id=9dbf3483752c4ec69ca1ad3483cb5ec1' target='_blank'><b>Mountain Biking Cass Benton</b>\n",
       "                        </a>\n",
       "                        <br/>Use the Field Notes template to capture simple, classified observations.<img src='https://www.arcgis.com/home/js/jsapi/esri/css/images/item_type_icons/featureshosted16.png' style=\"vertical-align:middle;\">Feature Layer Collection by abruen\n",
       "                        <br/>Last Modified: July 11, 2017\n",
       "                        <br/>0 comments, 160 views\n",
       "                    </div>\n",
       "                </div>\n",
       "                "
      ],
      "text/plain": [
       "<Item title:\"Mountain Biking Cass Benton\" type:Feature Layer Collection owner:abruen>"
      ]
     },
     "metadata": {},
     "output_type": "display_data"
    },
    {
     "data": {
      "text/html": [
       "<div class=\"item_container\" style=\"height: auto; overflow: hidden; border: 1px solid #cfcfcf; border-radius: 2px; background: #f6fafa; line-height: 1.21429em; padding: 10px;\">\n",
       "                    <div class=\"item_left\" style=\"width: 210px; float: left;\">\n",
       "                       <a href='https://www.arcgis.com/home/item.html?id=5df790ac5aa94500a02afbccd66bea0b' target='_blank'>\n",
       "                        <img src='https://www.arcgis.com/sharing/rest//content/items/5df790ac5aa94500a02afbccd66bea0b/info/thumbnail/ago_downloaded.png' class=\"itemThumbnail\">\n",
       "                       </a>\n",
       "                    </div>\n",
       "\n",
       "                    <div class=\"item_right\"     style=\"float: none; width: auto; overflow: hidden;\">\n",
       "                        <a href='https://www.arcgis.com/home/item.html?id=5df790ac5aa94500a02afbccd66bea0b' target='_blank'><b>Rouge River Watershed Research-Copy-Copy</b>\n",
       "                        </a>\n",
       "                        <br/><img src='https://www.arcgis.com/home/js/jsapi/esri/css/images/item_type_icons/maps16.png' style=\"vertical-align:middle;\">Web Map by 2018sydneym_BHSBears\n",
       "                        <br/>Last Modified: October 24, 2017\n",
       "                        <br/>0 comments, 44 views\n",
       "                    </div>\n",
       "                </div>\n",
       "                "
      ],
      "text/plain": [
       "<Item title:\"Rouge River Watershed Research-Copy-Copy\" type:Web Map owner:2018sydneym_BHSBears>"
      ]
     },
     "metadata": {},
     "output_type": "display_data"
    },
    {
     "data": {
      "text/html": [
       "<div class=\"item_container\" style=\"height: auto; overflow: hidden; border: 1px solid #cfcfcf; border-radius: 2px; background: #f6fafa; line-height: 1.21429em; padding: 10px;\">\n",
       "                    <div class=\"item_left\" style=\"width: 210px; float: left;\">\n",
       "                       <a href='https://www.arcgis.com/home/item.html?id=14647d1bd6d849cdaacf63fc25bf3460' target='_blank'>\n",
       "                        <img src='https://www.arcgis.com/sharing/rest//content/items/14647d1bd6d849cdaacf63fc25bf3460/info/thumbnail/ago_downloaded.png' class=\"itemThumbnail\">\n",
       "                       </a>\n",
       "                    </div>\n",
       "\n",
       "                    <div class=\"item_right\"     style=\"float: none; width: auto; overflow: hidden;\">\n",
       "                        <a href='https://www.arcgis.com/home/item.html?id=14647d1bd6d849cdaacf63fc25bf3460' target='_blank'><b>Rouge River Watershed Research-Copy</b>\n",
       "                        </a>\n",
       "                        <br/><img src='https://www.arcgis.com/home/js/jsapi/esri/css/images/item_type_icons/maps16.png' style=\"vertical-align:middle;\">Web Map by 2018sydneym_BHSBears\n",
       "                        <br/>Last Modified: October 26, 2017\n",
       "                        <br/>0 comments, 29 views\n",
       "                    </div>\n",
       "                </div>\n",
       "                "
      ],
      "text/plain": [
       "<Item title:\"Rouge River Watershed Research-Copy\" type:Web Map owner:2018sydneym_BHSBears>"
      ]
     },
     "metadata": {},
     "output_type": "display_data"
    },
    {
     "data": {
      "text/html": [
       "<div class=\"item_container\" style=\"height: auto; overflow: hidden; border: 1px solid #cfcfcf; border-radius: 2px; background: #f6fafa; line-height: 1.21429em; padding: 10px;\">\n",
       "                    <div class=\"item_left\" style=\"width: 210px; float: left;\">\n",
       "                       <a href='https://www.arcgis.com/home/item.html?id=3c0603892dbf4d19be9479e5fdd9c854' target='_blank'>\n",
       "                        <img src='https://www.arcgis.com/sharing/rest//content/items/3c0603892dbf4d19be9479e5fdd9c854/info/thumbnail/ago_downloaded.png' class=\"itemThumbnail\">\n",
       "                       </a>\n",
       "                    </div>\n",
       "\n",
       "                    <div class=\"item_right\"     style=\"float: none; width: auto; overflow: hidden;\">\n",
       "                        <a href='https://www.arcgis.com/home/item.html?id=3c0603892dbf4d19be9479e5fdd9c854' target='_blank'><b>Focus Corridor: Hines Park Bikeway</b>\n",
       "                        </a>\n",
       "                        <br/><img src='https://www.arcgis.com/home/js/jsapi/esri/css/images/item_type_icons/featureshosted16.png' style=\"vertical-align:middle;\">Feature Layer Collection by SmithGroupAnnArbor\n",
       "                        <br/>Last Modified: July 29, 2020\n",
       "                        <br/>0 comments, 505 views\n",
       "                    </div>\n",
       "                </div>\n",
       "                "
      ],
      "text/plain": [
       "<Item title:\"Focus Corridor: Hines Park Bikeway\" type:Feature Layer Collection owner:SmithGroupAnnArbor>"
      ]
     },
     "metadata": {},
     "output_type": "display_data"
    },
    {
     "data": {
      "text/html": [
       "<div class=\"item_container\" style=\"height: auto; overflow: hidden; border: 1px solid #cfcfcf; border-radius: 2px; background: #f6fafa; line-height: 1.21429em; padding: 10px;\">\n",
       "                    <div class=\"item_left\" style=\"width: 210px; float: left;\">\n",
       "                       <a href='https://www.arcgis.com/home/item.html?id=1b47ea691af54771a465578f5e757eb8' target='_blank'>\n",
       "                        <img src='https://www.arcgis.com/sharing/rest//content/items/1b47ea691af54771a465578f5e757eb8/info/thumbnail/ago_downloaded.png' class=\"itemThumbnail\">\n",
       "                       </a>\n",
       "                    </div>\n",
       "\n",
       "                    <div class=\"item_right\"     style=\"float: none; width: auto; overflow: hidden;\">\n",
       "                        <a href='https://www.arcgis.com/home/item.html?id=1b47ea691af54771a465578f5e757eb8' target='_blank'><b>Beer Road Trip Route</b>\n",
       "                        </a>\n",
       "                        <br/>Route and directions for Beer Road Trip Route<img src='https://www.arcgis.com/home/js/jsapi/esri/css/images/item_type_icons/features16.png' style=\"vertical-align:middle;\">Feature Collection by maidajr_app21\n",
       "                        <br/>Last Modified: December 04, 2020\n",
       "                        <br/>0 comments, 48 views\n",
       "                    </div>\n",
       "                </div>\n",
       "                "
      ],
      "text/plain": [
       "<Item title:\"Beer Road Trip Route\" type:Feature Collection owner:maidajr_app21>"
      ]
     },
     "metadata": {},
     "output_type": "display_data"
    },
    {
     "data": {
      "text/html": [
       "<div class=\"item_container\" style=\"height: auto; overflow: hidden; border: 1px solid #cfcfcf; border-radius: 2px; background: #f6fafa; line-height: 1.21429em; padding: 10px;\">\n",
       "                    <div class=\"item_left\" style=\"width: 210px; float: left;\">\n",
       "                       <a href='https://www.arcgis.com/home/item.html?id=ceee50b3e28643468df7721cbf117737' target='_blank'>\n",
       "                        <img src='https://www.arcgis.com/sharing/rest//content/items/ceee50b3e28643468df7721cbf117737/info/thumbnail/ago_downloaded.png' class=\"itemThumbnail\">\n",
       "                       </a>\n",
       "                    </div>\n",
       "\n",
       "                    <div class=\"item_right\"     style=\"float: none; width: auto; overflow: hidden;\">\n",
       "                        <a href='https://www.arcgis.com/home/item.html?id=ceee50b3e28643468df7721cbf117737' target='_blank'><b>Cass Benton Mountain Biking Trail</b>\n",
       "                        </a>\n",
       "                        <br/><img src='https://www.arcgis.com/home/js/jsapi/esri/css/images/item_type_icons/maps16.png' style=\"vertical-align:middle;\">Web Map by abruen\n",
       "                        <br/>Last Modified: July 11, 2017\n",
       "                        <br/>0 comments, 156 views\n",
       "                    </div>\n",
       "                </div>\n",
       "                "
      ],
      "text/plain": [
       "<Item title:\"Cass Benton Mountain Biking Trail\" type:Web Map owner:abruen>"
      ]
     },
     "metadata": {},
     "output_type": "display_data"
    }
   ],
   "source": [
    "for r in results: display(r)"
   ]
  },
  {
   "cell_type": "code",
   "execution_count": 11,
   "metadata": {},
   "outputs": [],
   "source": [
    "item_to_add = [tmp for tmp in results if tmp.title == \"Mountain Biking Cass Benton\"]\n",
    "sample_map_1.add_layer(item_to_add)"
   ]
  }
 ],
 "metadata": {
  "kernelspec": {
   "display_name": "Python 3",
   "language": "python",
   "name": "python3"
  },
  "language_info": {
   "codemirror_mode": {
    "name": "ipython",
    "version": 3
   },
   "file_extension": ".py",
   "mimetype": "text/x-python",
   "name": "python",
   "nbconvert_exporter": "python",
   "pygments_lexer": "ipython3",
   "version": "3.7.4"
  }
 },
 "nbformat": 4,
 "nbformat_minor": 2
}
