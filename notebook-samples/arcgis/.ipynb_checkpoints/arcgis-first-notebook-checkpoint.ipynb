{
 "cells": [
  {
   "cell_type": "code",
   "execution_count": 5,
   "metadata": {},
   "outputs": [],
   "source": [
    "from arcgis.gis import GIS\n",
    "from IPython.display import display"
   ]
  },
  {
   "cell_type": "code",
   "execution_count": 2,
   "metadata": {},
   "outputs": [],
   "source": [
    "gis = GIS()"
   ]
  },
  {
   "cell_type": "code",
   "execution_count": 3,
   "metadata": {},
   "outputs": [],
   "source": [
    "public_content = gis.content.search(\"Fire\", item_type=\"Feature Layer\", max_items = 5)"
   ]
  },
  {
   "cell_type": "code",
   "execution_count": 4,
   "metadata": {},
   "outputs": [
    {
     "data": {
      "text/plain": [
       "[<Item title:\"USA Current Wildfires\" type:Feature Layer Collection owner:esri_livefeeds2>,\n",
       " <Item title:\"Satellite (VIIRS) Thermal Hotspots and Fire Activity\" type:Feature Layer Collection owner:esri_livefeeds2>,\n",
       " <Item title:\"Social Vulnerability 2010\" type:Feature Layer Collection owner:AtlasPublisher>,\n",
       " <Item title:\"Satellite (MODIS) Thermal Hotspots and Fire Activity\" type:Feature Layer Collection owner:esri_livefeeds2>,\n",
       " <Item title:\"All_Bus_Stops_in_Tempe_Transportation\" type:Feature Layer Collection owner:jpreyes3_asu>]"
      ]
     },
     "execution_count": 4,
     "metadata": {},
     "output_type": "execute_result"
    }
   ],
   "source": [
    "public_content"
   ]
  },
  {
   "cell_type": "code",
   "execution_count": 6,
   "metadata": {},
   "outputs": [
    {
     "data": {
      "text/html": [
       "<div class=\"item_container\" style=\"height: auto; overflow: hidden; border: 1px solid #cfcfcf; border-radius: 2px; background: #f6fafa; line-height: 1.21429em; padding: 10px;\">\n",
       "                    <div class=\"item_left\" style=\"width: 210px; float: left;\">\n",
       "                       <a href='https://www.arcgis.com/home/item.html?id=d957997ccee7408287a963600a77f61f' target='_blank'>\n",
       "                        <img src='https://www.arcgis.com/sharing/rest//content/items/d957997ccee7408287a963600a77f61f/info/thumbnail/thumbnail1589394128160.jpeg' class=\"itemThumbnail\">\n",
       "                       </a>\n",
       "                    </div>\n",
       "\n",
       "                    <div class=\"item_right\"     style=\"float: none; width: auto; overflow: hidden;\">\n",
       "                        <a href='https://www.arcgis.com/home/item.html?id=d957997ccee7408287a963600a77f61f' target='_blank'><b>USA Current Wildfires</b>\n",
       "                        </a>\n",
       "                        <br/>This layer shows wildfires that have been updated within the past 7 days in the United States from IRWIN and NIFC information.<img src='https://www.arcgis.com/home/js/jsapi/esri/css/images/item_type_icons/featureshosted16.png' style=\"vertical-align:middle;\">Feature Layer Collection by esri_livefeeds2\n",
       "                        <br/>Last Modified: April 05, 2021\n",
       "                        <br/>109 comments, 81,777,945 views\n",
       "                    </div>\n",
       "                </div>\n",
       "                "
      ],
      "text/plain": [
       "<Item title:\"USA Current Wildfires\" type:Feature Layer Collection owner:esri_livefeeds2>"
      ]
     },
     "metadata": {},
     "output_type": "display_data"
    },
    {
     "data": {
      "text/html": [
       "<div class=\"item_container\" style=\"height: auto; overflow: hidden; border: 1px solid #cfcfcf; border-radius: 2px; background: #f6fafa; line-height: 1.21429em; padding: 10px;\">\n",
       "                    <div class=\"item_left\" style=\"width: 210px; float: left;\">\n",
       "                       <a href='https://www.arcgis.com/home/item.html?id=dece90af1a0242dcbf0ca36d30276aa3' target='_blank'>\n",
       "                        <img src='https://www.arcgis.com/sharing/rest//content/items/dece90af1a0242dcbf0ca36d30276aa3/info/thumbnail/thumbnail1586453756149.png' class=\"itemThumbnail\">\n",
       "                       </a>\n",
       "                    </div>\n",
       "\n",
       "                    <div class=\"item_right\"     style=\"float: none; width: auto; overflow: hidden;\">\n",
       "                        <a href='https://www.arcgis.com/home/item.html?id=dece90af1a0242dcbf0ca36d30276aa3' target='_blank'><b>Satellite (VIIRS) Thermal Hotspots and Fire Activity</b>\n",
       "                        </a>\n",
       "                        <br/>Thermal activity detected by the VIIRS sensors on the NOAA/NASA Suomi NPP and NOAA-20 satellites during the last 7 days.<img src='https://www.arcgis.com/home/js/jsapi/esri/css/images/item_type_icons/featureshosted16.png' style=\"vertical-align:middle;\">Feature Layer Collection by esri_livefeeds2\n",
       "                        <br/>Last Modified: April 05, 2021\n",
       "                        <br/>33 comments, 41,331,622 views\n",
       "                    </div>\n",
       "                </div>\n",
       "                "
      ],
      "text/plain": [
       "<Item title:\"Satellite (VIIRS) Thermal Hotspots and Fire Activity\" type:Feature Layer Collection owner:esri_livefeeds2>"
      ]
     },
     "metadata": {},
     "output_type": "display_data"
    },
    {
     "data": {
      "text/html": [
       "<div class=\"item_container\" style=\"height: auto; overflow: hidden; border: 1px solid #cfcfcf; border-radius: 2px; background: #f6fafa; line-height: 1.21429em; padding: 10px;\">\n",
       "                    <div class=\"item_left\" style=\"width: 210px; float: left;\">\n",
       "                       <a href='https://www.arcgis.com/home/item.html?id=eee333118bd740268ba1cad0b78f83d6' target='_blank'>\n",
       "                        <img src='https://www.arcgis.com/sharing/rest//content/items/eee333118bd740268ba1cad0b78f83d6/info/thumbnail/ago_downloaded2.png' class=\"itemThumbnail\">\n",
       "                       </a>\n",
       "                    </div>\n",
       "\n",
       "                    <div class=\"item_right\"     style=\"float: none; width: auto; overflow: hidden;\">\n",
       "                        <a href='https://www.arcgis.com/home/item.html?id=eee333118bd740268ba1cad0b78f83d6' target='_blank'><b>Social Vulnerability 2010</b>\n",
       "                        </a>\n",
       "                        <br/>This map shows a simple summary of social vulnerability of populations in the United States.<img src='https://www.arcgis.com/home/js/jsapi/esri/css/images/item_type_icons/featureshosted16.png' style=\"vertical-align:middle;\">Feature Layer Collection by AtlasPublisher\n",
       "                        <br/>Last Modified: July 19, 2018\n",
       "                        <br/>0 comments, 336,494 views\n",
       "                    </div>\n",
       "                </div>\n",
       "                "
      ],
      "text/plain": [
       "<Item title:\"Social Vulnerability 2010\" type:Feature Layer Collection owner:AtlasPublisher>"
      ]
     },
     "metadata": {},
     "output_type": "display_data"
    },
    {
     "data": {
      "text/html": [
       "<div class=\"item_container\" style=\"height: auto; overflow: hidden; border: 1px solid #cfcfcf; border-radius: 2px; background: #f6fafa; line-height: 1.21429em; padding: 10px;\">\n",
       "                    <div class=\"item_left\" style=\"width: 210px; float: left;\">\n",
       "                       <a href='https://www.arcgis.com/home/item.html?id=b8f4033069f141729ffb298b7418b653' target='_blank'>\n",
       "                        <img src='https://www.arcgis.com/sharing/rest//content/items/b8f4033069f141729ffb298b7418b653/info/thumbnail/thumbnail1560896788298.jpeg' class=\"itemThumbnail\">\n",
       "                       </a>\n",
       "                    </div>\n",
       "\n",
       "                    <div class=\"item_right\"     style=\"float: none; width: auto; overflow: hidden;\">\n",
       "                        <a href='https://www.arcgis.com/home/item.html?id=b8f4033069f141729ffb298b7418b653' target='_blank'><b>Satellite (MODIS) Thermal Hotspots and Fire Activity</b>\n",
       "                        </a>\n",
       "                        <br/>Thermal activity detected by the MODIS sensors on the NASA Aqua and Terra satellites during the last 48 hours.<img src='https://www.arcgis.com/home/js/jsapi/esri/css/images/item_type_icons/featureshosted16.png' style=\"vertical-align:middle;\">Feature Layer Collection by esri_livefeeds2\n",
       "                        <br/>Last Modified: April 05, 2021\n",
       "                        <br/>12 comments, 39,028,203 views\n",
       "                    </div>\n",
       "                </div>\n",
       "                "
      ],
      "text/plain": [
       "<Item title:\"Satellite (MODIS) Thermal Hotspots and Fire Activity\" type:Feature Layer Collection owner:esri_livefeeds2>"
      ]
     },
     "metadata": {},
     "output_type": "display_data"
    },
    {
     "data": {
      "text/html": [
       "<div class=\"item_container\" style=\"height: auto; overflow: hidden; border: 1px solid #cfcfcf; border-radius: 2px; background: #f6fafa; line-height: 1.21429em; padding: 10px;\">\n",
       "                    <div class=\"item_left\" style=\"width: 210px; float: left;\">\n",
       "                       <a href='https://www.arcgis.com/home/item.html?id=59aa1171201f4a6e934fc691e72b7070' target='_blank'>\n",
       "                        <img src='https://www.arcgis.com/sharing/rest//content/items/59aa1171201f4a6e934fc691e72b7070/info/thumbnail/thumbnail.png' class=\"itemThumbnail\">\n",
       "                       </a>\n",
       "                    </div>\n",
       "\n",
       "                    <div class=\"item_right\"     style=\"float: none; width: auto; overflow: hidden;\">\n",
       "                        <a href='https://www.arcgis.com/home/item.html?id=59aa1171201f4a6e934fc691e72b7070' target='_blank'><b>All_Bus_Stops_in_Tempe_Transportation</b>\n",
       "                        </a>\n",
       "                        <br/>Fire Fly symbol #2<img src='https://www.arcgis.com/home/js/jsapi/esri/css/images/item_type_icons/featureshosted16.png' style=\"vertical-align:middle;\">Feature Layer Collection by jpreyes3_asu\n",
       "                        <br/>Last Modified: July 08, 2018\n",
       "                        <br/>0 comments, 187 views\n",
       "                    </div>\n",
       "                </div>\n",
       "                "
      ],
      "text/plain": [
       "<Item title:\"All_Bus_Stops_in_Tempe_Transportation\" type:Feature Layer Collection owner:jpreyes3_asu>"
      ]
     },
     "metadata": {},
     "output_type": "display_data"
    }
   ],
   "source": [
    "for i in public_content:\n",
    "    display(i)"
   ]
  },
  {
   "cell_type": "code",
   "execution_count": 7,
   "metadata": {},
   "outputs": [
    {
     "data": {
      "text/html": [
       "<div class=\"item_container\" style=\"height: auto; overflow: hidden; border: 1px solid #cfcfcf; border-radius: 2px; background: #f6fafa; line-height: 1.21429em; padding: 10px;\">\n",
       "                    <div class=\"item_left\" style=\"width: 210px; float: left;\">\n",
       "                       <a href='https://www.arcgis.com/home/item.html?id=d957997ccee7408287a963600a77f61f' target='_blank'>\n",
       "                        <img src='https://www.arcgis.com/sharing/rest//content/items/d957997ccee7408287a963600a77f61f/info/thumbnail/thumbnail1589394128160.jpeg' class=\"itemThumbnail\">\n",
       "                       </a>\n",
       "                    </div>\n",
       "\n",
       "                    <div class=\"item_right\"     style=\"float: none; width: auto; overflow: hidden;\">\n",
       "                        <a href='https://www.arcgis.com/home/item.html?id=d957997ccee7408287a963600a77f61f' target='_blank'><b>USA Current Wildfires</b>\n",
       "                        </a>\n",
       "                        <br/>This layer shows wildfires that have been updated within the past 7 days in the United States from IRWIN and NIFC information.<img src='https://www.arcgis.com/home/js/jsapi/esri/css/images/item_type_icons/featureshosted16.png' style=\"vertical-align:middle;\">Feature Layer Collection by esri_livefeeds2\n",
       "                        <br/>Last Modified: April 05, 2021\n",
       "                        <br/>109 comments, 81,777,945 views\n",
       "                    </div>\n",
       "                </div>\n",
       "                "
      ],
      "text/plain": [
       "<Item title:\"USA Current Wildfires\" type:Feature Layer Collection owner:esri_livefeeds2>"
      ]
     },
     "metadata": {},
     "output_type": "display_data"
    }
   ],
   "source": [
    "example_item = public_content[0]\n",
    "display(example_item)"
   ]
  },
  {
   "cell_type": "code",
   "execution_count": 11,
   "metadata": {},
   "outputs": [
    {
     "data": {
      "text/plain": [
       "['access',\n",
       " 'accessInformation',\n",
       " 'add_comment',\n",
       " 'add_relationship',\n",
       " 'appCategories',\n",
       " 'app_info',\n",
       " 'avgRating',\n",
       " 'banner',\n",
       " 'categories',\n",
       " 'clear',\n",
       " 'comments',\n",
       " 'contentStatus',\n",
       " 'content_status',\n",
       " 'copy',\n",
       " 'copy_feature_layer_collection',\n",
       " 'create_thumbnail',\n",
       " 'create_tile_service',\n",
       " 'created',\n",
       " 'culture',\n",
       " 'delete',\n",
       " 'delete_rating',\n",
       " 'delete_relationship',\n",
       " 'dependencies',\n",
       " 'dependent_to',\n",
       " 'dependent_upon',\n",
       " 'description',\n",
       " 'documentation',\n",
       " 'download',\n",
       " 'download_metadata',\n",
       " 'download_thumbnail',\n",
       " 'export',\n",
       " 'extent',\n",
       " 'fromkeys',\n",
       " 'get',\n",
       " 'get_data',\n",
       " 'get_thumbnail',\n",
       " 'get_thumbnail_link',\n",
       " 'groupDesignations',\n",
       " 'guid',\n",
       " 'homepage',\n",
       " 'id',\n",
       " 'industries',\n",
       " 'itemid',\n",
       " 'items',\n",
       " 'keys',\n",
       " 'languages',\n",
       " 'largeThumbnail',\n",
       " 'layers',\n",
       " 'licenseInfo',\n",
       " 'listed',\n",
       " 'metadata',\n",
       " 'modified',\n",
       " 'move',\n",
       " 'name',\n",
       " 'numComments',\n",
       " 'numRatings',\n",
       " 'numViews',\n",
       " 'orgId',\n",
       " 'owner',\n",
       " 'pop',\n",
       " 'popitem',\n",
       " 'properties',\n",
       " 'protect',\n",
       " 'proxies',\n",
       " 'proxyFilter',\n",
       " 'publish',\n",
       " 'rating',\n",
       " 'reassign_to',\n",
       " 'register',\n",
       " 'related_items',\n",
       " 'resources',\n",
       " 'scoreCompleteness',\n",
       " 'screenshots',\n",
       " 'setdefault',\n",
       " 'share',\n",
       " 'shared_with',\n",
       " 'snippet',\n",
       " 'spatialReference',\n",
       " 'status',\n",
       " 'subInfo',\n",
       " 'tables',\n",
       " 'tags',\n",
       " 'thumbnail',\n",
       " 'title',\n",
       " 'type',\n",
       " 'typeKeywords',\n",
       " 'unregister',\n",
       " 'unshare',\n",
       " 'update',\n",
       " 'url',\n",
       " 'usage',\n",
       " 'values']"
      ]
     },
     "execution_count": 11,
     "metadata": {},
     "output_type": "execute_result"
    }
   ],
   "source": [
    "[i for i in dir(example_item) if not str(i).startswith(\"_\")]"
   ]
  },
  {
   "cell_type": "code",
   "execution_count": 11,
   "metadata": {},
   "outputs": [
    {
     "data": {
      "application/vnd.jupyter.widget-view+json": {
       "model_id": "e1dc6d095b32473eb19771ffbc9bdc79",
       "version_major": 2,
       "version_minor": 0
      },
      "text/plain": [
       "MapView(layout=Layout(height='400px', width='100%'))"
      ]
     },
     "metadata": {},
     "output_type": "display_data"
    },
    {
     "data": {
      "text/html": [
       "<div class=\"map-static-img-preview-5f8d9fd0-783e-43fd-9873-2b9c1fd3e5c9\"><img src=\"\"></img></div>"
      ],
      "text/plain": [
       "<IPython.core.display.HTML object>"
      ]
     },
     "metadata": {},
     "output_type": "display_data"
    },
    {
     "data": {
      "text/html": [
       "<div class=\"map-html-embed-preview-5f8d9fd0-783e-43fd-9873-2b9c1fd3e5c9\"></div>"
      ],
      "text/plain": [
       "<IPython.core.display.HTML object>"
      ]
     },
     "metadata": {},
     "output_type": "display_data"
    }
   ],
   "source": [
    "# Create new map object\n",
    "exmap = gis.map()\n",
    "\n",
    "# Focus to the part of the world with the example item\n",
    "exmap.extent = example_item.extent\n",
    "\n",
    "# Display map\n",
    "display(exmap)"
   ]
  },
  {
   "cell_type": "code",
   "execution_count": 12,
   "metadata": {},
   "outputs": [],
   "source": [
    "exmap.add_layer(example_item)"
   ]
  }
 ],
 "metadata": {
  "kernelspec": {
   "display_name": "Python 3",
   "language": "python",
   "name": "python3"
  },
  "language_info": {
   "codemirror_mode": {
    "name": "ipython",
    "version": 3
   },
   "file_extension": ".py",
   "mimetype": "text/x-python",
   "name": "python",
   "nbconvert_exporter": "python",
   "pygments_lexer": "ipython3",
   "version": "3.7.4"
  }
 },
 "nbformat": 4,
 "nbformat_minor": 4
}
