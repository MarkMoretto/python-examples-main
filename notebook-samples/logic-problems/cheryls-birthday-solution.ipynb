{
 "cells": [
  {
   "cell_type": "markdown",
   "metadata": {},
   "source": [
    "### When is Cheryl's Birthday?\n",
    "\n",
    "**Note**: A better \"overview\" can be found in [this](https://github.com/norvig/pytudes/blob/master/ipynb/Cheryl.ipynb) notebook.\n",
    "\n",
    "[This](https://www.cnn.com/2015/04/15/living/feat-cheryl-birthday-math-problem-goes-viral/index.html) puzzle has been around since 2015.  I came across it the other day (in 2020) and decided to try and create a solution.\n",
    "\n",
    "Briefly, the puzzle states:\n",
    "\n",
    "\n",
    ">Albert and Bernard became friends with Cheryl, and want to know when her birthday is. Cheryl gave them a list of 10 possible dates:\n",
    "\n",
    "\n",
    "| May | June | July | August |\n",
    "|:---:|:---:|:---:|:---:|\n",
    "|  |  | 14 | 14 |\n",
    "| 15 |  |  | 15 |\n",
    "| 16 |  | 16 |  |\n",
    "|  | 17 |  | 17 |\n",
    "|  | 18 |  |  |\n",
    "| 19 |  |  |  |\n",
    "\n",
    ">Cheryl then tells Albert and Bernard separately the month and the day of the birthday respectively.\n",
    ">Albert: \"I don't know when Cheryl's birthday is, and I know that Bernard does not know.\"\n",
    ">Bernard: \"At first I don't know when Cheryl's birthday is, but I know now.\"\n",
    ">Albert: \"Then I also know when Cheryl's birthday is.\"\n",
    ">So when is Cheryl's birthday?\n"
   ]
  },
  {
   "cell_type": "markdown",
   "metadata": {},
   "source": [
    "Without further ado, here's our BirthdayFinder class."
   ]
  },
  {
   "cell_type": "code",
   "execution_count": 3,
   "metadata": {},
   "outputs": [],
   "source": [
    "class BirthdayFinder:\n",
    "    \"\"\"\n",
    "    BirthdayFinder class\n",
    "\n",
    "    Argument:\n",
    "        kwargs: key-value map of months and days.\n",
    "                Both keys (months) and values (days) should be in\n",
    "                string format.\n",
    "\n",
    "    Example argument:\n",
    "        bd_hints = {\n",
    "              'may': ['15', '16', '19'],\n",
    "              'june': ['17', '18'],\n",
    "              'july': ['14', '16'],\n",
    "              'august': ['14', '15', '17'],\n",
    "              }        \n",
    "\n",
    "    Returns:\n",
    "        Call <self>.run() and the date should print out.\n",
    "        There will also be a variable called \"result\" that will house the month and day in a \n",
    "            dictionary collection\n",
    "    \"\"\"\n",
    "    def __init__(self, **kwargs):\n",
    "        self.calendar = kwargs # Setting kwargs\n",
    "        self.months = list(self.calendar.keys())\n",
    "        self.days = None\n",
    "        self.day_counts = None\n",
    "        self.dpm = None # Days per month\n",
    "        self.flatten_values() # Sets self.days\n",
    "        self.update_day_counts() # Sets self.day_counts\n",
    "        self.result  = None # Will be a dictionary of month and day.\n",
    "\n",
    "    def __repr__(self):\n",
    "        mth_str = \", \".join(self.months[:-1]) + f\", and {xyz[-1]}\"\n",
    "        return f\"<{self.__class__.__name__} for the months of {mth_str}>\"\n",
    "\n",
    "    def days_per_month(self):\n",
    "        \"\"\"Find the length of each month's \"daus\" list.\"\"\"\n",
    "        self.dpm = {k:len(v) for k, v in self.calendar.items()}\n",
    "\n",
    "\n",
    "    def flatten_values(self):\n",
    "        \"\"\"Put all the day numbers into a list.\"\"\"\n",
    "        self.days = [i for j in self.calendar.values() for i in j]\n",
    "\n",
    "\n",
    "    def update_day_counts(self):\n",
    "        \"\"\"\n",
    "        Get the frequency count for each day number in our flattened list.\n",
    "        Populates self.day_counts variable on running.\n",
    "        \"\"\"\n",
    "        self.flatten_values()\n",
    "        tmp_ = dict()\n",
    "        for v in self.days:\n",
    "            if not v in tmp_.keys():\n",
    "                tmp_[v] = 1\n",
    "            else:\n",
    "                tmp_[v] += 1\n",
    "        self.day_counts = dict(sorted(tmp_.items()))\n",
    "\n",
    "\n",
    "    def delete_singles(self):\n",
    "        \"\"\"Delete months that contain single days.\"\"\"\n",
    "\n",
    "        # Update remaining days and day counts\n",
    "        self.update_day_counts()\n",
    "        \n",
    "        # List to hold months that we're going to remove\n",
    "        # We'll take this method to avoid a key deletion error.\n",
    "        del_months = list()\n",
    "\n",
    "        for dy, ct in self.day_counts.items():\n",
    "            for mth in self.months:\n",
    "                if ct == 1:\n",
    "                    if dy in self.calendar[mth]:\n",
    "                        del_months.append(mth)\n",
    "        \n",
    "        for mth in del_months:\n",
    "            del self.calendar[mth]\n",
    "            # is_deleted.append(self.calendar.pop(mth, None))\n",
    "\n",
    "\n",
    "\n",
    "    def delete_duplicate_days(self):\n",
    "        \"\"\"Delete duplicate days based on all remaining days.\"\"\"\n",
    "\n",
    "        # Create \"worker\" list\n",
    "        multi_days = []\n",
    "\n",
    "        # Update remaining days and day counts\n",
    "        self.update_day_counts()\n",
    "\n",
    "        # Populate worker list with days that have a count above 1.\n",
    "        multi_days[:] = [day for day, ct in self.day_counts.items() if ct > 1]\n",
    "\n",
    "        # Iterate over our calendar of dates, check to see if a day\n",
    "        # is in out newly-created list, remove it if so.\n",
    "        for mth, days in self.calendar.items():\n",
    "            for d in multi_days:\n",
    "                days.remove(d)\n",
    "\n",
    "\n",
    "    def get_solution(self):\n",
    "        \"\"\"\n",
    "        Determine the month with a single day and set our result dictionary to \n",
    "        their respective values.\n",
    "        \"\"\"\n",
    "        # Set self.dpm variable\n",
    "        self.days_per_month()\n",
    "        \n",
    "        # Create empty result dictionary.\n",
    "        self.result = dict(month=\"\", day=\"\")\n",
    "        \n",
    "        # Run through our days-per-month variable and find a length of 1.\n",
    "        # Update the result dictionary with month and day.\n",
    "        for m, ct in self.dpm.items():\n",
    "            if ct == 1:\n",
    "                self.result[\"month\"] = m\n",
    "                self.result[\"day\"] = self.calendar[m][0]\n",
    "\n",
    "    def run(self):\n",
    "        \"\"\"Run it all and print the result.\"\"\"\n",
    "        self.delete_singles()\n",
    "        self.delete_duplicate_days()\n",
    "        self.get_solution()\n",
    "\n",
    "        if len(self.result) > 0:\n",
    "            mth = self.result[\"month\"]\n",
    "            day = self.result[\"day\"]\n",
    "            print(f\"Cheryl's birthday is: {mth} {day}\")"
   ]
  },
  {
   "cell_type": "markdown",
   "metadata": {},
   "source": [
    "We can create our sample \"caldendar\" and instantiate a BirthdayFinder class with the given calendar."
   ]
  },
  {
   "cell_type": "code",
   "execution_count": 4,
   "metadata": {},
   "outputs": [],
   "source": [
    "dd = {\n",
    "      'may': ['15', '16', '19'],\n",
    "      'june': ['17', '18'],\n",
    "      'july': ['14', '16'],\n",
    "      'august': ['14', '15', '17'],\n",
    "      }\n",
    "\n",
    "bf = BirthdayFinder(**dd)"
   ]
  },
  {
   "cell_type": "markdown",
   "metadata": {},
   "source": [
    "Print the calendar to check."
   ]
  },
  {
   "cell_type": "code",
   "execution_count": 5,
   "metadata": {},
   "outputs": [
    {
     "data": {
      "text/plain": [
       "{'may': ['15', '16', '19'],\n",
       " 'june': ['17', '18'],\n",
       " 'july': ['14', '16'],\n",
       " 'august': ['14', '15', '17']}"
      ]
     },
     "execution_count": 5,
     "metadata": {},
     "output_type": "execute_result"
    }
   ],
   "source": [
    "bf.calendar"
   ]
  },
  {
   "cell_type": "markdown",
   "metadata": {},
   "source": [
    "Print our initial list of days (unordered)."
   ]
  },
  {
   "cell_type": "code",
   "execution_count": 6,
   "metadata": {},
   "outputs": [
    {
     "data": {
      "text/plain": [
       "['15', '16', '19', '17', '18', '14', '16', '14', '15', '17']"
      ]
     },
     "execution_count": 6,
     "metadata": {},
     "output_type": "execute_result"
    }
   ],
   "source": [
    "bf.days"
   ]
  },
  {
   "cell_type": "markdown",
   "metadata": {},
   "source": [
    "Finally, run the class and see if we get the expected solution.\n",
    "\n",
    "In this case, the solution should be July 16."
   ]
  },
  {
   "cell_type": "code",
   "execution_count": 7,
   "metadata": {},
   "outputs": [
    {
     "name": "stdout",
     "output_type": "stream",
     "text": [
      "Cheryl's birthday is: july 16\n"
     ]
    }
   ],
   "source": [
    "bf.run()"
   ]
  }
 ],
 "metadata": {
  "kernelspec": {
   "display_name": "Python 3",
   "language": "python",
   "name": "python3"
  },
  "language_info": {
   "codemirror_mode": {
    "name": "ipython",
    "version": 3
   },
   "file_extension": ".py",
   "mimetype": "text/x-python",
   "name": "python",
   "nbconvert_exporter": "python",
   "pygments_lexer": "ipython3",
   "version": "3.7.4"
  }
 },
 "nbformat": 4,
 "nbformat_minor": 4
}
