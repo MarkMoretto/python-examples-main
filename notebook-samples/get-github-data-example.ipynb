{
 "cells": [
  {
   "cell_type": "code",
   "execution_count": 12,
   "metadata": {},
   "outputs": [],
   "source": [
    "from __future__ import print_function\n",
    "from ipywidgets import interact, interactive, fixed, interact_manual\n",
    "import ipywidgets as widgets"
   ]
  },
  {
   "cell_type": "code",
   "execution_count": 13,
   "metadata": {},
   "outputs": [],
   "source": [
    "def f(x):\n",
    "    return x"
   ]
  },
  {
   "cell_type": "code",
   "execution_count": 14,
   "metadata": {},
   "outputs": [
    {
     "data": {
      "text/plain": [
       "10"
      ]
     },
     "metadata": {},
     "output_type": "display_data"
    },
    {
     "data": {
      "text/plain": [
       "<function f at 0x000001F824B55288>"
      ]
     },
     "execution_count": 14,
     "metadata": {},
     "output_type": "execute_result"
    }
   ],
   "source": [
    "interact(f, x=10)"
   ]
  },
  {
   "cell_type": "markdown",
   "metadata": {},
   "source": [
    "[//]: # '<link rel=\"stylesheet\" href=\"assets/css/bootstrap-slider.min.css\" />'\n",
    "[//]: # '<script src=\"assets/js/bootstrap-slider.min.js\"></script>'"
   ]
  },
  {
   "cell_type": "markdown",
   "metadata": {},
   "source": [
    "<link rel=\"stylesheet\" href=\"assets\\css\\bootstrap-slider.min.css\" />\n",
    "<script src=\"assets\\js\\bootstrap-slider.min.js\"></script>"
   ]
  },
  {
   "cell_type": "markdown",
   "metadata": {},
   "source": [
    "<style>\n",
    "div.container {\n",
    "    font-optical-sizing: none; \n",
    "    font-optical-sizing: auto; \n",
    "}\n",
    "\n",
    "div {\n",
    "    word-wrap: break-word;\n",
    "}\n",
    "\n",
    "p.big-bold {\n",
    "    font-style: normal;\n",
    "    font-size: 1.2em;\n",
    "}\n",
    "\n",
    "/* Bootstrap slider CSS */\n",
    "#ex1Slider .slider-selection {\n",
    "\tbackground: #BABABA;\n",
    "}    \n",
    "</style>\n",
    "\n",
    "<script type=\"text/javascript\">\n",
    "var slider = new Slider('#ex1', {\n",
    "\tformatter: function(value) {\n",
    "\t\treturn 'Current value: ' + value;\n",
    "\t}\n",
    "});    \n",
    "</script>"
   ]
  },
  {
   "cell_type": "markdown",
   "metadata": {},
   "source": [
    "<div class=\"container\">\n",
    "    <div class=\"well\">\n",
    "        <div id=\"ex1\" data-slider-id='ex1Slider' type=\"text\" data-slider-min=\"0\" data-slider-max=\"20\" data-slider-step=\"1\" data-slider-value=\"14\"></div>\n",
    "        </div>\n",
    "</div>"
   ]
  },
  {
   "cell_type": "markdown",
   "metadata": {},
   "source": [
    "#### Getting data directly from GitHub\n",
    "\n",
    "The followingis a demo notebook to show the process of downloading data files directly from GitHub.com. This would be useful for following examples/tutorials on GiuHub, or just working with data stored in the cloud without having to take up too much lcoal storage.\n",
    "\n",
    "The main repo we'll be using for demonstration is a biostats review posted by user cliburn.\n",
    "URL: https://github.com/cliburn/biostatistics-review"
   ]
  },
  {
   "cell_type": "code",
   "execution_count": 1,
   "metadata": {},
   "outputs": [],
   "source": [
    "# Standard libraries\n",
    "import re\n",
    "import os.path\n",
    "import urllib.request as ureq\n",
    "\n",
    "# Third-party libraries\n",
    "import pandas as pd"
   ]
  },
  {
   "cell_type": "markdown",
   "metadata": {},
   "source": [
    "<style>\n",
    ".big-bold {\n",
    "    \n",
    "}\n",
    "</style>\n",
    "Set `FILE_EXTENSION` to desired file format. (Extensions should be in quotation marks -> '.csv')\n",
    "\n",
    "Note: Users can add multiple types to a tuple if necessary. ('.csv','.txt')\n",
    "\n",
    "<div>\n",
    "    <p>Hello!</p>\n",
    "</div>\n",
    "\n"
   ]
  },
  {
   "cell_type": "code",
   "execution_count": null,
   "metadata": {},
   "outputs": [],
   "source": [
    "FILE_EXTENSION = \"csv\""
   ]
  },
  {
   "cell_type": "code",
   "execution_count": null,
   "metadata": {},
   "outputs": [],
   "source": [
    "#-- Example user and path to subfolder containing data.\n",
    "username = \"cliburn\"\n",
    "data_subfolder = r\"biostatistics-review/tree/master/data\"\n",
    "\n",
    "#-- Base URIs and repo path construction.\n",
    "base = r\"https://github.com\"\n",
    "base_raw = r\"https://raw.githubusercontent.com\"\n",
    "repo_uri = ureq.urljoin(base, f\"{username}/{data_subfolder}\")\n",
    "\n",
    "#-- Import HTML data\n",
    "with ureq.urlopen(repo_uri) as f:\n",
    "    data = f.read().decode('utf-8')\n",
    "\n",
    "#-- Extract href link from <span> tag; Only keep those that match our extension.\n",
    "matches = re.findall(r'<span\\s.*?href\\=\"(.*?)\"', data, flags=re.DOTALL)\n",
    "csv_links = [ureq.urljoin(base_raw, i) for i in matches if str(i).endswith(FILE_EXTENSION)]\n"
   ]
  },
  {
   "cell_type": "code",
   "execution_count": null,
   "metadata": {},
   "outputs": [],
   "source": [
    "l_dict = {}\n",
    "for link in csv_links:\n",
    "    blob_free_link = re.sub(r\"(.+)(blob/)(.+)\", r\"\\1\\3\", link)\n",
    "    basename = os.path.basename(link).split(\".\")[0]\n",
    "    l_dict[basename] = blob_free_link\n",
    "\n",
    "# Eval each link with pandas (or another method) to draw in data\n",
    "for k, v in l_dict.items():\n",
    "    exec_str = f\"df_{k} = pd.read_csv(r\\\"{v}\\\", header=None,)\"\n",
    "    exec(exec_str)\n",
    "\n",
    "#-- Get and print list of DataFrames in local environment.\n",
    "df_name_list = [k for k in locals().keys() if str(k).startswith(\"df_\")]\n",
    "print(df_name_list)"
   ]
  }
 ],
 "metadata": {
  "kernelspec": {
   "display_name": "Python 3",
   "language": "python",
   "name": "python3"
  },
  "language_info": {
   "codemirror_mode": {
    "name": "ipython",
    "version": 3
   },
   "file_extension": ".py",
   "mimetype": "text/x-python",
   "name": "python",
   "nbconvert_exporter": "python",
   "pygments_lexer": "ipython3",
   "version": "3.7.4"
  }
 },
 "nbformat": 4,
 "nbformat_minor": 2
}
