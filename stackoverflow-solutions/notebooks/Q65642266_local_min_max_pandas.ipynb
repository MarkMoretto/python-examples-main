{
 "cells": [
  {
   "cell_type": "markdown",
   "metadata": {},
   "source": [
    "# Finding maxima and minima at certain points Pandas Python\n",
    "\n",
    "[stackoverflow.com/questions/65642266](https://stackoverflow.com/questions/65642266/finding-maxima-and-minima-at-certain-points-pandas-python)\n",
    "\n",
    "### Question - \n",
    "\n",
    "\n",
    "Given the following:\n",
    "\n",
    "```python\n",
    "toy = pd.DataFrame({\n",
    "                'price': [100, 103, 107, 105, 99, 96, 98, 103],\n",
    "                'barrier': [102, 102, 102,102,102,102, 102, 102],\n",
    "                'date': ['2020-02-28', '2020-03-01', '2020-03-02','2020-03-03', '2020-03-04', '2020- \n",
    "                          03-05', '2020-03-06', '2020-03-07']})\n",
    "\n",
    "toy['date'] = pd.to_datetime(toy['date']) #just make datetime obj\n",
    "toy['rets'] = np.log(toy['price']/toy['price'].shift(1))\n",
    "toy['ret_cum'] = toy['rets'].cumsum()\n",
    "toy['loop'] = [0, 103, 0, 0, 99, 0, 0, 103] #some signal\n",
    "toy['inten'] = 0.0 #initialize\n",
    "```\n",
    "\n",
    "I would like `toy['inten']` to be `max(toy['ret_cum'].iloc[1,4])` when loop is 99 (ie 0.067..) , then `min(toy['ret_cum'].iloc[5,7])` (ie -0.0408) when loop is 103 and so on.\n",
    "\n",
    "More generally, `np.where(toy['loop'] != 0)` yields (1,4,7)...and i'd like to check the maximum levels reached in the interval 1 to 4, then 5 to 7 etc."
   ]
  }
 ],
 "metadata": {
  "kernelspec": {
   "display_name": "Python 3",
   "language": "python",
   "name": "python3"
  },
  "language_info": {
   "codemirror_mode": {
    "name": "ipython",
    "version": 3
   },
   "file_extension": ".py",
   "mimetype": "text/x-python",
   "name": "python",
   "nbconvert_exporter": "python",
   "pygments_lexer": "ipython3",
   "version": "3.7.4"
  }
 },
 "nbformat": 4,
 "nbformat_minor": 4
}
